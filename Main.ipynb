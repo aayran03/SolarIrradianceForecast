{
 "cells": [
  {
   "cell_type": "code",
   "execution_count": 1,
   "id": "74487e92",
   "metadata": {},
   "outputs": [],
   "source": [
    "import tensorflow as tf\n",
    "import os\n",
    "import pandas as pd\n",
    "import numpy as np\n",
    "from tensorflow.keras.models import Sequential\n",
    "from tensorflow.keras.layers import *\n",
    "from tensorflow.keras.callbacks import ModelCheckpoint\n",
    "from tensorflow.keras.losses import MeanSquaredError\n",
    "from tensorflow.keras.metrics import RootMeanSquaredError\n",
    "from tensorflow.keras.optimizers import Adam\n",
    "import matplotlib.pyplot as plt\n",
    "from sklearn.metrics import mean_squared_error\n",
    "import tensorflow as tf\n",
    "from tensorflow.keras.models import Sequential\n",
    "from tensorflow.keras.layers import Conv1D, MaxPooling1D, LSTM, Dense\n",
    "from keras.models import load_model\n"
   ]
  },
  {
   "cell_type": "code",
   "execution_count": 2,
   "id": "c91bad6e",
   "metadata": {},
   "outputs": [
    {
     "data": {
      "text/html": [
       "<div>\n",
       "<style scoped>\n",
       "    .dataframe tbody tr th:only-of-type {\n",
       "        vertical-align: middle;\n",
       "    }\n",
       "\n",
       "    .dataframe tbody tr th {\n",
       "        vertical-align: top;\n",
       "    }\n",
       "\n",
       "    .dataframe thead th {\n",
       "        text-align: right;\n",
       "    }\n",
       "</style>\n",
       "<table border=\"1\" class=\"dataframe\">\n",
       "  <thead>\n",
       "    <tr style=\"text-align: right;\">\n",
       "      <th></th>\n",
       "      <th>name</th>\n",
       "      <th>datetime</th>\n",
       "      <th>temp</th>\n",
       "      <th>feelslike</th>\n",
       "      <th>dew</th>\n",
       "      <th>humidity</th>\n",
       "      <th>precip</th>\n",
       "      <th>precipprob</th>\n",
       "      <th>preciptype</th>\n",
       "      <th>snow</th>\n",
       "      <th>...</th>\n",
       "      <th>sealevelpressure</th>\n",
       "      <th>cloudcover</th>\n",
       "      <th>visibility</th>\n",
       "      <th>solarradiation</th>\n",
       "      <th>solarenergy</th>\n",
       "      <th>uvindex</th>\n",
       "      <th>severerisk</th>\n",
       "      <th>conditions</th>\n",
       "      <th>icon</th>\n",
       "      <th>stations</th>\n",
       "    </tr>\n",
       "  </thead>\n",
       "  <tbody>\n",
       "    <tr>\n",
       "      <th>0</th>\n",
       "      <td>New Delhi</td>\n",
       "      <td>2023-01-01T00:00:00</td>\n",
       "      <td>11.0</td>\n",
       "      <td>11.0</td>\n",
       "      <td>10.0</td>\n",
       "      <td>93.55</td>\n",
       "      <td>0.0</td>\n",
       "      <td>0</td>\n",
       "      <td>NaN</td>\n",
       "      <td>0</td>\n",
       "      <td>...</td>\n",
       "      <td>1020.0</td>\n",
       "      <td>0.0</td>\n",
       "      <td>2.0</td>\n",
       "      <td>0</td>\n",
       "      <td>0.0</td>\n",
       "      <td>0</td>\n",
       "      <td>10</td>\n",
       "      <td>Clear</td>\n",
       "      <td>clear-night</td>\n",
       "      <td>VIDP,42181099999</td>\n",
       "    </tr>\n",
       "    <tr>\n",
       "      <th>1</th>\n",
       "      <td>New Delhi</td>\n",
       "      <td>2023-01-01T01:00:00</td>\n",
       "      <td>10.0</td>\n",
       "      <td>9.6</td>\n",
       "      <td>9.0</td>\n",
       "      <td>93.50</td>\n",
       "      <td>0.0</td>\n",
       "      <td>0</td>\n",
       "      <td>NaN</td>\n",
       "      <td>0</td>\n",
       "      <td>...</td>\n",
       "      <td>1020.0</td>\n",
       "      <td>0.0</td>\n",
       "      <td>2.0</td>\n",
       "      <td>0</td>\n",
       "      <td>0.0</td>\n",
       "      <td>0</td>\n",
       "      <td>10</td>\n",
       "      <td>Clear</td>\n",
       "      <td>clear-night</td>\n",
       "      <td>VIDP,42181099999</td>\n",
       "    </tr>\n",
       "    <tr>\n",
       "      <th>2</th>\n",
       "      <td>New Delhi</td>\n",
       "      <td>2023-01-01T02:00:00</td>\n",
       "      <td>8.6</td>\n",
       "      <td>8.6</td>\n",
       "      <td>7.6</td>\n",
       "      <td>93.83</td>\n",
       "      <td>0.0</td>\n",
       "      <td>0</td>\n",
       "      <td>NaN</td>\n",
       "      <td>0</td>\n",
       "      <td>...</td>\n",
       "      <td>1019.5</td>\n",
       "      <td>5.0</td>\n",
       "      <td>1.2</td>\n",
       "      <td>0</td>\n",
       "      <td>0.0</td>\n",
       "      <td>0</td>\n",
       "      <td>10</td>\n",
       "      <td>Clear</td>\n",
       "      <td>clear-night</td>\n",
       "      <td>42182099999,VIDP,42181099999</td>\n",
       "    </tr>\n",
       "    <tr>\n",
       "      <th>3</th>\n",
       "      <td>New Delhi</td>\n",
       "      <td>2023-01-01T03:00:00</td>\n",
       "      <td>10.0</td>\n",
       "      <td>10.0</td>\n",
       "      <td>9.0</td>\n",
       "      <td>93.50</td>\n",
       "      <td>0.0</td>\n",
       "      <td>0</td>\n",
       "      <td>NaN</td>\n",
       "      <td>0</td>\n",
       "      <td>...</td>\n",
       "      <td>1019.0</td>\n",
       "      <td>0.0</td>\n",
       "      <td>2.0</td>\n",
       "      <td>0</td>\n",
       "      <td>0.0</td>\n",
       "      <td>0</td>\n",
       "      <td>10</td>\n",
       "      <td>Clear</td>\n",
       "      <td>clear-night</td>\n",
       "      <td>VIDP,42181099999</td>\n",
       "    </tr>\n",
       "    <tr>\n",
       "      <th>4</th>\n",
       "      <td>New Delhi</td>\n",
       "      <td>2023-01-01T04:00:00</td>\n",
       "      <td>9.0</td>\n",
       "      <td>8.5</td>\n",
       "      <td>9.0</td>\n",
       "      <td>100.00</td>\n",
       "      <td>0.0</td>\n",
       "      <td>0</td>\n",
       "      <td>NaN</td>\n",
       "      <td>0</td>\n",
       "      <td>...</td>\n",
       "      <td>1019.0</td>\n",
       "      <td>0.0</td>\n",
       "      <td>1.0</td>\n",
       "      <td>0</td>\n",
       "      <td>0.0</td>\n",
       "      <td>0</td>\n",
       "      <td>10</td>\n",
       "      <td>Clear</td>\n",
       "      <td>clear-night</td>\n",
       "      <td>VIDP,42181099999</td>\n",
       "    </tr>\n",
       "    <tr>\n",
       "      <th>...</th>\n",
       "      <td>...</td>\n",
       "      <td>...</td>\n",
       "      <td>...</td>\n",
       "      <td>...</td>\n",
       "      <td>...</td>\n",
       "      <td>...</td>\n",
       "      <td>...</td>\n",
       "      <td>...</td>\n",
       "      <td>...</td>\n",
       "      <td>...</td>\n",
       "      <td>...</td>\n",
       "      <td>...</td>\n",
       "      <td>...</td>\n",
       "      <td>...</td>\n",
       "      <td>...</td>\n",
       "      <td>...</td>\n",
       "      <td>...</td>\n",
       "      <td>...</td>\n",
       "      <td>...</td>\n",
       "      <td>...</td>\n",
       "      <td>...</td>\n",
       "    </tr>\n",
       "    <tr>\n",
       "      <th>10483</th>\n",
       "      <td>new delhi</td>\n",
       "      <td>2024-03-12T19:00:00</td>\n",
       "      <td>25.0</td>\n",
       "      <td>25.0</td>\n",
       "      <td>12.0</td>\n",
       "      <td>44.28</td>\n",
       "      <td>0.0</td>\n",
       "      <td>0</td>\n",
       "      <td>NaN</td>\n",
       "      <td>0</td>\n",
       "      <td>...</td>\n",
       "      <td>1014.0</td>\n",
       "      <td>0.0</td>\n",
       "      <td>4.0</td>\n",
       "      <td>41</td>\n",
       "      <td>0.1</td>\n",
       "      <td>0</td>\n",
       "      <td>10</td>\n",
       "      <td>Clear</td>\n",
       "      <td>clear-night</td>\n",
       "      <td>VIDP,42181099999</td>\n",
       "    </tr>\n",
       "    <tr>\n",
       "      <th>10484</th>\n",
       "      <td>new delhi</td>\n",
       "      <td>2024-03-12T20:00:00</td>\n",
       "      <td>22.8</td>\n",
       "      <td>22.8</td>\n",
       "      <td>13.9</td>\n",
       "      <td>57.44</td>\n",
       "      <td>0.0</td>\n",
       "      <td>0</td>\n",
       "      <td>NaN</td>\n",
       "      <td>0</td>\n",
       "      <td>...</td>\n",
       "      <td>1013.1</td>\n",
       "      <td>0.0</td>\n",
       "      <td>2.3</td>\n",
       "      <td>0</td>\n",
       "      <td>0.0</td>\n",
       "      <td>0</td>\n",
       "      <td>10</td>\n",
       "      <td>Clear</td>\n",
       "      <td>clear-night</td>\n",
       "      <td>42182099999,VIDP,42181099999</td>\n",
       "    </tr>\n",
       "    <tr>\n",
       "      <th>10485</th>\n",
       "      <td>new delhi</td>\n",
       "      <td>2024-03-12T21:00:00</td>\n",
       "      <td>23.0</td>\n",
       "      <td>23.0</td>\n",
       "      <td>14.0</td>\n",
       "      <td>56.90</td>\n",
       "      <td>0.0</td>\n",
       "      <td>0</td>\n",
       "      <td>NaN</td>\n",
       "      <td>0</td>\n",
       "      <td>...</td>\n",
       "      <td>1015.0</td>\n",
       "      <td>0.0</td>\n",
       "      <td>4.0</td>\n",
       "      <td>0</td>\n",
       "      <td>0.0</td>\n",
       "      <td>0</td>\n",
       "      <td>10</td>\n",
       "      <td>Clear</td>\n",
       "      <td>clear-night</td>\n",
       "      <td>VIDP,42181099999</td>\n",
       "    </tr>\n",
       "    <tr>\n",
       "      <th>10486</th>\n",
       "      <td>new delhi</td>\n",
       "      <td>2024-03-12T22:00:00</td>\n",
       "      <td>23.0</td>\n",
       "      <td>23.0</td>\n",
       "      <td>13.0</td>\n",
       "      <td>53.32</td>\n",
       "      <td>0.0</td>\n",
       "      <td>0</td>\n",
       "      <td>NaN</td>\n",
       "      <td>0</td>\n",
       "      <td>...</td>\n",
       "      <td>1015.0</td>\n",
       "      <td>0.0</td>\n",
       "      <td>4.0</td>\n",
       "      <td>0</td>\n",
       "      <td>0.0</td>\n",
       "      <td>0</td>\n",
       "      <td>10</td>\n",
       "      <td>Clear</td>\n",
       "      <td>clear-night</td>\n",
       "      <td>VIDP,42181099999</td>\n",
       "    </tr>\n",
       "    <tr>\n",
       "      <th>10487</th>\n",
       "      <td>new delhi</td>\n",
       "      <td>2024-03-12T23:00:00</td>\n",
       "      <td>20.6</td>\n",
       "      <td>20.6</td>\n",
       "      <td>14.7</td>\n",
       "      <td>68.71</td>\n",
       "      <td>0.0</td>\n",
       "      <td>0</td>\n",
       "      <td>NaN</td>\n",
       "      <td>0</td>\n",
       "      <td>...</td>\n",
       "      <td>1013.5</td>\n",
       "      <td>0.0</td>\n",
       "      <td>2.3</td>\n",
       "      <td>0</td>\n",
       "      <td>0.0</td>\n",
       "      <td>0</td>\n",
       "      <td>10</td>\n",
       "      <td>Clear</td>\n",
       "      <td>clear-night</td>\n",
       "      <td>42182099999,VIDP,42181099999</td>\n",
       "    </tr>\n",
       "  </tbody>\n",
       "</table>\n",
       "<p>10488 rows × 24 columns</p>\n",
       "</div>"
      ],
      "text/plain": [
       "            name             datetime  temp  feelslike   dew  humidity  \\\n",
       "0      New Delhi  2023-01-01T00:00:00  11.0       11.0  10.0     93.55   \n",
       "1      New Delhi  2023-01-01T01:00:00  10.0        9.6   9.0     93.50   \n",
       "2      New Delhi  2023-01-01T02:00:00   8.6        8.6   7.6     93.83   \n",
       "3      New Delhi  2023-01-01T03:00:00  10.0       10.0   9.0     93.50   \n",
       "4      New Delhi  2023-01-01T04:00:00   9.0        8.5   9.0    100.00   \n",
       "...          ...                  ...   ...        ...   ...       ...   \n",
       "10483  new delhi  2024-03-12T19:00:00  25.0       25.0  12.0     44.28   \n",
       "10484  new delhi  2024-03-12T20:00:00  22.8       22.8  13.9     57.44   \n",
       "10485  new delhi  2024-03-12T21:00:00  23.0       23.0  14.0     56.90   \n",
       "10486  new delhi  2024-03-12T22:00:00  23.0       23.0  13.0     53.32   \n",
       "10487  new delhi  2024-03-12T23:00:00  20.6       20.6  14.7     68.71   \n",
       "\n",
       "       precip  precipprob preciptype  snow  ...  sealevelpressure  cloudcover  \\\n",
       "0         0.0           0        NaN     0  ...            1020.0         0.0   \n",
       "1         0.0           0        NaN     0  ...            1020.0         0.0   \n",
       "2         0.0           0        NaN     0  ...            1019.5         5.0   \n",
       "3         0.0           0        NaN     0  ...            1019.0         0.0   \n",
       "4         0.0           0        NaN     0  ...            1019.0         0.0   \n",
       "...       ...         ...        ...   ...  ...               ...         ...   \n",
       "10483     0.0           0        NaN     0  ...            1014.0         0.0   \n",
       "10484     0.0           0        NaN     0  ...            1013.1         0.0   \n",
       "10485     0.0           0        NaN     0  ...            1015.0         0.0   \n",
       "10486     0.0           0        NaN     0  ...            1015.0         0.0   \n",
       "10487     0.0           0        NaN     0  ...            1013.5         0.0   \n",
       "\n",
       "       visibility  solarradiation  solarenergy  uvindex  severerisk  \\\n",
       "0             2.0               0          0.0        0          10   \n",
       "1             2.0               0          0.0        0          10   \n",
       "2             1.2               0          0.0        0          10   \n",
       "3             2.0               0          0.0        0          10   \n",
       "4             1.0               0          0.0        0          10   \n",
       "...           ...             ...          ...      ...         ...   \n",
       "10483         4.0              41          0.1        0          10   \n",
       "10484         2.3               0          0.0        0          10   \n",
       "10485         4.0               0          0.0        0          10   \n",
       "10486         4.0               0          0.0        0          10   \n",
       "10487         2.3               0          0.0        0          10   \n",
       "\n",
       "       conditions         icon                      stations  \n",
       "0           Clear  clear-night              VIDP,42181099999  \n",
       "1           Clear  clear-night              VIDP,42181099999  \n",
       "2           Clear  clear-night  42182099999,VIDP,42181099999  \n",
       "3           Clear  clear-night              VIDP,42181099999  \n",
       "4           Clear  clear-night              VIDP,42181099999  \n",
       "...           ...          ...                           ...  \n",
       "10483       Clear  clear-night              VIDP,42181099999  \n",
       "10484       Clear  clear-night  42182099999,VIDP,42181099999  \n",
       "10485       Clear  clear-night              VIDP,42181099999  \n",
       "10486       Clear  clear-night              VIDP,42181099999  \n",
       "10487       Clear  clear-night  42182099999,VIDP,42181099999  \n",
       "\n",
       "[10488 rows x 24 columns]"
      ]
     },
     "execution_count": 2,
     "metadata": {},
     "output_type": "execute_result"
    }
   ],
   "source": [
    "df = pd.read_csv(\"/Users/aayushrangra/Desktop/SolarForecasting/SolarRadiationDataNewDelhicsv.csv\")\n",
    "df"
   ]
  },
  {
   "cell_type": "code",
   "execution_count": 3,
   "id": "eba1c235",
   "metadata": {},
   "outputs": [
    {
     "name": "stdout",
     "output_type": "stream",
     "text": [
      "Index(['name', 'datetime', 'temp', 'feelslike', 'dew', 'humidity', 'precip',\n",
      "       'precipprob', 'preciptype', 'snow', 'snowdepth', 'windgust',\n",
      "       'windspeed', 'winddir', 'sealevelpressure', 'cloudcover', 'visibility',\n",
      "       'solarradiation', 'solarenergy', 'uvindex', 'severerisk', 'conditions',\n",
      "       'icon', 'stations'],\n",
      "      dtype='object')\n"
     ]
    }
   ],
   "source": [
    "print(df.columns)"
   ]
  },
  {
   "cell_type": "code",
   "execution_count": 4,
   "id": "279653b1",
   "metadata": {},
   "outputs": [],
   "source": [
    "columns_to_drop = ['conditions','icon', 'stations','uvindex', 'severerisk','precip',\n",
    "       'precipprob', 'preciptype', 'snow','temp', 'feelslike', 'snowdepth','humidity','name']\n",
    "df.drop(columns=columns_to_drop, inplace=True)"
   ]
  },
  {
   "cell_type": "code",
   "execution_count": 5,
   "id": "d6187414",
   "metadata": {},
   "outputs": [
    {
     "data": {
      "text/html": [
       "<div>\n",
       "<style scoped>\n",
       "    .dataframe tbody tr th:only-of-type {\n",
       "        vertical-align: middle;\n",
       "    }\n",
       "\n",
       "    .dataframe tbody tr th {\n",
       "        vertical-align: top;\n",
       "    }\n",
       "\n",
       "    .dataframe thead th {\n",
       "        text-align: right;\n",
       "    }\n",
       "</style>\n",
       "<table border=\"1\" class=\"dataframe\">\n",
       "  <thead>\n",
       "    <tr style=\"text-align: right;\">\n",
       "      <th></th>\n",
       "      <th>datetime</th>\n",
       "      <th>dew</th>\n",
       "      <th>windgust</th>\n",
       "      <th>windspeed</th>\n",
       "      <th>winddir</th>\n",
       "      <th>sealevelpressure</th>\n",
       "      <th>cloudcover</th>\n",
       "      <th>visibility</th>\n",
       "      <th>solarradiation</th>\n",
       "      <th>solarenergy</th>\n",
       "    </tr>\n",
       "  </thead>\n",
       "  <tbody>\n",
       "    <tr>\n",
       "      <th>0</th>\n",
       "      <td>2023-01-01T00:00:00</td>\n",
       "      <td>10.0</td>\n",
       "      <td>10.8</td>\n",
       "      <td>5.4</td>\n",
       "      <td>250.0</td>\n",
       "      <td>1020.0</td>\n",
       "      <td>0.0</td>\n",
       "      <td>2.0</td>\n",
       "      <td>0</td>\n",
       "      <td>0.0</td>\n",
       "    </tr>\n",
       "    <tr>\n",
       "      <th>3</th>\n",
       "      <td>2023-01-01T03:00:00</td>\n",
       "      <td>9.0</td>\n",
       "      <td>12.2</td>\n",
       "      <td>0.0</td>\n",
       "      <td>0.0</td>\n",
       "      <td>1019.0</td>\n",
       "      <td>0.0</td>\n",
       "      <td>2.0</td>\n",
       "      <td>0</td>\n",
       "      <td>0.0</td>\n",
       "    </tr>\n",
       "    <tr>\n",
       "      <th>6</th>\n",
       "      <td>2023-01-01T06:00:00</td>\n",
       "      <td>9.0</td>\n",
       "      <td>5.0</td>\n",
       "      <td>5.4</td>\n",
       "      <td>300.0</td>\n",
       "      <td>1020.0</td>\n",
       "      <td>0.0</td>\n",
       "      <td>1.0</td>\n",
       "      <td>0</td>\n",
       "      <td>0.0</td>\n",
       "    </tr>\n",
       "    <tr>\n",
       "      <th>9</th>\n",
       "      <td>2023-01-01T09:00:00</td>\n",
       "      <td>10.0</td>\n",
       "      <td>4.3</td>\n",
       "      <td>5.4</td>\n",
       "      <td>250.0</td>\n",
       "      <td>1022.0</td>\n",
       "      <td>0.0</td>\n",
       "      <td>1.0</td>\n",
       "      <td>73</td>\n",
       "      <td>0.3</td>\n",
       "    </tr>\n",
       "    <tr>\n",
       "      <th>12</th>\n",
       "      <td>2023-01-01T12:00:00</td>\n",
       "      <td>11.0</td>\n",
       "      <td>3.2</td>\n",
       "      <td>7.6</td>\n",
       "      <td>270.0</td>\n",
       "      <td>1022.0</td>\n",
       "      <td>0.0</td>\n",
       "      <td>2.0</td>\n",
       "      <td>529</td>\n",
       "      <td>1.9</td>\n",
       "    </tr>\n",
       "    <tr>\n",
       "      <th>...</th>\n",
       "      <td>...</td>\n",
       "      <td>...</td>\n",
       "      <td>...</td>\n",
       "      <td>...</td>\n",
       "      <td>...</td>\n",
       "      <td>...</td>\n",
       "      <td>...</td>\n",
       "      <td>...</td>\n",
       "      <td>...</td>\n",
       "      <td>...</td>\n",
       "    </tr>\n",
       "    <tr>\n",
       "      <th>10473</th>\n",
       "      <td>2024-03-12T09:00:00</td>\n",
       "      <td>11.0</td>\n",
       "      <td>8.3</td>\n",
       "      <td>9.4</td>\n",
       "      <td>300.0</td>\n",
       "      <td>1017.0</td>\n",
       "      <td>27.2</td>\n",
       "      <td>2.0</td>\n",
       "      <td>138</td>\n",
       "      <td>0.5</td>\n",
       "    </tr>\n",
       "    <tr>\n",
       "      <th>10476</th>\n",
       "      <td>2024-03-12T12:00:00</td>\n",
       "      <td>9.0</td>\n",
       "      <td>12.6</td>\n",
       "      <td>11.2</td>\n",
       "      <td>280.0</td>\n",
       "      <td>1016.0</td>\n",
       "      <td>0.0</td>\n",
       "      <td>4.0</td>\n",
       "      <td>765</td>\n",
       "      <td>2.8</td>\n",
       "    </tr>\n",
       "    <tr>\n",
       "      <th>10479</th>\n",
       "      <td>2024-03-12T15:00:00</td>\n",
       "      <td>6.0</td>\n",
       "      <td>18.4</td>\n",
       "      <td>13.0</td>\n",
       "      <td>300.0</td>\n",
       "      <td>1014.0</td>\n",
       "      <td>0.0</td>\n",
       "      <td>5.0</td>\n",
       "      <td>767</td>\n",
       "      <td>2.8</td>\n",
       "    </tr>\n",
       "    <tr>\n",
       "      <th>10482</th>\n",
       "      <td>2024-03-12T18:00:00</td>\n",
       "      <td>9.0</td>\n",
       "      <td>18.0</td>\n",
       "      <td>11.2</td>\n",
       "      <td>300.0</td>\n",
       "      <td>1013.0</td>\n",
       "      <td>0.0</td>\n",
       "      <td>4.0</td>\n",
       "      <td>226</td>\n",
       "      <td>0.8</td>\n",
       "    </tr>\n",
       "    <tr>\n",
       "      <th>10485</th>\n",
       "      <td>2024-03-12T21:00:00</td>\n",
       "      <td>14.0</td>\n",
       "      <td>21.6</td>\n",
       "      <td>9.4</td>\n",
       "      <td>330.0</td>\n",
       "      <td>1015.0</td>\n",
       "      <td>0.0</td>\n",
       "      <td>4.0</td>\n",
       "      <td>0</td>\n",
       "      <td>0.0</td>\n",
       "    </tr>\n",
       "  </tbody>\n",
       "</table>\n",
       "<p>3496 rows × 10 columns</p>\n",
       "</div>"
      ],
      "text/plain": [
       "                  datetime   dew  windgust  windspeed  winddir  \\\n",
       "0      2023-01-01T00:00:00  10.0      10.8        5.4    250.0   \n",
       "3      2023-01-01T03:00:00   9.0      12.2        0.0      0.0   \n",
       "6      2023-01-01T06:00:00   9.0       5.0        5.4    300.0   \n",
       "9      2023-01-01T09:00:00  10.0       4.3        5.4    250.0   \n",
       "12     2023-01-01T12:00:00  11.0       3.2        7.6    270.0   \n",
       "...                    ...   ...       ...        ...      ...   \n",
       "10473  2024-03-12T09:00:00  11.0       8.3        9.4    300.0   \n",
       "10476  2024-03-12T12:00:00   9.0      12.6       11.2    280.0   \n",
       "10479  2024-03-12T15:00:00   6.0      18.4       13.0    300.0   \n",
       "10482  2024-03-12T18:00:00   9.0      18.0       11.2    300.0   \n",
       "10485  2024-03-12T21:00:00  14.0      21.6        9.4    330.0   \n",
       "\n",
       "       sealevelpressure  cloudcover  visibility  solarradiation  solarenergy  \n",
       "0                1020.0         0.0         2.0               0          0.0  \n",
       "3                1019.0         0.0         2.0               0          0.0  \n",
       "6                1020.0         0.0         1.0               0          0.0  \n",
       "9                1022.0         0.0         1.0              73          0.3  \n",
       "12               1022.0         0.0         2.0             529          1.9  \n",
       "...                 ...         ...         ...             ...          ...  \n",
       "10473            1017.0        27.2         2.0             138          0.5  \n",
       "10476            1016.0         0.0         4.0             765          2.8  \n",
       "10479            1014.0         0.0         5.0             767          2.8  \n",
       "10482            1013.0         0.0         4.0             226          0.8  \n",
       "10485            1015.0         0.0         4.0               0          0.0  \n",
       "\n",
       "[3496 rows x 10 columns]"
      ]
     },
     "execution_count": 5,
     "metadata": {},
     "output_type": "execute_result"
    }
   ],
   "source": [
    "df[::3]"
   ]
  },
  {
   "cell_type": "code",
   "execution_count": 6,
   "id": "6af90892",
   "metadata": {},
   "outputs": [
    {
     "data": {
      "text/html": [
       "<div>\n",
       "<style scoped>\n",
       "    .dataframe tbody tr th:only-of-type {\n",
       "        vertical-align: middle;\n",
       "    }\n",
       "\n",
       "    .dataframe tbody tr th {\n",
       "        vertical-align: top;\n",
       "    }\n",
       "\n",
       "    .dataframe thead th {\n",
       "        text-align: right;\n",
       "    }\n",
       "</style>\n",
       "<table border=\"1\" class=\"dataframe\">\n",
       "  <thead>\n",
       "    <tr style=\"text-align: right;\">\n",
       "      <th></th>\n",
       "      <th>datetime</th>\n",
       "      <th>dew</th>\n",
       "      <th>windgust</th>\n",
       "      <th>windspeed</th>\n",
       "      <th>winddir</th>\n",
       "      <th>sealevelpressure</th>\n",
       "      <th>cloudcover</th>\n",
       "      <th>visibility</th>\n",
       "      <th>solarradiation</th>\n",
       "      <th>solarenergy</th>\n",
       "    </tr>\n",
       "  </thead>\n",
       "  <tbody>\n",
       "    <tr>\n",
       "      <th>1</th>\n",
       "      <td>2023-01-01T01:00:00</td>\n",
       "      <td>9.0</td>\n",
       "      <td>11.2</td>\n",
       "      <td>5.4</td>\n",
       "      <td>250.0</td>\n",
       "      <td>1020.0</td>\n",
       "      <td>0.0</td>\n",
       "      <td>2.0</td>\n",
       "      <td>0</td>\n",
       "      <td>0.0</td>\n",
       "    </tr>\n",
       "    <tr>\n",
       "      <th>6</th>\n",
       "      <td>2023-01-01T06:00:00</td>\n",
       "      <td>9.0</td>\n",
       "      <td>5.0</td>\n",
       "      <td>5.4</td>\n",
       "      <td>300.0</td>\n",
       "      <td>1020.0</td>\n",
       "      <td>0.0</td>\n",
       "      <td>1.0</td>\n",
       "      <td>0</td>\n",
       "      <td>0.0</td>\n",
       "    </tr>\n",
       "    <tr>\n",
       "      <th>11</th>\n",
       "      <td>2023-01-01T11:00:00</td>\n",
       "      <td>10.7</td>\n",
       "      <td>2.2</td>\n",
       "      <td>8.0</td>\n",
       "      <td>250.0</td>\n",
       "      <td>1022.5</td>\n",
       "      <td>0.0</td>\n",
       "      <td>1.9</td>\n",
       "      <td>409</td>\n",
       "      <td>1.5</td>\n",
       "    </tr>\n",
       "    <tr>\n",
       "      <th>16</th>\n",
       "      <td>2023-01-01T16:00:00</td>\n",
       "      <td>9.0</td>\n",
       "      <td>4.0</td>\n",
       "      <td>5.4</td>\n",
       "      <td>270.0</td>\n",
       "      <td>1020.0</td>\n",
       "      <td>50.0</td>\n",
       "      <td>2.0</td>\n",
       "      <td>315</td>\n",
       "      <td>1.1</td>\n",
       "    </tr>\n",
       "    <tr>\n",
       "      <th>21</th>\n",
       "      <td>2023-01-01T21:00:00</td>\n",
       "      <td>9.0</td>\n",
       "      <td>7.2</td>\n",
       "      <td>0.0</td>\n",
       "      <td>0.0</td>\n",
       "      <td>1021.0</td>\n",
       "      <td>27.2</td>\n",
       "      <td>2.0</td>\n",
       "      <td>0</td>\n",
       "      <td>0.0</td>\n",
       "    </tr>\n",
       "    <tr>\n",
       "      <th>...</th>\n",
       "      <td>...</td>\n",
       "      <td>...</td>\n",
       "      <td>...</td>\n",
       "      <td>...</td>\n",
       "      <td>...</td>\n",
       "      <td>...</td>\n",
       "      <td>...</td>\n",
       "      <td>...</td>\n",
       "      <td>...</td>\n",
       "      <td>...</td>\n",
       "    </tr>\n",
       "    <tr>\n",
       "      <th>10466</th>\n",
       "      <td>2024-03-12T02:00:00</td>\n",
       "      <td>13.2</td>\n",
       "      <td>10.4</td>\n",
       "      <td>1.0</td>\n",
       "      <td>56.0</td>\n",
       "      <td>1014.7</td>\n",
       "      <td>12.3</td>\n",
       "      <td>2.2</td>\n",
       "      <td>0</td>\n",
       "      <td>0.0</td>\n",
       "    </tr>\n",
       "    <tr>\n",
       "      <th>10471</th>\n",
       "      <td>2024-03-12T07:00:00</td>\n",
       "      <td>12.0</td>\n",
       "      <td>9.4</td>\n",
       "      <td>7.6</td>\n",
       "      <td>250.0</td>\n",
       "      <td>1016.0</td>\n",
       "      <td>50.0</td>\n",
       "      <td>1.0</td>\n",
       "      <td>0</td>\n",
       "      <td>0.0</td>\n",
       "    </tr>\n",
       "    <tr>\n",
       "      <th>10476</th>\n",
       "      <td>2024-03-12T12:00:00</td>\n",
       "      <td>9.0</td>\n",
       "      <td>12.6</td>\n",
       "      <td>11.2</td>\n",
       "      <td>280.0</td>\n",
       "      <td>1016.0</td>\n",
       "      <td>0.0</td>\n",
       "      <td>4.0</td>\n",
       "      <td>765</td>\n",
       "      <td>2.8</td>\n",
       "    </tr>\n",
       "    <tr>\n",
       "      <th>10481</th>\n",
       "      <td>2024-03-12T17:00:00</td>\n",
       "      <td>10.4</td>\n",
       "      <td>18.0</td>\n",
       "      <td>6.1</td>\n",
       "      <td>282.0</td>\n",
       "      <td>1012.0</td>\n",
       "      <td>0.0</td>\n",
       "      <td>4.1</td>\n",
       "      <td>441</td>\n",
       "      <td>1.6</td>\n",
       "    </tr>\n",
       "    <tr>\n",
       "      <th>10486</th>\n",
       "      <td>2024-03-12T22:00:00</td>\n",
       "      <td>13.0</td>\n",
       "      <td>22.7</td>\n",
       "      <td>7.6</td>\n",
       "      <td>340.0</td>\n",
       "      <td>1015.0</td>\n",
       "      <td>0.0</td>\n",
       "      <td>4.0</td>\n",
       "      <td>0</td>\n",
       "      <td>0.0</td>\n",
       "    </tr>\n",
       "  </tbody>\n",
       "</table>\n",
       "<p>2098 rows × 10 columns</p>\n",
       "</div>"
      ],
      "text/plain": [
       "                  datetime   dew  windgust  windspeed  winddir  \\\n",
       "1      2023-01-01T01:00:00   9.0      11.2        5.4    250.0   \n",
       "6      2023-01-01T06:00:00   9.0       5.0        5.4    300.0   \n",
       "11     2023-01-01T11:00:00  10.7       2.2        8.0    250.0   \n",
       "16     2023-01-01T16:00:00   9.0       4.0        5.4    270.0   \n",
       "21     2023-01-01T21:00:00   9.0       7.2        0.0      0.0   \n",
       "...                    ...   ...       ...        ...      ...   \n",
       "10466  2024-03-12T02:00:00  13.2      10.4        1.0     56.0   \n",
       "10471  2024-03-12T07:00:00  12.0       9.4        7.6    250.0   \n",
       "10476  2024-03-12T12:00:00   9.0      12.6       11.2    280.0   \n",
       "10481  2024-03-12T17:00:00  10.4      18.0        6.1    282.0   \n",
       "10486  2024-03-12T22:00:00  13.0      22.7        7.6    340.0   \n",
       "\n",
       "       sealevelpressure  cloudcover  visibility  solarradiation  solarenergy  \n",
       "1                1020.0         0.0         2.0               0          0.0  \n",
       "6                1020.0         0.0         1.0               0          0.0  \n",
       "11               1022.5         0.0         1.9             409          1.5  \n",
       "16               1020.0        50.0         2.0             315          1.1  \n",
       "21               1021.0        27.2         2.0               0          0.0  \n",
       "...                 ...         ...         ...             ...          ...  \n",
       "10466            1014.7        12.3         2.2               0          0.0  \n",
       "10471            1016.0        50.0         1.0               0          0.0  \n",
       "10476            1016.0         0.0         4.0             765          2.8  \n",
       "10481            1012.0         0.0         4.1             441          1.6  \n",
       "10486            1015.0         0.0         4.0               0          0.0  \n",
       "\n",
       "[2098 rows x 10 columns]"
      ]
     },
     "execution_count": 6,
     "metadata": {},
     "output_type": "execute_result"
    }
   ],
   "source": [
    "df[1::5]"
   ]
  },
  {
   "cell_type": "code",
   "execution_count": 7,
   "id": "3d1c4fb9",
   "metadata": {},
   "outputs": [
    {
     "data": {
      "text/plain": [
       "Index(['datetime', 'dew', 'windgust', 'windspeed', 'winddir',\n",
       "       'sealevelpressure', 'cloudcover', 'visibility', 'solarradiation',\n",
       "       'solarenergy'],\n",
       "      dtype='object')"
      ]
     },
     "execution_count": 7,
     "metadata": {},
     "output_type": "execute_result"
    }
   ],
   "source": [
    "df.columns"
   ]
  },
  {
   "cell_type": "code",
   "execution_count": 8,
   "id": "6449f5ce",
   "metadata": {},
   "outputs": [],
   "source": [
    "df.insert(0, 'Datetime', pd.Series([float('nan')] * len(df)))"
   ]
  },
  {
   "cell_type": "code",
   "execution_count": 9,
   "id": "8c6c4dca",
   "metadata": {},
   "outputs": [],
   "source": [
    "df['Datetime'] = pd.to_datetime(df['datetime'], format='%Y-%m-%dT%H:%M:%S')"
   ]
  },
  {
   "cell_type": "code",
   "execution_count": 10,
   "id": "5a94c090",
   "metadata": {},
   "outputs": [
    {
     "data": {
      "text/html": [
       "<div>\n",
       "<style scoped>\n",
       "    .dataframe tbody tr th:only-of-type {\n",
       "        vertical-align: middle;\n",
       "    }\n",
       "\n",
       "    .dataframe tbody tr th {\n",
       "        vertical-align: top;\n",
       "    }\n",
       "\n",
       "    .dataframe thead th {\n",
       "        text-align: right;\n",
       "    }\n",
       "</style>\n",
       "<table border=\"1\" class=\"dataframe\">\n",
       "  <thead>\n",
       "    <tr style=\"text-align: right;\">\n",
       "      <th></th>\n",
       "      <th>Datetime</th>\n",
       "      <th>datetime</th>\n",
       "      <th>dew</th>\n",
       "      <th>windgust</th>\n",
       "      <th>windspeed</th>\n",
       "      <th>winddir</th>\n",
       "      <th>sealevelpressure</th>\n",
       "      <th>cloudcover</th>\n",
       "      <th>visibility</th>\n",
       "      <th>solarradiation</th>\n",
       "      <th>solarenergy</th>\n",
       "    </tr>\n",
       "  </thead>\n",
       "  <tbody>\n",
       "    <tr>\n",
       "      <th>0</th>\n",
       "      <td>2023-01-01 00:00:00</td>\n",
       "      <td>2023-01-01T00:00:00</td>\n",
       "      <td>10.0</td>\n",
       "      <td>10.8</td>\n",
       "      <td>5.4</td>\n",
       "      <td>250.0</td>\n",
       "      <td>1020.0</td>\n",
       "      <td>0.0</td>\n",
       "      <td>2.0</td>\n",
       "      <td>0</td>\n",
       "      <td>0.0</td>\n",
       "    </tr>\n",
       "    <tr>\n",
       "      <th>1</th>\n",
       "      <td>2023-01-01 01:00:00</td>\n",
       "      <td>2023-01-01T01:00:00</td>\n",
       "      <td>9.0</td>\n",
       "      <td>11.2</td>\n",
       "      <td>5.4</td>\n",
       "      <td>250.0</td>\n",
       "      <td>1020.0</td>\n",
       "      <td>0.0</td>\n",
       "      <td>2.0</td>\n",
       "      <td>0</td>\n",
       "      <td>0.0</td>\n",
       "    </tr>\n",
       "    <tr>\n",
       "      <th>2</th>\n",
       "      <td>2023-01-01 02:00:00</td>\n",
       "      <td>2023-01-01T02:00:00</td>\n",
       "      <td>7.6</td>\n",
       "      <td>11.2</td>\n",
       "      <td>0.0</td>\n",
       "      <td>307.7</td>\n",
       "      <td>1019.5</td>\n",
       "      <td>5.0</td>\n",
       "      <td>1.2</td>\n",
       "      <td>0</td>\n",
       "      <td>0.0</td>\n",
       "    </tr>\n",
       "    <tr>\n",
       "      <th>3</th>\n",
       "      <td>2023-01-01 03:00:00</td>\n",
       "      <td>2023-01-01T03:00:00</td>\n",
       "      <td>9.0</td>\n",
       "      <td>12.2</td>\n",
       "      <td>0.0</td>\n",
       "      <td>0.0</td>\n",
       "      <td>1019.0</td>\n",
       "      <td>0.0</td>\n",
       "      <td>2.0</td>\n",
       "      <td>0</td>\n",
       "      <td>0.0</td>\n",
       "    </tr>\n",
       "    <tr>\n",
       "      <th>4</th>\n",
       "      <td>2023-01-01 04:00:00</td>\n",
       "      <td>2023-01-01T04:00:00</td>\n",
       "      <td>9.0</td>\n",
       "      <td>9.7</td>\n",
       "      <td>5.4</td>\n",
       "      <td>270.0</td>\n",
       "      <td>1019.0</td>\n",
       "      <td>0.0</td>\n",
       "      <td>1.0</td>\n",
       "      <td>0</td>\n",
       "      <td>0.0</td>\n",
       "    </tr>\n",
       "    <tr>\n",
       "      <th>...</th>\n",
       "      <td>...</td>\n",
       "      <td>...</td>\n",
       "      <td>...</td>\n",
       "      <td>...</td>\n",
       "      <td>...</td>\n",
       "      <td>...</td>\n",
       "      <td>...</td>\n",
       "      <td>...</td>\n",
       "      <td>...</td>\n",
       "      <td>...</td>\n",
       "      <td>...</td>\n",
       "    </tr>\n",
       "    <tr>\n",
       "      <th>10483</th>\n",
       "      <td>2024-03-12 19:00:00</td>\n",
       "      <td>2024-03-12T19:00:00</td>\n",
       "      <td>12.0</td>\n",
       "      <td>20.9</td>\n",
       "      <td>7.6</td>\n",
       "      <td>310.0</td>\n",
       "      <td>1014.0</td>\n",
       "      <td>0.0</td>\n",
       "      <td>4.0</td>\n",
       "      <td>41</td>\n",
       "      <td>0.1</td>\n",
       "    </tr>\n",
       "    <tr>\n",
       "      <th>10484</th>\n",
       "      <td>2024-03-12 20:00:00</td>\n",
       "      <td>2024-03-12T20:00:00</td>\n",
       "      <td>13.9</td>\n",
       "      <td>20.2</td>\n",
       "      <td>5.1</td>\n",
       "      <td>232.0</td>\n",
       "      <td>1013.1</td>\n",
       "      <td>0.0</td>\n",
       "      <td>2.3</td>\n",
       "      <td>0</td>\n",
       "      <td>0.0</td>\n",
       "    </tr>\n",
       "    <tr>\n",
       "      <th>10485</th>\n",
       "      <td>2024-03-12 21:00:00</td>\n",
       "      <td>2024-03-12T21:00:00</td>\n",
       "      <td>14.0</td>\n",
       "      <td>21.6</td>\n",
       "      <td>9.4</td>\n",
       "      <td>330.0</td>\n",
       "      <td>1015.0</td>\n",
       "      <td>0.0</td>\n",
       "      <td>4.0</td>\n",
       "      <td>0</td>\n",
       "      <td>0.0</td>\n",
       "    </tr>\n",
       "    <tr>\n",
       "      <th>10486</th>\n",
       "      <td>2024-03-12 22:00:00</td>\n",
       "      <td>2024-03-12T22:00:00</td>\n",
       "      <td>13.0</td>\n",
       "      <td>22.7</td>\n",
       "      <td>7.6</td>\n",
       "      <td>340.0</td>\n",
       "      <td>1015.0</td>\n",
       "      <td>0.0</td>\n",
       "      <td>4.0</td>\n",
       "      <td>0</td>\n",
       "      <td>0.0</td>\n",
       "    </tr>\n",
       "    <tr>\n",
       "      <th>10487</th>\n",
       "      <td>2024-03-12 23:00:00</td>\n",
       "      <td>2024-03-12T23:00:00</td>\n",
       "      <td>14.7</td>\n",
       "      <td>20.9</td>\n",
       "      <td>1.4</td>\n",
       "      <td>340.0</td>\n",
       "      <td>1013.5</td>\n",
       "      <td>0.0</td>\n",
       "      <td>2.3</td>\n",
       "      <td>0</td>\n",
       "      <td>0.0</td>\n",
       "    </tr>\n",
       "  </tbody>\n",
       "</table>\n",
       "<p>10488 rows × 11 columns</p>\n",
       "</div>"
      ],
      "text/plain": [
       "                 Datetime             datetime   dew  windgust  windspeed  \\\n",
       "0     2023-01-01 00:00:00  2023-01-01T00:00:00  10.0      10.8        5.4   \n",
       "1     2023-01-01 01:00:00  2023-01-01T01:00:00   9.0      11.2        5.4   \n",
       "2     2023-01-01 02:00:00  2023-01-01T02:00:00   7.6      11.2        0.0   \n",
       "3     2023-01-01 03:00:00  2023-01-01T03:00:00   9.0      12.2        0.0   \n",
       "4     2023-01-01 04:00:00  2023-01-01T04:00:00   9.0       9.7        5.4   \n",
       "...                   ...                  ...   ...       ...        ...   \n",
       "10483 2024-03-12 19:00:00  2024-03-12T19:00:00  12.0      20.9        7.6   \n",
       "10484 2024-03-12 20:00:00  2024-03-12T20:00:00  13.9      20.2        5.1   \n",
       "10485 2024-03-12 21:00:00  2024-03-12T21:00:00  14.0      21.6        9.4   \n",
       "10486 2024-03-12 22:00:00  2024-03-12T22:00:00  13.0      22.7        7.6   \n",
       "10487 2024-03-12 23:00:00  2024-03-12T23:00:00  14.7      20.9        1.4   \n",
       "\n",
       "       winddir  sealevelpressure  cloudcover  visibility  solarradiation  \\\n",
       "0        250.0            1020.0         0.0         2.0               0   \n",
       "1        250.0            1020.0         0.0         2.0               0   \n",
       "2        307.7            1019.5         5.0         1.2               0   \n",
       "3          0.0            1019.0         0.0         2.0               0   \n",
       "4        270.0            1019.0         0.0         1.0               0   \n",
       "...        ...               ...         ...         ...             ...   \n",
       "10483    310.0            1014.0         0.0         4.0              41   \n",
       "10484    232.0            1013.1         0.0         2.3               0   \n",
       "10485    330.0            1015.0         0.0         4.0               0   \n",
       "10486    340.0            1015.0         0.0         4.0               0   \n",
       "10487    340.0            1013.5         0.0         2.3               0   \n",
       "\n",
       "       solarenergy  \n",
       "0              0.0  \n",
       "1              0.0  \n",
       "2              0.0  \n",
       "3              0.0  \n",
       "4              0.0  \n",
       "...            ...  \n",
       "10483          0.1  \n",
       "10484          0.0  \n",
       "10485          0.0  \n",
       "10486          0.0  \n",
       "10487          0.0  \n",
       "\n",
       "[10488 rows x 11 columns]"
      ]
     },
     "execution_count": 10,
     "metadata": {},
     "output_type": "execute_result"
    }
   ],
   "source": [
    "df"
   ]
  },
  {
   "cell_type": "code",
   "execution_count": 11,
   "id": "501f2335",
   "metadata": {},
   "outputs": [
    {
     "data": {
      "text/plain": [
       "0        01-01-2023 00--00-00\n",
       "1        01-01-2023 01--00-00\n",
       "2        01-01-2023 02--00-00\n",
       "3        01-01-2023 03--00-00\n",
       "4        01-01-2023 04--00-00\n",
       "                 ...         \n",
       "10483    12-03-2024 19--00-00\n",
       "10484    12-03-2024 20--00-00\n",
       "10485    12-03-2024 21--00-00\n",
       "10486    12-03-2024 22--00-00\n",
       "10487    12-03-2024 23--00-00\n",
       "Name: Datetime, Length: 10488, dtype: object"
      ]
     },
     "execution_count": 11,
     "metadata": {},
     "output_type": "execute_result"
    }
   ],
   "source": [
    "df['Datetime'].dt.strftime('%d-%m-%Y %H--00-00')"
   ]
  },
  {
   "cell_type": "code",
   "execution_count": 12,
   "id": "fa1249e1",
   "metadata": {},
   "outputs": [
    {
     "data": {
      "text/html": [
       "<div>\n",
       "<style scoped>\n",
       "    .dataframe tbody tr th:only-of-type {\n",
       "        vertical-align: middle;\n",
       "    }\n",
       "\n",
       "    .dataframe tbody tr th {\n",
       "        vertical-align: top;\n",
       "    }\n",
       "\n",
       "    .dataframe thead th {\n",
       "        text-align: right;\n",
       "    }\n",
       "</style>\n",
       "<table border=\"1\" class=\"dataframe\">\n",
       "  <thead>\n",
       "    <tr style=\"text-align: right;\">\n",
       "      <th></th>\n",
       "      <th>Datetime</th>\n",
       "      <th>datetime</th>\n",
       "      <th>dew</th>\n",
       "      <th>windgust</th>\n",
       "      <th>windspeed</th>\n",
       "      <th>winddir</th>\n",
       "      <th>sealevelpressure</th>\n",
       "      <th>cloudcover</th>\n",
       "      <th>visibility</th>\n",
       "      <th>solarradiation</th>\n",
       "      <th>solarenergy</th>\n",
       "    </tr>\n",
       "  </thead>\n",
       "  <tbody>\n",
       "    <tr>\n",
       "      <th>0</th>\n",
       "      <td>2023-01-01 00:00:00</td>\n",
       "      <td>2023-01-01T00:00:00</td>\n",
       "      <td>10.0</td>\n",
       "      <td>10.8</td>\n",
       "      <td>5.4</td>\n",
       "      <td>250.0</td>\n",
       "      <td>1020.0</td>\n",
       "      <td>0.0</td>\n",
       "      <td>2.0</td>\n",
       "      <td>0</td>\n",
       "      <td>0.0</td>\n",
       "    </tr>\n",
       "    <tr>\n",
       "      <th>1</th>\n",
       "      <td>2023-01-01 01:00:00</td>\n",
       "      <td>2023-01-01T01:00:00</td>\n",
       "      <td>9.0</td>\n",
       "      <td>11.2</td>\n",
       "      <td>5.4</td>\n",
       "      <td>250.0</td>\n",
       "      <td>1020.0</td>\n",
       "      <td>0.0</td>\n",
       "      <td>2.0</td>\n",
       "      <td>0</td>\n",
       "      <td>0.0</td>\n",
       "    </tr>\n",
       "    <tr>\n",
       "      <th>2</th>\n",
       "      <td>2023-01-01 02:00:00</td>\n",
       "      <td>2023-01-01T02:00:00</td>\n",
       "      <td>7.6</td>\n",
       "      <td>11.2</td>\n",
       "      <td>0.0</td>\n",
       "      <td>307.7</td>\n",
       "      <td>1019.5</td>\n",
       "      <td>5.0</td>\n",
       "      <td>1.2</td>\n",
       "      <td>0</td>\n",
       "      <td>0.0</td>\n",
       "    </tr>\n",
       "    <tr>\n",
       "      <th>3</th>\n",
       "      <td>2023-01-01 03:00:00</td>\n",
       "      <td>2023-01-01T03:00:00</td>\n",
       "      <td>9.0</td>\n",
       "      <td>12.2</td>\n",
       "      <td>0.0</td>\n",
       "      <td>0.0</td>\n",
       "      <td>1019.0</td>\n",
       "      <td>0.0</td>\n",
       "      <td>2.0</td>\n",
       "      <td>0</td>\n",
       "      <td>0.0</td>\n",
       "    </tr>\n",
       "    <tr>\n",
       "      <th>4</th>\n",
       "      <td>2023-01-01 04:00:00</td>\n",
       "      <td>2023-01-01T04:00:00</td>\n",
       "      <td>9.0</td>\n",
       "      <td>9.7</td>\n",
       "      <td>5.4</td>\n",
       "      <td>270.0</td>\n",
       "      <td>1019.0</td>\n",
       "      <td>0.0</td>\n",
       "      <td>1.0</td>\n",
       "      <td>0</td>\n",
       "      <td>0.0</td>\n",
       "    </tr>\n",
       "    <tr>\n",
       "      <th>...</th>\n",
       "      <td>...</td>\n",
       "      <td>...</td>\n",
       "      <td>...</td>\n",
       "      <td>...</td>\n",
       "      <td>...</td>\n",
       "      <td>...</td>\n",
       "      <td>...</td>\n",
       "      <td>...</td>\n",
       "      <td>...</td>\n",
       "      <td>...</td>\n",
       "      <td>...</td>\n",
       "    </tr>\n",
       "    <tr>\n",
       "      <th>10483</th>\n",
       "      <td>2024-03-12 19:00:00</td>\n",
       "      <td>2024-03-12T19:00:00</td>\n",
       "      <td>12.0</td>\n",
       "      <td>20.9</td>\n",
       "      <td>7.6</td>\n",
       "      <td>310.0</td>\n",
       "      <td>1014.0</td>\n",
       "      <td>0.0</td>\n",
       "      <td>4.0</td>\n",
       "      <td>41</td>\n",
       "      <td>0.1</td>\n",
       "    </tr>\n",
       "    <tr>\n",
       "      <th>10484</th>\n",
       "      <td>2024-03-12 20:00:00</td>\n",
       "      <td>2024-03-12T20:00:00</td>\n",
       "      <td>13.9</td>\n",
       "      <td>20.2</td>\n",
       "      <td>5.1</td>\n",
       "      <td>232.0</td>\n",
       "      <td>1013.1</td>\n",
       "      <td>0.0</td>\n",
       "      <td>2.3</td>\n",
       "      <td>0</td>\n",
       "      <td>0.0</td>\n",
       "    </tr>\n",
       "    <tr>\n",
       "      <th>10485</th>\n",
       "      <td>2024-03-12 21:00:00</td>\n",
       "      <td>2024-03-12T21:00:00</td>\n",
       "      <td>14.0</td>\n",
       "      <td>21.6</td>\n",
       "      <td>9.4</td>\n",
       "      <td>330.0</td>\n",
       "      <td>1015.0</td>\n",
       "      <td>0.0</td>\n",
       "      <td>4.0</td>\n",
       "      <td>0</td>\n",
       "      <td>0.0</td>\n",
       "    </tr>\n",
       "    <tr>\n",
       "      <th>10486</th>\n",
       "      <td>2024-03-12 22:00:00</td>\n",
       "      <td>2024-03-12T22:00:00</td>\n",
       "      <td>13.0</td>\n",
       "      <td>22.7</td>\n",
       "      <td>7.6</td>\n",
       "      <td>340.0</td>\n",
       "      <td>1015.0</td>\n",
       "      <td>0.0</td>\n",
       "      <td>4.0</td>\n",
       "      <td>0</td>\n",
       "      <td>0.0</td>\n",
       "    </tr>\n",
       "    <tr>\n",
       "      <th>10487</th>\n",
       "      <td>2024-03-12 23:00:00</td>\n",
       "      <td>2024-03-12T23:00:00</td>\n",
       "      <td>14.7</td>\n",
       "      <td>20.9</td>\n",
       "      <td>1.4</td>\n",
       "      <td>340.0</td>\n",
       "      <td>1013.5</td>\n",
       "      <td>0.0</td>\n",
       "      <td>2.3</td>\n",
       "      <td>0</td>\n",
       "      <td>0.0</td>\n",
       "    </tr>\n",
       "  </tbody>\n",
       "</table>\n",
       "<p>10488 rows × 11 columns</p>\n",
       "</div>"
      ],
      "text/plain": [
       "                 Datetime             datetime   dew  windgust  windspeed  \\\n",
       "0     2023-01-01 00:00:00  2023-01-01T00:00:00  10.0      10.8        5.4   \n",
       "1     2023-01-01 01:00:00  2023-01-01T01:00:00   9.0      11.2        5.4   \n",
       "2     2023-01-01 02:00:00  2023-01-01T02:00:00   7.6      11.2        0.0   \n",
       "3     2023-01-01 03:00:00  2023-01-01T03:00:00   9.0      12.2        0.0   \n",
       "4     2023-01-01 04:00:00  2023-01-01T04:00:00   9.0       9.7        5.4   \n",
       "...                   ...                  ...   ...       ...        ...   \n",
       "10483 2024-03-12 19:00:00  2024-03-12T19:00:00  12.0      20.9        7.6   \n",
       "10484 2024-03-12 20:00:00  2024-03-12T20:00:00  13.9      20.2        5.1   \n",
       "10485 2024-03-12 21:00:00  2024-03-12T21:00:00  14.0      21.6        9.4   \n",
       "10486 2024-03-12 22:00:00  2024-03-12T22:00:00  13.0      22.7        7.6   \n",
       "10487 2024-03-12 23:00:00  2024-03-12T23:00:00  14.7      20.9        1.4   \n",
       "\n",
       "       winddir  sealevelpressure  cloudcover  visibility  solarradiation  \\\n",
       "0        250.0            1020.0         0.0         2.0               0   \n",
       "1        250.0            1020.0         0.0         2.0               0   \n",
       "2        307.7            1019.5         5.0         1.2               0   \n",
       "3          0.0            1019.0         0.0         2.0               0   \n",
       "4        270.0            1019.0         0.0         1.0               0   \n",
       "...        ...               ...         ...         ...             ...   \n",
       "10483    310.0            1014.0         0.0         4.0              41   \n",
       "10484    232.0            1013.1         0.0         2.3               0   \n",
       "10485    330.0            1015.0         0.0         4.0               0   \n",
       "10486    340.0            1015.0         0.0         4.0               0   \n",
       "10487    340.0            1013.5         0.0         2.3               0   \n",
       "\n",
       "       solarenergy  \n",
       "0              0.0  \n",
       "1              0.0  \n",
       "2              0.0  \n",
       "3              0.0  \n",
       "4              0.0  \n",
       "...            ...  \n",
       "10483          0.1  \n",
       "10484          0.0  \n",
       "10485          0.0  \n",
       "10486          0.0  \n",
       "10487          0.0  \n",
       "\n",
       "[10488 rows x 11 columns]"
      ]
     },
     "execution_count": 12,
     "metadata": {},
     "output_type": "execute_result"
    }
   ],
   "source": [
    "df"
   ]
  },
  {
   "cell_type": "code",
   "execution_count": 13,
   "id": "7697ed99",
   "metadata": {},
   "outputs": [],
   "source": [
    "df.index = pd.to_datetime(df['Datetime'])"
   ]
  },
  {
   "cell_type": "code",
   "execution_count": 14,
   "id": "481372b4",
   "metadata": {},
   "outputs": [
    {
     "data": {
      "text/html": [
       "<div>\n",
       "<style scoped>\n",
       "    .dataframe tbody tr th:only-of-type {\n",
       "        vertical-align: middle;\n",
       "    }\n",
       "\n",
       "    .dataframe tbody tr th {\n",
       "        vertical-align: top;\n",
       "    }\n",
       "\n",
       "    .dataframe thead th {\n",
       "        text-align: right;\n",
       "    }\n",
       "</style>\n",
       "<table border=\"1\" class=\"dataframe\">\n",
       "  <thead>\n",
       "    <tr style=\"text-align: right;\">\n",
       "      <th></th>\n",
       "      <th>Datetime</th>\n",
       "      <th>datetime</th>\n",
       "      <th>dew</th>\n",
       "      <th>windgust</th>\n",
       "      <th>windspeed</th>\n",
       "      <th>winddir</th>\n",
       "      <th>sealevelpressure</th>\n",
       "      <th>cloudcover</th>\n",
       "      <th>visibility</th>\n",
       "      <th>solarradiation</th>\n",
       "      <th>solarenergy</th>\n",
       "    </tr>\n",
       "    <tr>\n",
       "      <th>Datetime</th>\n",
       "      <th></th>\n",
       "      <th></th>\n",
       "      <th></th>\n",
       "      <th></th>\n",
       "      <th></th>\n",
       "      <th></th>\n",
       "      <th></th>\n",
       "      <th></th>\n",
       "      <th></th>\n",
       "      <th></th>\n",
       "      <th></th>\n",
       "    </tr>\n",
       "  </thead>\n",
       "  <tbody>\n",
       "    <tr>\n",
       "      <th>2023-01-01 00:00:00</th>\n",
       "      <td>2023-01-01 00:00:00</td>\n",
       "      <td>2023-01-01T00:00:00</td>\n",
       "      <td>10.0</td>\n",
       "      <td>10.8</td>\n",
       "      <td>5.4</td>\n",
       "      <td>250.0</td>\n",
       "      <td>1020.0</td>\n",
       "      <td>0.0</td>\n",
       "      <td>2.0</td>\n",
       "      <td>0</td>\n",
       "      <td>0.0</td>\n",
       "    </tr>\n",
       "    <tr>\n",
       "      <th>2023-01-01 01:00:00</th>\n",
       "      <td>2023-01-01 01:00:00</td>\n",
       "      <td>2023-01-01T01:00:00</td>\n",
       "      <td>9.0</td>\n",
       "      <td>11.2</td>\n",
       "      <td>5.4</td>\n",
       "      <td>250.0</td>\n",
       "      <td>1020.0</td>\n",
       "      <td>0.0</td>\n",
       "      <td>2.0</td>\n",
       "      <td>0</td>\n",
       "      <td>0.0</td>\n",
       "    </tr>\n",
       "    <tr>\n",
       "      <th>2023-01-01 02:00:00</th>\n",
       "      <td>2023-01-01 02:00:00</td>\n",
       "      <td>2023-01-01T02:00:00</td>\n",
       "      <td>7.6</td>\n",
       "      <td>11.2</td>\n",
       "      <td>0.0</td>\n",
       "      <td>307.7</td>\n",
       "      <td>1019.5</td>\n",
       "      <td>5.0</td>\n",
       "      <td>1.2</td>\n",
       "      <td>0</td>\n",
       "      <td>0.0</td>\n",
       "    </tr>\n",
       "    <tr>\n",
       "      <th>2023-01-01 03:00:00</th>\n",
       "      <td>2023-01-01 03:00:00</td>\n",
       "      <td>2023-01-01T03:00:00</td>\n",
       "      <td>9.0</td>\n",
       "      <td>12.2</td>\n",
       "      <td>0.0</td>\n",
       "      <td>0.0</td>\n",
       "      <td>1019.0</td>\n",
       "      <td>0.0</td>\n",
       "      <td>2.0</td>\n",
       "      <td>0</td>\n",
       "      <td>0.0</td>\n",
       "    </tr>\n",
       "    <tr>\n",
       "      <th>2023-01-01 04:00:00</th>\n",
       "      <td>2023-01-01 04:00:00</td>\n",
       "      <td>2023-01-01T04:00:00</td>\n",
       "      <td>9.0</td>\n",
       "      <td>9.7</td>\n",
       "      <td>5.4</td>\n",
       "      <td>270.0</td>\n",
       "      <td>1019.0</td>\n",
       "      <td>0.0</td>\n",
       "      <td>1.0</td>\n",
       "      <td>0</td>\n",
       "      <td>0.0</td>\n",
       "    </tr>\n",
       "    <tr>\n",
       "      <th>...</th>\n",
       "      <td>...</td>\n",
       "      <td>...</td>\n",
       "      <td>...</td>\n",
       "      <td>...</td>\n",
       "      <td>...</td>\n",
       "      <td>...</td>\n",
       "      <td>...</td>\n",
       "      <td>...</td>\n",
       "      <td>...</td>\n",
       "      <td>...</td>\n",
       "      <td>...</td>\n",
       "    </tr>\n",
       "    <tr>\n",
       "      <th>2024-03-12 19:00:00</th>\n",
       "      <td>2024-03-12 19:00:00</td>\n",
       "      <td>2024-03-12T19:00:00</td>\n",
       "      <td>12.0</td>\n",
       "      <td>20.9</td>\n",
       "      <td>7.6</td>\n",
       "      <td>310.0</td>\n",
       "      <td>1014.0</td>\n",
       "      <td>0.0</td>\n",
       "      <td>4.0</td>\n",
       "      <td>41</td>\n",
       "      <td>0.1</td>\n",
       "    </tr>\n",
       "    <tr>\n",
       "      <th>2024-03-12 20:00:00</th>\n",
       "      <td>2024-03-12 20:00:00</td>\n",
       "      <td>2024-03-12T20:00:00</td>\n",
       "      <td>13.9</td>\n",
       "      <td>20.2</td>\n",
       "      <td>5.1</td>\n",
       "      <td>232.0</td>\n",
       "      <td>1013.1</td>\n",
       "      <td>0.0</td>\n",
       "      <td>2.3</td>\n",
       "      <td>0</td>\n",
       "      <td>0.0</td>\n",
       "    </tr>\n",
       "    <tr>\n",
       "      <th>2024-03-12 21:00:00</th>\n",
       "      <td>2024-03-12 21:00:00</td>\n",
       "      <td>2024-03-12T21:00:00</td>\n",
       "      <td>14.0</td>\n",
       "      <td>21.6</td>\n",
       "      <td>9.4</td>\n",
       "      <td>330.0</td>\n",
       "      <td>1015.0</td>\n",
       "      <td>0.0</td>\n",
       "      <td>4.0</td>\n",
       "      <td>0</td>\n",
       "      <td>0.0</td>\n",
       "    </tr>\n",
       "    <tr>\n",
       "      <th>2024-03-12 22:00:00</th>\n",
       "      <td>2024-03-12 22:00:00</td>\n",
       "      <td>2024-03-12T22:00:00</td>\n",
       "      <td>13.0</td>\n",
       "      <td>22.7</td>\n",
       "      <td>7.6</td>\n",
       "      <td>340.0</td>\n",
       "      <td>1015.0</td>\n",
       "      <td>0.0</td>\n",
       "      <td>4.0</td>\n",
       "      <td>0</td>\n",
       "      <td>0.0</td>\n",
       "    </tr>\n",
       "    <tr>\n",
       "      <th>2024-03-12 23:00:00</th>\n",
       "      <td>2024-03-12 23:00:00</td>\n",
       "      <td>2024-03-12T23:00:00</td>\n",
       "      <td>14.7</td>\n",
       "      <td>20.9</td>\n",
       "      <td>1.4</td>\n",
       "      <td>340.0</td>\n",
       "      <td>1013.5</td>\n",
       "      <td>0.0</td>\n",
       "      <td>2.3</td>\n",
       "      <td>0</td>\n",
       "      <td>0.0</td>\n",
       "    </tr>\n",
       "  </tbody>\n",
       "</table>\n",
       "<p>10488 rows × 11 columns</p>\n",
       "</div>"
      ],
      "text/plain": [
       "                               Datetime             datetime   dew  windgust  \\\n",
       "Datetime                                                                       \n",
       "2023-01-01 00:00:00 2023-01-01 00:00:00  2023-01-01T00:00:00  10.0      10.8   \n",
       "2023-01-01 01:00:00 2023-01-01 01:00:00  2023-01-01T01:00:00   9.0      11.2   \n",
       "2023-01-01 02:00:00 2023-01-01 02:00:00  2023-01-01T02:00:00   7.6      11.2   \n",
       "2023-01-01 03:00:00 2023-01-01 03:00:00  2023-01-01T03:00:00   9.0      12.2   \n",
       "2023-01-01 04:00:00 2023-01-01 04:00:00  2023-01-01T04:00:00   9.0       9.7   \n",
       "...                                 ...                  ...   ...       ...   \n",
       "2024-03-12 19:00:00 2024-03-12 19:00:00  2024-03-12T19:00:00  12.0      20.9   \n",
       "2024-03-12 20:00:00 2024-03-12 20:00:00  2024-03-12T20:00:00  13.9      20.2   \n",
       "2024-03-12 21:00:00 2024-03-12 21:00:00  2024-03-12T21:00:00  14.0      21.6   \n",
       "2024-03-12 22:00:00 2024-03-12 22:00:00  2024-03-12T22:00:00  13.0      22.7   \n",
       "2024-03-12 23:00:00 2024-03-12 23:00:00  2024-03-12T23:00:00  14.7      20.9   \n",
       "\n",
       "                     windspeed  winddir  sealevelpressure  cloudcover  \\\n",
       "Datetime                                                                \n",
       "2023-01-01 00:00:00        5.4    250.0            1020.0         0.0   \n",
       "2023-01-01 01:00:00        5.4    250.0            1020.0         0.0   \n",
       "2023-01-01 02:00:00        0.0    307.7            1019.5         5.0   \n",
       "2023-01-01 03:00:00        0.0      0.0            1019.0         0.0   \n",
       "2023-01-01 04:00:00        5.4    270.0            1019.0         0.0   \n",
       "...                        ...      ...               ...         ...   \n",
       "2024-03-12 19:00:00        7.6    310.0            1014.0         0.0   \n",
       "2024-03-12 20:00:00        5.1    232.0            1013.1         0.0   \n",
       "2024-03-12 21:00:00        9.4    330.0            1015.0         0.0   \n",
       "2024-03-12 22:00:00        7.6    340.0            1015.0         0.0   \n",
       "2024-03-12 23:00:00        1.4    340.0            1013.5         0.0   \n",
       "\n",
       "                     visibility  solarradiation  solarenergy  \n",
       "Datetime                                                      \n",
       "2023-01-01 00:00:00         2.0               0          0.0  \n",
       "2023-01-01 01:00:00         2.0               0          0.0  \n",
       "2023-01-01 02:00:00         1.2               0          0.0  \n",
       "2023-01-01 03:00:00         2.0               0          0.0  \n",
       "2023-01-01 04:00:00         1.0               0          0.0  \n",
       "...                         ...             ...          ...  \n",
       "2024-03-12 19:00:00         4.0              41          0.1  \n",
       "2024-03-12 20:00:00         2.3               0          0.0  \n",
       "2024-03-12 21:00:00         4.0               0          0.0  \n",
       "2024-03-12 22:00:00         4.0               0          0.0  \n",
       "2024-03-12 23:00:00         2.3               0          0.0  \n",
       "\n",
       "[10488 rows x 11 columns]"
      ]
     },
     "execution_count": 14,
     "metadata": {},
     "output_type": "execute_result"
    }
   ],
   "source": [
    "df"
   ]
  },
  {
   "cell_type": "code",
   "execution_count": 15,
   "id": "682b192f",
   "metadata": {},
   "outputs": [],
   "source": [
    "df = df[~((df['Datetime'].dt.hour >= 0) & (df['Datetime'].dt.hour < 7) |\n",
    "                  (df['Datetime'].dt.hour >= 19) & (df['Datetime'].dt.hour < 24))]"
   ]
  },
  {
   "cell_type": "code",
   "execution_count": 16,
   "id": "9082ab57",
   "metadata": {},
   "outputs": [
    {
     "name": "stderr",
     "output_type": "stream",
     "text": [
      "/var/folders/8n/95vlvnl93lg2r18pnsrgf8f40000gn/T/ipykernel_34337/2306889241.py:1: SettingWithCopyWarning: \n",
      "A value is trying to be set on a copy of a slice from a DataFrame\n",
      "\n",
      "See the caveats in the documentation: https://pandas.pydata.org/pandas-docs/stable/user_guide/indexing.html#returning-a-view-versus-a-copy\n",
      "  df.drop(columns = ['datetime', 'Datetime'], inplace = True)\n"
     ]
    }
   ],
   "source": [
    "df.drop(columns = ['datetime', 'Datetime'], inplace = True)"
   ]
  },
  {
   "cell_type": "code",
   "execution_count": 17,
   "id": "9ed47fbf",
   "metadata": {},
   "outputs": [
    {
     "data": {
      "text/html": [
       "<div>\n",
       "<style scoped>\n",
       "    .dataframe tbody tr th:only-of-type {\n",
       "        vertical-align: middle;\n",
       "    }\n",
       "\n",
       "    .dataframe tbody tr th {\n",
       "        vertical-align: top;\n",
       "    }\n",
       "\n",
       "    .dataframe thead th {\n",
       "        text-align: right;\n",
       "    }\n",
       "</style>\n",
       "<table border=\"1\" class=\"dataframe\">\n",
       "  <thead>\n",
       "    <tr style=\"text-align: right;\">\n",
       "      <th></th>\n",
       "      <th>dew</th>\n",
       "      <th>windgust</th>\n",
       "      <th>windspeed</th>\n",
       "      <th>winddir</th>\n",
       "      <th>sealevelpressure</th>\n",
       "      <th>cloudcover</th>\n",
       "      <th>visibility</th>\n",
       "      <th>solarradiation</th>\n",
       "      <th>solarenergy</th>\n",
       "    </tr>\n",
       "    <tr>\n",
       "      <th>Datetime</th>\n",
       "      <th></th>\n",
       "      <th></th>\n",
       "      <th></th>\n",
       "      <th></th>\n",
       "      <th></th>\n",
       "      <th></th>\n",
       "      <th></th>\n",
       "      <th></th>\n",
       "      <th></th>\n",
       "    </tr>\n",
       "  </thead>\n",
       "  <tbody>\n",
       "    <tr>\n",
       "      <th>2023-01-01 07:00:00</th>\n",
       "      <td>9.0</td>\n",
       "      <td>5.0</td>\n",
       "      <td>3.6</td>\n",
       "      <td>250.0</td>\n",
       "      <td>1020.0</td>\n",
       "      <td>27.2</td>\n",
       "      <td>1.0</td>\n",
       "      <td>0</td>\n",
       "      <td>0.0</td>\n",
       "    </tr>\n",
       "    <tr>\n",
       "      <th>2023-01-01 08:00:00</th>\n",
       "      <td>9.3</td>\n",
       "      <td>4.7</td>\n",
       "      <td>3.9</td>\n",
       "      <td>270.0</td>\n",
       "      <td>1021.8</td>\n",
       "      <td>37.5</td>\n",
       "      <td>1.0</td>\n",
       "      <td>1</td>\n",
       "      <td>0.0</td>\n",
       "    </tr>\n",
       "    <tr>\n",
       "      <th>2023-01-01 09:00:00</th>\n",
       "      <td>10.0</td>\n",
       "      <td>4.3</td>\n",
       "      <td>5.4</td>\n",
       "      <td>250.0</td>\n",
       "      <td>1022.0</td>\n",
       "      <td>0.0</td>\n",
       "      <td>1.0</td>\n",
       "      <td>73</td>\n",
       "      <td>0.3</td>\n",
       "    </tr>\n",
       "    <tr>\n",
       "      <th>2023-01-01 10:00:00</th>\n",
       "      <td>10.0</td>\n",
       "      <td>1.8</td>\n",
       "      <td>9.4</td>\n",
       "      <td>250.0</td>\n",
       "      <td>1023.0</td>\n",
       "      <td>0.0</td>\n",
       "      <td>2.0</td>\n",
       "      <td>209</td>\n",
       "      <td>0.8</td>\n",
       "    </tr>\n",
       "    <tr>\n",
       "      <th>2023-01-01 11:00:00</th>\n",
       "      <td>10.7</td>\n",
       "      <td>2.2</td>\n",
       "      <td>8.0</td>\n",
       "      <td>250.0</td>\n",
       "      <td>1022.5</td>\n",
       "      <td>0.0</td>\n",
       "      <td>1.9</td>\n",
       "      <td>409</td>\n",
       "      <td>1.5</td>\n",
       "    </tr>\n",
       "    <tr>\n",
       "      <th>...</th>\n",
       "      <td>...</td>\n",
       "      <td>...</td>\n",
       "      <td>...</td>\n",
       "      <td>...</td>\n",
       "      <td>...</td>\n",
       "      <td>...</td>\n",
       "      <td>...</td>\n",
       "      <td>...</td>\n",
       "      <td>...</td>\n",
       "    </tr>\n",
       "    <tr>\n",
       "      <th>2024-03-12 14:00:00</th>\n",
       "      <td>10.6</td>\n",
       "      <td>17.6</td>\n",
       "      <td>8.5</td>\n",
       "      <td>298.0</td>\n",
       "      <td>1012.9</td>\n",
       "      <td>0.0</td>\n",
       "      <td>4.1</td>\n",
       "      <td>837</td>\n",
       "      <td>3.0</td>\n",
       "    </tr>\n",
       "    <tr>\n",
       "      <th>2024-03-12 15:00:00</th>\n",
       "      <td>6.0</td>\n",
       "      <td>18.4</td>\n",
       "      <td>13.0</td>\n",
       "      <td>300.0</td>\n",
       "      <td>1014.0</td>\n",
       "      <td>0.0</td>\n",
       "      <td>5.0</td>\n",
       "      <td>767</td>\n",
       "      <td>2.8</td>\n",
       "    </tr>\n",
       "    <tr>\n",
       "      <th>2024-03-12 16:00:00</th>\n",
       "      <td>6.0</td>\n",
       "      <td>18.7</td>\n",
       "      <td>13.0</td>\n",
       "      <td>300.0</td>\n",
       "      <td>1013.0</td>\n",
       "      <td>0.0</td>\n",
       "      <td>5.0</td>\n",
       "      <td>630</td>\n",
       "      <td>2.3</td>\n",
       "    </tr>\n",
       "    <tr>\n",
       "      <th>2024-03-12 17:00:00</th>\n",
       "      <td>10.4</td>\n",
       "      <td>18.0</td>\n",
       "      <td>6.1</td>\n",
       "      <td>282.0</td>\n",
       "      <td>1012.0</td>\n",
       "      <td>0.0</td>\n",
       "      <td>4.1</td>\n",
       "      <td>441</td>\n",
       "      <td>1.6</td>\n",
       "    </tr>\n",
       "    <tr>\n",
       "      <th>2024-03-12 18:00:00</th>\n",
       "      <td>9.0</td>\n",
       "      <td>18.0</td>\n",
       "      <td>11.2</td>\n",
       "      <td>300.0</td>\n",
       "      <td>1013.0</td>\n",
       "      <td>0.0</td>\n",
       "      <td>4.0</td>\n",
       "      <td>226</td>\n",
       "      <td>0.8</td>\n",
       "    </tr>\n",
       "  </tbody>\n",
       "</table>\n",
       "<p>5244 rows × 9 columns</p>\n",
       "</div>"
      ],
      "text/plain": [
       "                      dew  windgust  windspeed  winddir  sealevelpressure  \\\n",
       "Datetime                                                                    \n",
       "2023-01-01 07:00:00   9.0       5.0        3.6    250.0            1020.0   \n",
       "2023-01-01 08:00:00   9.3       4.7        3.9    270.0            1021.8   \n",
       "2023-01-01 09:00:00  10.0       4.3        5.4    250.0            1022.0   \n",
       "2023-01-01 10:00:00  10.0       1.8        9.4    250.0            1023.0   \n",
       "2023-01-01 11:00:00  10.7       2.2        8.0    250.0            1022.5   \n",
       "...                   ...       ...        ...      ...               ...   \n",
       "2024-03-12 14:00:00  10.6      17.6        8.5    298.0            1012.9   \n",
       "2024-03-12 15:00:00   6.0      18.4       13.0    300.0            1014.0   \n",
       "2024-03-12 16:00:00   6.0      18.7       13.0    300.0            1013.0   \n",
       "2024-03-12 17:00:00  10.4      18.0        6.1    282.0            1012.0   \n",
       "2024-03-12 18:00:00   9.0      18.0       11.2    300.0            1013.0   \n",
       "\n",
       "                     cloudcover  visibility  solarradiation  solarenergy  \n",
       "Datetime                                                                  \n",
       "2023-01-01 07:00:00        27.2         1.0               0          0.0  \n",
       "2023-01-01 08:00:00        37.5         1.0               1          0.0  \n",
       "2023-01-01 09:00:00         0.0         1.0              73          0.3  \n",
       "2023-01-01 10:00:00         0.0         2.0             209          0.8  \n",
       "2023-01-01 11:00:00         0.0         1.9             409          1.5  \n",
       "...                         ...         ...             ...          ...  \n",
       "2024-03-12 14:00:00         0.0         4.1             837          3.0  \n",
       "2024-03-12 15:00:00         0.0         5.0             767          2.8  \n",
       "2024-03-12 16:00:00         0.0         5.0             630          2.3  \n",
       "2024-03-12 17:00:00         0.0         4.1             441          1.6  \n",
       "2024-03-12 18:00:00         0.0         4.0             226          0.8  \n",
       "\n",
       "[5244 rows x 9 columns]"
      ]
     },
     "execution_count": 17,
     "metadata": {},
     "output_type": "execute_result"
    }
   ],
   "source": [
    "df"
   ]
  },
  {
   "cell_type": "code",
   "execution_count": 18,
   "id": "4748a6d4",
   "metadata": {},
   "outputs": [
    {
     "data": {
      "text/plain": [
       "<Axes: xlabel='Datetime'>"
      ]
     },
     "execution_count": 18,
     "metadata": {},
     "output_type": "execute_result"
    },
    {
     "data": {
      "image/png": "[encoded data removed]",
      "text/plain": [
       "<Figure size 640x480 with 1 Axes>"
      ]
     },
     "metadata": {},
     "output_type": "display_data"
    }
   ],
   "source": [
    "ghi = df['solarradiation']\n",
    "ghi.plot()"
   ]
  },
  {
   "cell_type": "code",
   "execution_count": 19,
   "id": "9be3a638",
   "metadata": {},
   "outputs": [
    {
     "data": {
      "text/plain": [
       "Datetime\n",
       "2023-01-01 07:00:00      0\n",
       "2023-01-01 08:00:00      1\n",
       "2023-01-01 09:00:00     73\n",
       "2023-01-01 10:00:00    209\n",
       "2023-01-01 11:00:00    409\n",
       "                      ... \n",
       "2024-03-12 14:00:00    837\n",
       "2024-03-12 15:00:00    767\n",
       "2024-03-12 16:00:00    630\n",
       "2024-03-12 17:00:00    441\n",
       "2024-03-12 18:00:00    226\n",
       "Name: solarradiation, Length: 5244, dtype: int64"
      ]
     },
     "execution_count": 19,
     "metadata": {},
     "output_type": "execute_result"
    }
   ],
   "source": [
    "df['solarradiation']"
   ]
  },
  {
   "cell_type": "code",
   "execution_count": 20,
   "id": "eb2ad937",
   "metadata": {},
   "outputs": [
    {
     "name": "stderr",
     "output_type": "stream",
     "text": [
      "/var/folders/8n/95vlvnl93lg2r18pnsrgf8f40000gn/T/ipykernel_34337/3527561163.py:1: SettingWithCopyWarning: \n",
      "A value is trying to be set on a copy of a slice from a DataFrame.\n",
      "Try using .loc[row_indexer,col_indexer] = value instead\n",
      "\n",
      "See the caveats in the documentation: https://pandas.pydata.org/pandas-docs/stable/user_guide/indexing.html#returning-a-view-versus-a-copy\n",
      "  df['Seconds'] = df.index.map(pd.Timestamp.timestamp)\n"
     ]
    },
    {
     "data": {
      "text/html": [
       "<div>\n",
       "<style scoped>\n",
       "    .dataframe tbody tr th:only-of-type {\n",
       "        vertical-align: middle;\n",
       "    }\n",
       "\n",
       "    .dataframe tbody tr th {\n",
       "        vertical-align: top;\n",
       "    }\n",
       "\n",
       "    .dataframe thead th {\n",
       "        text-align: right;\n",
       "    }\n",
       "</style>\n",
       "<table border=\"1\" class=\"dataframe\">\n",
       "  <thead>\n",
       "    <tr style=\"text-align: right;\">\n",
       "      <th></th>\n",
       "      <th>dew</th>\n",
       "      <th>windgust</th>\n",
       "      <th>windspeed</th>\n",
       "      <th>winddir</th>\n",
       "      <th>sealevelpressure</th>\n",
       "      <th>cloudcover</th>\n",
       "      <th>visibility</th>\n",
       "      <th>solarradiation</th>\n",
       "      <th>solarenergy</th>\n",
       "      <th>Seconds</th>\n",
       "    </tr>\n",
       "    <tr>\n",
       "      <th>Datetime</th>\n",
       "      <th></th>\n",
       "      <th></th>\n",
       "      <th></th>\n",
       "      <th></th>\n",
       "      <th></th>\n",
       "      <th></th>\n",
       "      <th></th>\n",
       "      <th></th>\n",
       "      <th></th>\n",
       "      <th></th>\n",
       "    </tr>\n",
       "  </thead>\n",
       "  <tbody>\n",
       "    <tr>\n",
       "      <th>2023-01-01 07:00:00</th>\n",
       "      <td>9.0</td>\n",
       "      <td>5.0</td>\n",
       "      <td>3.6</td>\n",
       "      <td>250.0</td>\n",
       "      <td>1020.0</td>\n",
       "      <td>27.2</td>\n",
       "      <td>1.0</td>\n",
       "      <td>0</td>\n",
       "      <td>0.0</td>\n",
       "      <td>1.672556e+09</td>\n",
       "    </tr>\n",
       "    <tr>\n",
       "      <th>2023-01-01 08:00:00</th>\n",
       "      <td>9.3</td>\n",
       "      <td>4.7</td>\n",
       "      <td>3.9</td>\n",
       "      <td>270.0</td>\n",
       "      <td>1021.8</td>\n",
       "      <td>37.5</td>\n",
       "      <td>1.0</td>\n",
       "      <td>1</td>\n",
       "      <td>0.0</td>\n",
       "      <td>1.672560e+09</td>\n",
       "    </tr>\n",
       "    <tr>\n",
       "      <th>2023-01-01 09:00:00</th>\n",
       "      <td>10.0</td>\n",
       "      <td>4.3</td>\n",
       "      <td>5.4</td>\n",
       "      <td>250.0</td>\n",
       "      <td>1022.0</td>\n",
       "      <td>0.0</td>\n",
       "      <td>1.0</td>\n",
       "      <td>73</td>\n",
       "      <td>0.3</td>\n",
       "      <td>1.672564e+09</td>\n",
       "    </tr>\n",
       "    <tr>\n",
       "      <th>2023-01-01 10:00:00</th>\n",
       "      <td>10.0</td>\n",
       "      <td>1.8</td>\n",
       "      <td>9.4</td>\n",
       "      <td>250.0</td>\n",
       "      <td>1023.0</td>\n",
       "      <td>0.0</td>\n",
       "      <td>2.0</td>\n",
       "      <td>209</td>\n",
       "      <td>0.8</td>\n",
       "      <td>1.672567e+09</td>\n",
       "    </tr>\n",
       "    <tr>\n",
       "      <th>2023-01-01 11:00:00</th>\n",
       "      <td>10.7</td>\n",
       "      <td>2.2</td>\n",
       "      <td>8.0</td>\n",
       "      <td>250.0</td>\n",
       "      <td>1022.5</td>\n",
       "      <td>0.0</td>\n",
       "      <td>1.9</td>\n",
       "      <td>409</td>\n",
       "      <td>1.5</td>\n",
       "      <td>1.672571e+09</td>\n",
       "    </tr>\n",
       "    <tr>\n",
       "      <th>...</th>\n",
       "      <td>...</td>\n",
       "      <td>...</td>\n",
       "      <td>...</td>\n",
       "      <td>...</td>\n",
       "      <td>...</td>\n",
       "      <td>...</td>\n",
       "      <td>...</td>\n",
       "      <td>...</td>\n",
       "      <td>...</td>\n",
       "      <td>...</td>\n",
       "    </tr>\n",
       "    <tr>\n",
       "      <th>2024-03-12 14:00:00</th>\n",
       "      <td>10.6</td>\n",
       "      <td>17.6</td>\n",
       "      <td>8.5</td>\n",
       "      <td>298.0</td>\n",
       "      <td>1012.9</td>\n",
       "      <td>0.0</td>\n",
       "      <td>4.1</td>\n",
       "      <td>837</td>\n",
       "      <td>3.0</td>\n",
       "      <td>1.710252e+09</td>\n",
       "    </tr>\n",
       "    <tr>\n",
       "      <th>2024-03-12 15:00:00</th>\n",
       "      <td>6.0</td>\n",
       "      <td>18.4</td>\n",
       "      <td>13.0</td>\n",
       "      <td>300.0</td>\n",
       "      <td>1014.0</td>\n",
       "      <td>0.0</td>\n",
       "      <td>5.0</td>\n",
       "      <td>767</td>\n",
       "      <td>2.8</td>\n",
       "      <td>1.710256e+09</td>\n",
       "    </tr>\n",
       "    <tr>\n",
       "      <th>2024-03-12 16:00:00</th>\n",
       "      <td>6.0</td>\n",
       "      <td>18.7</td>\n",
       "      <td>13.0</td>\n",
       "      <td>300.0</td>\n",
       "      <td>1013.0</td>\n",
       "      <td>0.0</td>\n",
       "      <td>5.0</td>\n",
       "      <td>630</td>\n",
       "      <td>2.3</td>\n",
       "      <td>1.710259e+09</td>\n",
       "    </tr>\n",
       "    <tr>\n",
       "      <th>2024-03-12 17:00:00</th>\n",
       "      <td>10.4</td>\n",
       "      <td>18.0</td>\n",
       "      <td>6.1</td>\n",
       "      <td>282.0</td>\n",
       "      <td>1012.0</td>\n",
       "      <td>0.0</td>\n",
       "      <td>4.1</td>\n",
       "      <td>441</td>\n",
       "      <td>1.6</td>\n",
       "      <td>1.710263e+09</td>\n",
       "    </tr>\n",
       "    <tr>\n",
       "      <th>2024-03-12 18:00:00</th>\n",
       "      <td>9.0</td>\n",
       "      <td>18.0</td>\n",
       "      <td>11.2</td>\n",
       "      <td>300.0</td>\n",
       "      <td>1013.0</td>\n",
       "      <td>0.0</td>\n",
       "      <td>4.0</td>\n",
       "      <td>226</td>\n",
       "      <td>0.8</td>\n",
       "      <td>1.710266e+09</td>\n",
       "    </tr>\n",
       "  </tbody>\n",
       "</table>\n",
       "<p>5244 rows × 10 columns</p>\n",
       "</div>"
      ],
      "text/plain": [
       "                      dew  windgust  windspeed  winddir  sealevelpressure  \\\n",
       "Datetime                                                                    \n",
       "2023-01-01 07:00:00   9.0       5.0        3.6    250.0            1020.0   \n",
       "2023-01-01 08:00:00   9.3       4.7        3.9    270.0            1021.8   \n",
       "2023-01-01 09:00:00  10.0       4.3        5.4    250.0            1022.0   \n",
       "2023-01-01 10:00:00  10.0       1.8        9.4    250.0            1023.0   \n",
       "2023-01-01 11:00:00  10.7       2.2        8.0    250.0            1022.5   \n",
       "...                   ...       ...        ...      ...               ...   \n",
       "2024-03-12 14:00:00  10.6      17.6        8.5    298.0            1012.9   \n",
       "2024-03-12 15:00:00   6.0      18.4       13.0    300.0            1014.0   \n",
       "2024-03-12 16:00:00   6.0      18.7       13.0    300.0            1013.0   \n",
       "2024-03-12 17:00:00  10.4      18.0        6.1    282.0            1012.0   \n",
       "2024-03-12 18:00:00   9.0      18.0       11.2    300.0            1013.0   \n",
       "\n",
       "                     cloudcover  visibility  solarradiation  solarenergy  \\\n",
       "Datetime                                                                   \n",
       "2023-01-01 07:00:00        27.2         1.0               0          0.0   \n",
       "2023-01-01 08:00:00        37.5         1.0               1          0.0   \n",
       "2023-01-01 09:00:00         0.0         1.0              73          0.3   \n",
       "2023-01-01 10:00:00         0.0         2.0             209          0.8   \n",
       "2023-01-01 11:00:00         0.0         1.9             409          1.5   \n",
       "...                         ...         ...             ...          ...   \n",
       "2024-03-12 14:00:00         0.0         4.1             837          3.0   \n",
       "2024-03-12 15:00:00         0.0         5.0             767          2.8   \n",
       "2024-03-12 16:00:00         0.0         5.0             630          2.3   \n",
       "2024-03-12 17:00:00         0.0         4.1             441          1.6   \n",
       "2024-03-12 18:00:00         0.0         4.0             226          0.8   \n",
       "\n",
       "                          Seconds  \n",
       "Datetime                           \n",
       "2023-01-01 07:00:00  1.672556e+09  \n",
       "2023-01-01 08:00:00  1.672560e+09  \n",
       "2023-01-01 09:00:00  1.672564e+09  \n",
       "2023-01-01 10:00:00  1.672567e+09  \n",
       "2023-01-01 11:00:00  1.672571e+09  \n",
       "...                           ...  \n",
       "2024-03-12 14:00:00  1.710252e+09  \n",
       "2024-03-12 15:00:00  1.710256e+09  \n",
       "2024-03-12 16:00:00  1.710259e+09  \n",
       "2024-03-12 17:00:00  1.710263e+09  \n",
       "2024-03-12 18:00:00  1.710266e+09  \n",
       "\n",
       "[5244 rows x 10 columns]"
      ]
     },
     "execution_count": 20,
     "metadata": {},
     "output_type": "execute_result"
    }
   ],
   "source": [
    "df['Seconds'] = df.index.map(pd.Timestamp.timestamp)\n",
    "df"
   ]
  },
  {
   "cell_type": "code",
   "execution_count": 21,
   "id": "a5945bdd",
   "metadata": {},
   "outputs": [
    {
     "name": "stderr",
     "output_type": "stream",
     "text": [
      "/var/folders/8n/95vlvnl93lg2r18pnsrgf8f40000gn/T/ipykernel_34337/83241650.py:4: SettingWithCopyWarning: \n",
      "A value is trying to be set on a copy of a slice from a DataFrame.\n",
      "Try using .loc[row_indexer,col_indexer] = value instead\n",
      "\n",
      "See the caveats in the documentation: https://pandas.pydata.org/pandas-docs/stable/user_guide/indexing.html#returning-a-view-versus-a-copy\n",
      "  df['Day sin'] = np.sin(df['Seconds'] * (2* np.pi / day))\n",
      "/var/folders/8n/95vlvnl93lg2r18pnsrgf8f40000gn/T/ipykernel_34337/83241650.py:5: SettingWithCopyWarning: \n",
      "A value is trying to be set on a copy of a slice from a DataFrame.\n",
      "Try using .loc[row_indexer,col_indexer] = value instead\n",
      "\n",
      "See the caveats in the documentation: https://pandas.pydata.org/pandas-docs/stable/user_guide/indexing.html#returning-a-view-versus-a-copy\n",
      "  df['Day cos'] = np.cos(df['Seconds'] * (2 * np.pi / day))\n",
      "/var/folders/8n/95vlvnl93lg2r18pnsrgf8f40000gn/T/ipykernel_34337/83241650.py:6: SettingWithCopyWarning: \n",
      "A value is trying to be set on a copy of a slice from a DataFrame.\n",
      "Try using .loc[row_indexer,col_indexer] = value instead\n",
      "\n",
      "See the caveats in the documentation: https://pandas.pydata.org/pandas-docs/stable/user_guide/indexing.html#returning-a-view-versus-a-copy\n",
      "  df['Month sin'] = np.sin(df['Seconds'] * (2 * np.pi / month))\n",
      "/var/folders/8n/95vlvnl93lg2r18pnsrgf8f40000gn/T/ipykernel_34337/83241650.py:7: SettingWithCopyWarning: \n",
      "A value is trying to be set on a copy of a slice from a DataFrame.\n",
      "Try using .loc[row_indexer,col_indexer] = value instead\n",
      "\n",
      "See the caveats in the documentation: https://pandas.pydata.org/pandas-docs/stable/user_guide/indexing.html#returning-a-view-versus-a-copy\n",
      "  df['Month cos'] = np.cos(df['Seconds'] * (2 * np.pi / month))\n"
     ]
    },
    {
     "data": {
      "text/html": [
       "<div>\n",
       "<style scoped>\n",
       "    .dataframe tbody tr th:only-of-type {\n",
       "        vertical-align: middle;\n",
       "    }\n",
       "\n",
       "    .dataframe tbody tr th {\n",
       "        vertical-align: top;\n",
       "    }\n",
       "\n",
       "    .dataframe thead th {\n",
       "        text-align: right;\n",
       "    }\n",
       "</style>\n",
       "<table border=\"1\" class=\"dataframe\">\n",
       "  <thead>\n",
       "    <tr style=\"text-align: right;\">\n",
       "      <th></th>\n",
       "      <th>dew</th>\n",
       "      <th>windgust</th>\n",
       "      <th>windspeed</th>\n",
       "      <th>winddir</th>\n",
       "      <th>sealevelpressure</th>\n",
       "      <th>cloudcover</th>\n",
       "      <th>visibility</th>\n",
       "      <th>solarradiation</th>\n",
       "      <th>solarenergy</th>\n",
       "      <th>Seconds</th>\n",
       "      <th>Day sin</th>\n",
       "      <th>Day cos</th>\n",
       "      <th>Month sin</th>\n",
       "      <th>Month cos</th>\n",
       "    </tr>\n",
       "    <tr>\n",
       "      <th>Datetime</th>\n",
       "      <th></th>\n",
       "      <th></th>\n",
       "      <th></th>\n",
       "      <th></th>\n",
       "      <th></th>\n",
       "      <th></th>\n",
       "      <th></th>\n",
       "      <th></th>\n",
       "      <th></th>\n",
       "      <th></th>\n",
       "      <th></th>\n",
       "      <th></th>\n",
       "      <th></th>\n",
       "      <th></th>\n",
       "    </tr>\n",
       "  </thead>\n",
       "  <tbody>\n",
       "    <tr>\n",
       "      <th>2023-01-01 07:00:00</th>\n",
       "      <td>9.0</td>\n",
       "      <td>5.0</td>\n",
       "      <td>3.6</td>\n",
       "      <td>250.0</td>\n",
       "      <td>1020.0</td>\n",
       "      <td>27.2</td>\n",
       "      <td>1.0</td>\n",
       "      <td>0</td>\n",
       "      <td>0.0</td>\n",
       "      <td>1.672556e+09</td>\n",
       "      <td>0.965926</td>\n",
       "      <td>-0.258819</td>\n",
       "      <td>0.986286</td>\n",
       "      <td>-0.165048</td>\n",
       "    </tr>\n",
       "    <tr>\n",
       "      <th>2023-01-01 08:00:00</th>\n",
       "      <td>9.3</td>\n",
       "      <td>4.7</td>\n",
       "      <td>3.9</td>\n",
       "      <td>270.0</td>\n",
       "      <td>1021.8</td>\n",
       "      <td>37.5</td>\n",
       "      <td>1.0</td>\n",
       "      <td>1</td>\n",
       "      <td>0.0</td>\n",
       "      <td>1.672560e+09</td>\n",
       "      <td>0.866025</td>\n",
       "      <td>-0.500000</td>\n",
       "      <td>0.984808</td>\n",
       "      <td>-0.173648</td>\n",
       "    </tr>\n",
       "    <tr>\n",
       "      <th>2023-01-01 09:00:00</th>\n",
       "      <td>10.0</td>\n",
       "      <td>4.3</td>\n",
       "      <td>5.4</td>\n",
       "      <td>250.0</td>\n",
       "      <td>1022.0</td>\n",
       "      <td>0.0</td>\n",
       "      <td>1.0</td>\n",
       "      <td>73</td>\n",
       "      <td>0.3</td>\n",
       "      <td>1.672564e+09</td>\n",
       "      <td>0.707107</td>\n",
       "      <td>-0.707107</td>\n",
       "      <td>0.983255</td>\n",
       "      <td>-0.182236</td>\n",
       "    </tr>\n",
       "    <tr>\n",
       "      <th>2023-01-01 10:00:00</th>\n",
       "      <td>10.0</td>\n",
       "      <td>1.8</td>\n",
       "      <td>9.4</td>\n",
       "      <td>250.0</td>\n",
       "      <td>1023.0</td>\n",
       "      <td>0.0</td>\n",
       "      <td>2.0</td>\n",
       "      <td>209</td>\n",
       "      <td>0.8</td>\n",
       "      <td>1.672567e+09</td>\n",
       "      <td>0.500000</td>\n",
       "      <td>-0.866025</td>\n",
       "      <td>0.981627</td>\n",
       "      <td>-0.190809</td>\n",
       "    </tr>\n",
       "    <tr>\n",
       "      <th>2023-01-01 11:00:00</th>\n",
       "      <td>10.7</td>\n",
       "      <td>2.2</td>\n",
       "      <td>8.0</td>\n",
       "      <td>250.0</td>\n",
       "      <td>1022.5</td>\n",
       "      <td>0.0</td>\n",
       "      <td>1.9</td>\n",
       "      <td>409</td>\n",
       "      <td>1.5</td>\n",
       "      <td>1.672571e+09</td>\n",
       "      <td>0.258819</td>\n",
       "      <td>-0.965926</td>\n",
       "      <td>0.979925</td>\n",
       "      <td>-0.199368</td>\n",
       "    </tr>\n",
       "  </tbody>\n",
       "</table>\n",
       "</div>"
      ],
      "text/plain": [
       "                      dew  windgust  windspeed  winddir  sealevelpressure  \\\n",
       "Datetime                                                                    \n",
       "2023-01-01 07:00:00   9.0       5.0        3.6    250.0            1020.0   \n",
       "2023-01-01 08:00:00   9.3       4.7        3.9    270.0            1021.8   \n",
       "2023-01-01 09:00:00  10.0       4.3        5.4    250.0            1022.0   \n",
       "2023-01-01 10:00:00  10.0       1.8        9.4    250.0            1023.0   \n",
       "2023-01-01 11:00:00  10.7       2.2        8.0    250.0            1022.5   \n",
       "\n",
       "                     cloudcover  visibility  solarradiation  solarenergy  \\\n",
       "Datetime                                                                   \n",
       "2023-01-01 07:00:00        27.2         1.0               0          0.0   \n",
       "2023-01-01 08:00:00        37.5         1.0               1          0.0   \n",
       "2023-01-01 09:00:00         0.0         1.0              73          0.3   \n",
       "2023-01-01 10:00:00         0.0         2.0             209          0.8   \n",
       "2023-01-01 11:00:00         0.0         1.9             409          1.5   \n",
       "\n",
       "                          Seconds   Day sin   Day cos  Month sin  Month cos  \n",
       "Datetime                                                                     \n",
       "2023-01-01 07:00:00  1.672556e+09  0.965926 -0.258819   0.986286  -0.165048  \n",
       "2023-01-01 08:00:00  1.672560e+09  0.866025 -0.500000   0.984808  -0.173648  \n",
       "2023-01-01 09:00:00  1.672564e+09  0.707107 -0.707107   0.983255  -0.182236  \n",
       "2023-01-01 10:00:00  1.672567e+09  0.500000 -0.866025   0.981627  -0.190809  \n",
       "2023-01-01 11:00:00  1.672571e+09  0.258819 -0.965926   0.979925  -0.199368  "
      ]
     },
     "execution_count": 21,
     "metadata": {},
     "output_type": "execute_result"
    }
   ],
   "source": [
    "day = 60*60*24\n",
    "month = 30*day\n",
    "\n",
    "df['Day sin'] = np.sin(df['Seconds'] * (2* np.pi / day))\n",
    "df['Day cos'] = np.cos(df['Seconds'] * (2 * np.pi / day))\n",
    "df['Month sin'] = np.sin(df['Seconds'] * (2 * np.pi / month))\n",
    "df['Month cos'] = np.cos(df['Seconds'] * (2 * np.pi / month))\n",
    "df.head()"
   ]
  },
  {
   "cell_type": "code",
   "execution_count": 22,
   "id": "007ec6aa",
   "metadata": {},
   "outputs": [
    {
     "data": {
      "text/html": [
       "<div>\n",
       "<style scoped>\n",
       "    .dataframe tbody tr th:only-of-type {\n",
       "        vertical-align: middle;\n",
       "    }\n",
       "\n",
       "    .dataframe tbody tr th {\n",
       "        vertical-align: top;\n",
       "    }\n",
       "\n",
       "    .dataframe thead th {\n",
       "        text-align: right;\n",
       "    }\n",
       "</style>\n",
       "<table border=\"1\" class=\"dataframe\">\n",
       "  <thead>\n",
       "    <tr style=\"text-align: right;\">\n",
       "      <th></th>\n",
       "      <th>dew</th>\n",
       "      <th>windgust</th>\n",
       "      <th>windspeed</th>\n",
       "      <th>winddir</th>\n",
       "      <th>sealevelpressure</th>\n",
       "      <th>cloudcover</th>\n",
       "      <th>visibility</th>\n",
       "      <th>solarradiation</th>\n",
       "      <th>solarenergy</th>\n",
       "      <th>Day sin</th>\n",
       "      <th>Day cos</th>\n",
       "      <th>Month sin</th>\n",
       "      <th>Month cos</th>\n",
       "    </tr>\n",
       "    <tr>\n",
       "      <th>Datetime</th>\n",
       "      <th></th>\n",
       "      <th></th>\n",
       "      <th></th>\n",
       "      <th></th>\n",
       "      <th></th>\n",
       "      <th></th>\n",
       "      <th></th>\n",
       "      <th></th>\n",
       "      <th></th>\n",
       "      <th></th>\n",
       "      <th></th>\n",
       "      <th></th>\n",
       "      <th></th>\n",
       "    </tr>\n",
       "  </thead>\n",
       "  <tbody>\n",
       "    <tr>\n",
       "      <th>2023-01-01 07:00:00</th>\n",
       "      <td>9.0</td>\n",
       "      <td>5.0</td>\n",
       "      <td>3.6</td>\n",
       "      <td>250.0</td>\n",
       "      <td>1020.0</td>\n",
       "      <td>27.2</td>\n",
       "      <td>1.0</td>\n",
       "      <td>0</td>\n",
       "      <td>0.0</td>\n",
       "      <td>0.965926</td>\n",
       "      <td>-0.258819</td>\n",
       "      <td>0.986286</td>\n",
       "      <td>-0.165048</td>\n",
       "    </tr>\n",
       "    <tr>\n",
       "      <th>2023-01-01 08:00:00</th>\n",
       "      <td>9.3</td>\n",
       "      <td>4.7</td>\n",
       "      <td>3.9</td>\n",
       "      <td>270.0</td>\n",
       "      <td>1021.8</td>\n",
       "      <td>37.5</td>\n",
       "      <td>1.0</td>\n",
       "      <td>1</td>\n",
       "      <td>0.0</td>\n",
       "      <td>0.866025</td>\n",
       "      <td>-0.500000</td>\n",
       "      <td>0.984808</td>\n",
       "      <td>-0.173648</td>\n",
       "    </tr>\n",
       "    <tr>\n",
       "      <th>2023-01-01 09:00:00</th>\n",
       "      <td>10.0</td>\n",
       "      <td>4.3</td>\n",
       "      <td>5.4</td>\n",
       "      <td>250.0</td>\n",
       "      <td>1022.0</td>\n",
       "      <td>0.0</td>\n",
       "      <td>1.0</td>\n",
       "      <td>73</td>\n",
       "      <td>0.3</td>\n",
       "      <td>0.707107</td>\n",
       "      <td>-0.707107</td>\n",
       "      <td>0.983255</td>\n",
       "      <td>-0.182236</td>\n",
       "    </tr>\n",
       "    <tr>\n",
       "      <th>2023-01-01 10:00:00</th>\n",
       "      <td>10.0</td>\n",
       "      <td>1.8</td>\n",
       "      <td>9.4</td>\n",
       "      <td>250.0</td>\n",
       "      <td>1023.0</td>\n",
       "      <td>0.0</td>\n",
       "      <td>2.0</td>\n",
       "      <td>209</td>\n",
       "      <td>0.8</td>\n",
       "      <td>0.500000</td>\n",
       "      <td>-0.866025</td>\n",
       "      <td>0.981627</td>\n",
       "      <td>-0.190809</td>\n",
       "    </tr>\n",
       "    <tr>\n",
       "      <th>2023-01-01 11:00:00</th>\n",
       "      <td>10.7</td>\n",
       "      <td>2.2</td>\n",
       "      <td>8.0</td>\n",
       "      <td>250.0</td>\n",
       "      <td>1022.5</td>\n",
       "      <td>0.0</td>\n",
       "      <td>1.9</td>\n",
       "      <td>409</td>\n",
       "      <td>1.5</td>\n",
       "      <td>0.258819</td>\n",
       "      <td>-0.965926</td>\n",
       "      <td>0.979925</td>\n",
       "      <td>-0.199368</td>\n",
       "    </tr>\n",
       "  </tbody>\n",
       "</table>\n",
       "</div>"
      ],
      "text/plain": [
       "                      dew  windgust  windspeed  winddir  sealevelpressure  \\\n",
       "Datetime                                                                    \n",
       "2023-01-01 07:00:00   9.0       5.0        3.6    250.0            1020.0   \n",
       "2023-01-01 08:00:00   9.3       4.7        3.9    270.0            1021.8   \n",
       "2023-01-01 09:00:00  10.0       4.3        5.4    250.0            1022.0   \n",
       "2023-01-01 10:00:00  10.0       1.8        9.4    250.0            1023.0   \n",
       "2023-01-01 11:00:00  10.7       2.2        8.0    250.0            1022.5   \n",
       "\n",
       "                     cloudcover  visibility  solarradiation  solarenergy  \\\n",
       "Datetime                                                                   \n",
       "2023-01-01 07:00:00        27.2         1.0               0          0.0   \n",
       "2023-01-01 08:00:00        37.5         1.0               1          0.0   \n",
       "2023-01-01 09:00:00         0.0         1.0              73          0.3   \n",
       "2023-01-01 10:00:00         0.0         2.0             209          0.8   \n",
       "2023-01-01 11:00:00         0.0         1.9             409          1.5   \n",
       "\n",
       "                      Day sin   Day cos  Month sin  Month cos  \n",
       "Datetime                                                       \n",
       "2023-01-01 07:00:00  0.965926 -0.258819   0.986286  -0.165048  \n",
       "2023-01-01 08:00:00  0.866025 -0.500000   0.984808  -0.173648  \n",
       "2023-01-01 09:00:00  0.707107 -0.707107   0.983255  -0.182236  \n",
       "2023-01-01 10:00:00  0.500000 -0.866025   0.981627  -0.190809  \n",
       "2023-01-01 11:00:00  0.258819 -0.965926   0.979925  -0.199368  "
      ]
     },
     "execution_count": 22,
     "metadata": {},
     "output_type": "execute_result"
    }
   ],
   "source": [
    "df = df.drop('Seconds', axis=1)\n",
    "df.head()"
   ]
  },
  {
   "cell_type": "code",
   "execution_count": 23,
   "id": "10531a85",
   "metadata": {},
   "outputs": [
    {
     "data": {
      "text/html": [
       "<div>\n",
       "<style scoped>\n",
       "    .dataframe tbody tr th:only-of-type {\n",
       "        vertical-align: middle;\n",
       "    }\n",
       "\n",
       "    .dataframe tbody tr th {\n",
       "        vertical-align: top;\n",
       "    }\n",
       "\n",
       "    .dataframe thead th {\n",
       "        text-align: right;\n",
       "    }\n",
       "</style>\n",
       "<table border=\"1\" class=\"dataframe\">\n",
       "  <thead>\n",
       "    <tr style=\"text-align: right;\">\n",
       "      <th></th>\n",
       "      <th>dew</th>\n",
       "      <th>windgust</th>\n",
       "      <th>windspeed</th>\n",
       "      <th>winddir</th>\n",
       "      <th>sealevelpressure</th>\n",
       "      <th>cloudcover</th>\n",
       "      <th>visibility</th>\n",
       "      <th>solarradiation</th>\n",
       "      <th>solarenergy</th>\n",
       "      <th>Day sin</th>\n",
       "      <th>Day cos</th>\n",
       "      <th>Month sin</th>\n",
       "      <th>Month cos</th>\n",
       "    </tr>\n",
       "    <tr>\n",
       "      <th>Datetime</th>\n",
       "      <th></th>\n",
       "      <th></th>\n",
       "      <th></th>\n",
       "      <th></th>\n",
       "      <th></th>\n",
       "      <th></th>\n",
       "      <th></th>\n",
       "      <th></th>\n",
       "      <th></th>\n",
       "      <th></th>\n",
       "      <th></th>\n",
       "      <th></th>\n",
       "      <th></th>\n",
       "    </tr>\n",
       "  </thead>\n",
       "  <tbody>\n",
       "    <tr>\n",
       "      <th>2023-01-01 07:00:00</th>\n",
       "      <td>9.0</td>\n",
       "      <td>5.0</td>\n",
       "      <td>3.6</td>\n",
       "      <td>250.0</td>\n",
       "      <td>1020.0</td>\n",
       "      <td>27.2</td>\n",
       "      <td>1.0</td>\n",
       "      <td>0</td>\n",
       "      <td>0.0</td>\n",
       "      <td>0.965926</td>\n",
       "      <td>-2.588190e-01</td>\n",
       "      <td>0.986286</td>\n",
       "      <td>-0.165048</td>\n",
       "    </tr>\n",
       "    <tr>\n",
       "      <th>2023-01-01 08:00:00</th>\n",
       "      <td>9.3</td>\n",
       "      <td>4.7</td>\n",
       "      <td>3.9</td>\n",
       "      <td>270.0</td>\n",
       "      <td>1021.8</td>\n",
       "      <td>37.5</td>\n",
       "      <td>1.0</td>\n",
       "      <td>1</td>\n",
       "      <td>0.0</td>\n",
       "      <td>0.866025</td>\n",
       "      <td>-5.000000e-01</td>\n",
       "      <td>0.984808</td>\n",
       "      <td>-0.173648</td>\n",
       "    </tr>\n",
       "    <tr>\n",
       "      <th>2023-01-01 09:00:00</th>\n",
       "      <td>10.0</td>\n",
       "      <td>4.3</td>\n",
       "      <td>5.4</td>\n",
       "      <td>250.0</td>\n",
       "      <td>1022.0</td>\n",
       "      <td>0.0</td>\n",
       "      <td>1.0</td>\n",
       "      <td>73</td>\n",
       "      <td>0.3</td>\n",
       "      <td>0.707107</td>\n",
       "      <td>-7.071068e-01</td>\n",
       "      <td>0.983255</td>\n",
       "      <td>-0.182236</td>\n",
       "    </tr>\n",
       "    <tr>\n",
       "      <th>2023-01-01 10:00:00</th>\n",
       "      <td>10.0</td>\n",
       "      <td>1.8</td>\n",
       "      <td>9.4</td>\n",
       "      <td>250.0</td>\n",
       "      <td>1023.0</td>\n",
       "      <td>0.0</td>\n",
       "      <td>2.0</td>\n",
       "      <td>209</td>\n",
       "      <td>0.8</td>\n",
       "      <td>0.500000</td>\n",
       "      <td>-8.660254e-01</td>\n",
       "      <td>0.981627</td>\n",
       "      <td>-0.190809</td>\n",
       "    </tr>\n",
       "    <tr>\n",
       "      <th>2023-01-01 11:00:00</th>\n",
       "      <td>10.7</td>\n",
       "      <td>2.2</td>\n",
       "      <td>8.0</td>\n",
       "      <td>250.0</td>\n",
       "      <td>1022.5</td>\n",
       "      <td>0.0</td>\n",
       "      <td>1.9</td>\n",
       "      <td>409</td>\n",
       "      <td>1.5</td>\n",
       "      <td>0.258819</td>\n",
       "      <td>-9.659258e-01</td>\n",
       "      <td>0.979925</td>\n",
       "      <td>-0.199368</td>\n",
       "    </tr>\n",
       "    <tr>\n",
       "      <th>...</th>\n",
       "      <td>...</td>\n",
       "      <td>...</td>\n",
       "      <td>...</td>\n",
       "      <td>...</td>\n",
       "      <td>...</td>\n",
       "      <td>...</td>\n",
       "      <td>...</td>\n",
       "      <td>...</td>\n",
       "      <td>...</td>\n",
       "      <td>...</td>\n",
       "      <td>...</td>\n",
       "      <td>...</td>\n",
       "      <td>...</td>\n",
       "    </tr>\n",
       "    <tr>\n",
       "      <th>2024-03-12 14:00:00</th>\n",
       "      <td>10.6</td>\n",
       "      <td>17.6</td>\n",
       "      <td>8.5</td>\n",
       "      <td>298.0</td>\n",
       "      <td>1012.9</td>\n",
       "      <td>0.0</td>\n",
       "      <td>4.1</td>\n",
       "      <td>837</td>\n",
       "      <td>3.0</td>\n",
       "      <td>-0.500000</td>\n",
       "      <td>-8.660254e-01</td>\n",
       "      <td>-0.906308</td>\n",
       "      <td>0.422618</td>\n",
       "    </tr>\n",
       "    <tr>\n",
       "      <th>2024-03-12 15:00:00</th>\n",
       "      <td>6.0</td>\n",
       "      <td>18.4</td>\n",
       "      <td>13.0</td>\n",
       "      <td>300.0</td>\n",
       "      <td>1014.0</td>\n",
       "      <td>0.0</td>\n",
       "      <td>5.0</td>\n",
       "      <td>767</td>\n",
       "      <td>2.8</td>\n",
       "      <td>-0.707107</td>\n",
       "      <td>-7.071068e-01</td>\n",
       "      <td>-0.902585</td>\n",
       "      <td>0.430511</td>\n",
       "    </tr>\n",
       "    <tr>\n",
       "      <th>2024-03-12 16:00:00</th>\n",
       "      <td>6.0</td>\n",
       "      <td>18.7</td>\n",
       "      <td>13.0</td>\n",
       "      <td>300.0</td>\n",
       "      <td>1013.0</td>\n",
       "      <td>0.0</td>\n",
       "      <td>5.0</td>\n",
       "      <td>630</td>\n",
       "      <td>2.3</td>\n",
       "      <td>-0.866025</td>\n",
       "      <td>-5.000000e-01</td>\n",
       "      <td>-0.898794</td>\n",
       "      <td>0.438371</td>\n",
       "    </tr>\n",
       "    <tr>\n",
       "      <th>2024-03-12 17:00:00</th>\n",
       "      <td>10.4</td>\n",
       "      <td>18.0</td>\n",
       "      <td>6.1</td>\n",
       "      <td>282.0</td>\n",
       "      <td>1012.0</td>\n",
       "      <td>0.0</td>\n",
       "      <td>4.1</td>\n",
       "      <td>441</td>\n",
       "      <td>1.6</td>\n",
       "      <td>-0.965926</td>\n",
       "      <td>-2.588190e-01</td>\n",
       "      <td>-0.894934</td>\n",
       "      <td>0.446198</td>\n",
       "    </tr>\n",
       "    <tr>\n",
       "      <th>2024-03-12 18:00:00</th>\n",
       "      <td>9.0</td>\n",
       "      <td>18.0</td>\n",
       "      <td>11.2</td>\n",
       "      <td>300.0</td>\n",
       "      <td>1013.0</td>\n",
       "      <td>0.0</td>\n",
       "      <td>4.0</td>\n",
       "      <td>226</td>\n",
       "      <td>0.8</td>\n",
       "      <td>-1.000000</td>\n",
       "      <td>-7.464889e-12</td>\n",
       "      <td>-0.891007</td>\n",
       "      <td>0.453990</td>\n",
       "    </tr>\n",
       "  </tbody>\n",
       "</table>\n",
       "<p>5244 rows × 13 columns</p>\n",
       "</div>"
      ],
      "text/plain": [
       "                      dew  windgust  windspeed  winddir  sealevelpressure  \\\n",
       "Datetime                                                                    \n",
       "2023-01-01 07:00:00   9.0       5.0        3.6    250.0            1020.0   \n",
       "2023-01-01 08:00:00   9.3       4.7        3.9    270.0            1021.8   \n",
       "2023-01-01 09:00:00  10.0       4.3        5.4    250.0            1022.0   \n",
       "2023-01-01 10:00:00  10.0       1.8        9.4    250.0            1023.0   \n",
       "2023-01-01 11:00:00  10.7       2.2        8.0    250.0            1022.5   \n",
       "...                   ...       ...        ...      ...               ...   \n",
       "2024-03-12 14:00:00  10.6      17.6        8.5    298.0            1012.9   \n",
       "2024-03-12 15:00:00   6.0      18.4       13.0    300.0            1014.0   \n",
       "2024-03-12 16:00:00   6.0      18.7       13.0    300.0            1013.0   \n",
       "2024-03-12 17:00:00  10.4      18.0        6.1    282.0            1012.0   \n",
       "2024-03-12 18:00:00   9.0      18.0       11.2    300.0            1013.0   \n",
       "\n",
       "                     cloudcover  visibility  solarradiation  solarenergy  \\\n",
       "Datetime                                                                   \n",
       "2023-01-01 07:00:00        27.2         1.0               0          0.0   \n",
       "2023-01-01 08:00:00        37.5         1.0               1          0.0   \n",
       "2023-01-01 09:00:00         0.0         1.0              73          0.3   \n",
       "2023-01-01 10:00:00         0.0         2.0             209          0.8   \n",
       "2023-01-01 11:00:00         0.0         1.9             409          1.5   \n",
       "...                         ...         ...             ...          ...   \n",
       "2024-03-12 14:00:00         0.0         4.1             837          3.0   \n",
       "2024-03-12 15:00:00         0.0         5.0             767          2.8   \n",
       "2024-03-12 16:00:00         0.0         5.0             630          2.3   \n",
       "2024-03-12 17:00:00         0.0         4.1             441          1.6   \n",
       "2024-03-12 18:00:00         0.0         4.0             226          0.8   \n",
       "\n",
       "                      Day sin       Day cos  Month sin  Month cos  \n",
       "Datetime                                                           \n",
       "2023-01-01 07:00:00  0.965926 -2.588190e-01   0.986286  -0.165048  \n",
       "2023-01-01 08:00:00  0.866025 -5.000000e-01   0.984808  -0.173648  \n",
       "2023-01-01 09:00:00  0.707107 -7.071068e-01   0.983255  -0.182236  \n",
       "2023-01-01 10:00:00  0.500000 -8.660254e-01   0.981627  -0.190809  \n",
       "2023-01-01 11:00:00  0.258819 -9.659258e-01   0.979925  -0.199368  \n",
       "...                       ...           ...        ...        ...  \n",
       "2024-03-12 14:00:00 -0.500000 -8.660254e-01  -0.906308   0.422618  \n",
       "2024-03-12 15:00:00 -0.707107 -7.071068e-01  -0.902585   0.430511  \n",
       "2024-03-12 16:00:00 -0.866025 -5.000000e-01  -0.898794   0.438371  \n",
       "2024-03-12 17:00:00 -0.965926 -2.588190e-01  -0.894934   0.446198  \n",
       "2024-03-12 18:00:00 -1.000000 -7.464889e-12  -0.891007   0.453990  \n",
       "\n",
       "[5244 rows x 13 columns]"
      ]
     },
     "execution_count": 23,
     "metadata": {},
     "output_type": "execute_result"
    }
   ],
   "source": [
    "df"
   ]
  },
  {
   "cell_type": "code",
   "execution_count": 24,
   "id": "19028611",
   "metadata": {},
   "outputs": [],
   "source": [
    "# timestamps = X2_train[:, :, 0]\n",
    "\n",
    "# # Convert timestamps to Unix timestamps\n",
    "# unix_timestamps = np.array([pd.Timestamp(timestamp).timestamp() for timestamp in timestamps.flatten()])\n",
    "\n",
    "# # Compute mean and standard deviation\n",
    "# temp_training_mean = np.mean(unix_timestamps)\n",
    "# temp_training_std = np.std(unix_timestamps)\n",
    "                           \n",
    "# def preprocess(X):\n",
    "#   X[:, :, 0] = (X[:, :, 0] - temp_training_mean) / temp_training_std\n",
    "#   return X"
   ]
  },
  {
   "cell_type": "code",
   "execution_count": 25,
   "id": "78a83757",
   "metadata": {},
   "outputs": [
    {
     "data": {
      "text/html": [
       "<div>\n",
       "<style scoped>\n",
       "    .dataframe tbody tr th:only-of-type {\n",
       "        vertical-align: middle;\n",
       "    }\n",
       "\n",
       "    .dataframe tbody tr th {\n",
       "        vertical-align: top;\n",
       "    }\n",
       "\n",
       "    .dataframe thead th {\n",
       "        text-align: right;\n",
       "    }\n",
       "</style>\n",
       "<table border=\"1\" class=\"dataframe\">\n",
       "  <thead>\n",
       "    <tr style=\"text-align: right;\">\n",
       "      <th></th>\n",
       "      <th>dew</th>\n",
       "      <th>windgust</th>\n",
       "      <th>windspeed</th>\n",
       "      <th>winddir</th>\n",
       "      <th>sealevelpressure</th>\n",
       "      <th>cloudcover</th>\n",
       "      <th>visibility</th>\n",
       "      <th>solarradiation</th>\n",
       "      <th>solarenergy</th>\n",
       "      <th>Day sin</th>\n",
       "      <th>Day cos</th>\n",
       "      <th>Month sin</th>\n",
       "      <th>Month cos</th>\n",
       "    </tr>\n",
       "    <tr>\n",
       "      <th>Datetime</th>\n",
       "      <th></th>\n",
       "      <th></th>\n",
       "      <th></th>\n",
       "      <th></th>\n",
       "      <th></th>\n",
       "      <th></th>\n",
       "      <th></th>\n",
       "      <th></th>\n",
       "      <th></th>\n",
       "      <th></th>\n",
       "      <th></th>\n",
       "      <th></th>\n",
       "      <th></th>\n",
       "    </tr>\n",
       "  </thead>\n",
       "  <tbody>\n",
       "    <tr>\n",
       "      <th>2023-01-01 14:00:00</th>\n",
       "      <td>10.2</td>\n",
       "      <td>5.0</td>\n",
       "      <td>4.1</td>\n",
       "      <td>269.0</td>\n",
       "      <td>1019.3</td>\n",
       "      <td>41.6</td>\n",
       "      <td>2.1</td>\n",
       "      <td>583</td>\n",
       "      <td>2.1</td>\n",
       "      <td>-0.500000</td>\n",
       "      <td>-8.660254e-01</td>\n",
       "      <td>0.974370</td>\n",
       "      <td>-0.224951</td>\n",
       "    </tr>\n",
       "    <tr>\n",
       "      <th>2023-01-01 15:00:00</th>\n",
       "      <td>9.0</td>\n",
       "      <td>5.4</td>\n",
       "      <td>7.6</td>\n",
       "      <td>300.0</td>\n",
       "      <td>1020.0</td>\n",
       "      <td>50.0</td>\n",
       "      <td>2.0</td>\n",
       "      <td>506</td>\n",
       "      <td>1.8</td>\n",
       "      <td>-0.707107</td>\n",
       "      <td>-7.071068e-01</td>\n",
       "      <td>0.972370</td>\n",
       "      <td>-0.233445</td>\n",
       "    </tr>\n",
       "    <tr>\n",
       "      <th>2023-01-01 16:00:00</th>\n",
       "      <td>9.0</td>\n",
       "      <td>4.0</td>\n",
       "      <td>5.4</td>\n",
       "      <td>270.0</td>\n",
       "      <td>1020.0</td>\n",
       "      <td>50.0</td>\n",
       "      <td>2.0</td>\n",
       "      <td>315</td>\n",
       "      <td>1.1</td>\n",
       "      <td>-0.866025</td>\n",
       "      <td>-5.000000e-01</td>\n",
       "      <td>0.970296</td>\n",
       "      <td>-0.241922</td>\n",
       "    </tr>\n",
       "    <tr>\n",
       "      <th>2023-01-01 17:00:00</th>\n",
       "      <td>10.5</td>\n",
       "      <td>5.8</td>\n",
       "      <td>2.6</td>\n",
       "      <td>269.0</td>\n",
       "      <td>1019.2</td>\n",
       "      <td>57.4</td>\n",
       "      <td>2.0</td>\n",
       "      <td>183</td>\n",
       "      <td>0.7</td>\n",
       "      <td>-0.965926</td>\n",
       "      <td>-2.588190e-01</td>\n",
       "      <td>0.968148</td>\n",
       "      <td>-0.250380</td>\n",
       "    </tr>\n",
       "    <tr>\n",
       "      <th>2023-01-01 18:00:00</th>\n",
       "      <td>9.0</td>\n",
       "      <td>6.1</td>\n",
       "      <td>0.0</td>\n",
       "      <td>0.0</td>\n",
       "      <td>1020.0</td>\n",
       "      <td>88.9</td>\n",
       "      <td>3.0</td>\n",
       "      <td>47</td>\n",
       "      <td>0.2</td>\n",
       "      <td>-1.000000</td>\n",
       "      <td>-4.430664e-12</td>\n",
       "      <td>0.965926</td>\n",
       "      <td>-0.258819</td>\n",
       "    </tr>\n",
       "    <tr>\n",
       "      <th>2023-01-02 07:00:00</th>\n",
       "      <td>10.0</td>\n",
       "      <td>1.8</td>\n",
       "      <td>0.0</td>\n",
       "      <td>0.0</td>\n",
       "      <td>1022.0</td>\n",
       "      <td>0.0</td>\n",
       "      <td>1.0</td>\n",
       "      <td>0</td>\n",
       "      <td>0.0</td>\n",
       "      <td>0.965926</td>\n",
       "      <td>-2.588190e-01</td>\n",
       "      <td>0.930418</td>\n",
       "      <td>-0.366501</td>\n",
       "    </tr>\n",
       "    <tr>\n",
       "      <th>2023-01-02 08:00:00</th>\n",
       "      <td>10.0</td>\n",
       "      <td>3.2</td>\n",
       "      <td>0.0</td>\n",
       "      <td>50.0</td>\n",
       "      <td>1022.7</td>\n",
       "      <td>0.0</td>\n",
       "      <td>1.0</td>\n",
       "      <td>1</td>\n",
       "      <td>0.0</td>\n",
       "      <td>0.866025</td>\n",
       "      <td>-5.000000e-01</td>\n",
       "      <td>0.927184</td>\n",
       "      <td>-0.374607</td>\n",
       "    </tr>\n",
       "    <tr>\n",
       "      <th>2023-01-02 09:00:00</th>\n",
       "      <td>10.0</td>\n",
       "      <td>1.1</td>\n",
       "      <td>0.0</td>\n",
       "      <td>0.0</td>\n",
       "      <td>1023.0</td>\n",
       "      <td>0.0</td>\n",
       "      <td>1.0</td>\n",
       "      <td>74</td>\n",
       "      <td>0.3</td>\n",
       "      <td>0.707107</td>\n",
       "      <td>-7.071068e-01</td>\n",
       "      <td>0.923880</td>\n",
       "      <td>-0.382683</td>\n",
       "    </tr>\n",
       "  </tbody>\n",
       "</table>\n",
       "</div>"
      ],
      "text/plain": [
       "                      dew  windgust  windspeed  winddir  sealevelpressure  \\\n",
       "Datetime                                                                    \n",
       "2023-01-01 14:00:00  10.2       5.0        4.1    269.0            1019.3   \n",
       "2023-01-01 15:00:00   9.0       5.4        7.6    300.0            1020.0   \n",
       "2023-01-01 16:00:00   9.0       4.0        5.4    270.0            1020.0   \n",
       "2023-01-01 17:00:00  10.5       5.8        2.6    269.0            1019.2   \n",
       "2023-01-01 18:00:00   9.0       6.1        0.0      0.0            1020.0   \n",
       "2023-01-02 07:00:00  10.0       1.8        0.0      0.0            1022.0   \n",
       "2023-01-02 08:00:00  10.0       3.2        0.0     50.0            1022.7   \n",
       "2023-01-02 09:00:00  10.0       1.1        0.0      0.0            1023.0   \n",
       "\n",
       "                     cloudcover  visibility  solarradiation  solarenergy  \\\n",
       "Datetime                                                                   \n",
       "2023-01-01 14:00:00        41.6         2.1             583          2.1   \n",
       "2023-01-01 15:00:00        50.0         2.0             506          1.8   \n",
       "2023-01-01 16:00:00        50.0         2.0             315          1.1   \n",
       "2023-01-01 17:00:00        57.4         2.0             183          0.7   \n",
       "2023-01-01 18:00:00        88.9         3.0              47          0.2   \n",
       "2023-01-02 07:00:00         0.0         1.0               0          0.0   \n",
       "2023-01-02 08:00:00         0.0         1.0               1          0.0   \n",
       "2023-01-02 09:00:00         0.0         1.0              74          0.3   \n",
       "\n",
       "                      Day sin       Day cos  Month sin  Month cos  \n",
       "Datetime                                                           \n",
       "2023-01-01 14:00:00 -0.500000 -8.660254e-01   0.974370  -0.224951  \n",
       "2023-01-01 15:00:00 -0.707107 -7.071068e-01   0.972370  -0.233445  \n",
       "2023-01-01 16:00:00 -0.866025 -5.000000e-01   0.970296  -0.241922  \n",
       "2023-01-01 17:00:00 -0.965926 -2.588190e-01   0.968148  -0.250380  \n",
       "2023-01-01 18:00:00 -1.000000 -4.430664e-12   0.965926  -0.258819  \n",
       "2023-01-02 07:00:00  0.965926 -2.588190e-01   0.930418  -0.366501  \n",
       "2023-01-02 08:00:00  0.866025 -5.000000e-01   0.927184  -0.374607  \n",
       "2023-01-02 09:00:00  0.707107 -7.071068e-01   0.923880  -0.382683  "
      ]
     },
     "execution_count": 25,
     "metadata": {},
     "output_type": "execute_result"
    }
   ],
   "source": [
    "df[7:15]"
   ]
  },
  {
   "cell_type": "code",
   "execution_count": 26,
   "id": "a03b14d8",
   "metadata": {},
   "outputs": [],
   "source": [
    "def df_to_X_y3(df, window_size=10):\n",
    "  df_as_np = df.to_numpy()\n",
    "  X = []\n",
    "  y = []\n",
    "  for i in range(len(df_as_np)-window_size):\n",
    "    row = [r for r in df_as_np[i:i+window_size]]\n",
    "    X.append(row)\n",
    "    label = [df_as_np[i+window_size][7]]\n",
    "    y.append(label)\n",
    "  return np.array(X), np.array(y)"
   ]
  },
  {
   "cell_type": "code",
   "execution_count": 27,
   "id": "f42528f3",
   "metadata": {},
   "outputs": [
    {
     "data": {
      "text/plain": [
       "((5234, 10, 13), (5234, 1))"
      ]
     },
     "execution_count": 27,
     "metadata": {},
     "output_type": "execute_result"
    }
   ],
   "source": [
    "X3, y3 = df_to_X_y3(df)\n",
    "X3.shape, y3.shape"
   ]
  },
  {
   "cell_type": "code",
   "execution_count": 28,
   "id": "f02ab7a8",
   "metadata": {},
   "outputs": [
    {
     "data": {
      "text/plain": [
       "((3970, 10, 13), (3970, 1), (852, 10, 13), (852, 1), (412, 10, 13), (412, 1))"
      ]
     },
     "execution_count": 28,
     "metadata": {},
     "output_type": "execute_result"
    }
   ],
   "source": [
    "X3_train, y3_train = X3[:3970], y3[:3970]\n",
    "X3_val, y3_val = X3[3970:4822], y3[3970:4822]\n",
    "X3_test, y3_test = X3[4822:], y3[4822:]\n",
    "X3_train.shape, y3_train.shape, X3_val.shape, y3_val.shape, X3_test.shape, y3_test.shape"
   ]
  },
  {
   "cell_type": "code",
   "execution_count": 29,
   "id": "3b10ff5e",
   "metadata": {},
   "outputs": [
    {
     "data": {
      "text/plain": [
       "array([[183.],\n",
       "       [ 47.],\n",
       "       [  0.],\n",
       "       ...,\n",
       "       [ 60.],\n",
       "       [400.],\n",
       "       [552.]])"
      ]
     },
     "execution_count": 29,
     "metadata": {},
     "output_type": "execute_result"
    }
   ],
   "source": [
    "y3_train"
   ]
  },
  {
   "cell_type": "code",
   "execution_count": 30,
   "id": "5ffa50d4",
   "metadata": {},
   "outputs": [],
   "source": [
    "p_training_mean3 = np.mean(X3_train[:, :, 7])\n",
    "p_training_std3 = np.std(X3_train[:, :, 7])\n",
    "\n",
    "def preprocess3(X):\n",
    "  X[:, :, 7] = (X[:, :, 7] - p_training_mean3) / p_training_std3\n",
    "\n",
    "def preprocess_output3(y):\n",
    "  y[:, 0] = (y[:, 0] - p_training_mean3) / p_training_std3\n",
    "  return y"
   ]
  },
  {
   "cell_type": "code",
   "execution_count": 31,
   "id": "44d4c95a",
   "metadata": {},
   "outputs": [],
   "source": [
    "preprocess3(X3_train)\n",
    "preprocess3(X3_val)\n",
    "preprocess3(X3_test)"
   ]
  },
  {
   "cell_type": "code",
   "execution_count": 32,
   "id": "c7135452",
   "metadata": {},
   "outputs": [
    {
     "data": {
      "text/plain": [
       "(3970, 10, 13)"
      ]
     },
     "execution_count": 32,
     "metadata": {},
     "output_type": "execute_result"
    }
   ],
   "source": [
    "X3_train.shape"
   ]
  },
  {
   "cell_type": "code",
   "execution_count": 33,
   "id": "8f257f30",
   "metadata": {},
   "outputs": [
    {
     "data": {
      "text/plain": [
       "array([[ 0.69523614],\n",
       "       [ 0.23222744],\n",
       "       [-0.94758732],\n",
       "       [-1.09849386],\n",
       "       [-1.50662746],\n",
       "       [-1.48947899],\n",
       "       [-1.13965019],\n",
       "       [-0.53602403],\n",
       "       [-0.00442145],\n",
       "       [ 0.4242903 ],\n",
       "       [ 0.86329114],\n",
       "       [ 0.76725971],\n",
       "       [ 0.67465797],\n",
       "       [ 0.02644579],\n",
       "       [-0.48800832],\n",
       "       [-1.0161812 ],\n",
       "       [-1.50662746],\n",
       "       [-1.48947899],\n",
       "       [-1.11221264],\n",
       "       [-0.41255505],\n",
       "       [ 0.24251652],\n",
       "       [ 0.72953308],\n",
       "       [ 0.99018983],\n",
       "       [ 1.0039086 ],\n",
       "       [ 0.77754879],\n",
       "       [ 0.32139948],\n",
       "       [-0.30623453],\n",
       "       [-1.00246243],\n",
       "       [-1.50662746],\n",
       "       [-1.48604929],\n",
       "       [-1.10535325],\n",
       "       [-0.40569566],\n",
       "       [ 0.24251652],\n",
       "       [ 0.72610338],\n",
       "       [ 0.99018983],\n",
       "       [ 1.01076799],\n",
       "       [ 0.78440818],\n",
       "       [ 0.32825887],\n",
       "       [-0.29594545],\n",
       "       [-0.99560304],\n",
       "       [-1.50662746],\n",
       "       [-1.48604929],\n",
       "       [-1.10535325],\n",
       "       [-0.41255505],\n",
       "       [ 0.23565713],\n",
       "       [ 0.72267369],\n",
       "       [ 0.99018983],\n",
       "       [ 1.01076799],\n",
       "       [ 0.78440818],\n",
       "       [ 0.33854795],\n",
       "       [-0.28565637],\n",
       "       [-0.98188426],\n",
       "       [-1.50662746],\n",
       "       [-1.4826196 ],\n",
       "       [-1.1362205 ],\n",
       "       [-0.52916465],\n",
       "       [ 0.25623529],\n",
       "       [ 0.46544663],\n",
       "       [ 0.60606409],\n",
       "       [ 0.98333044],\n",
       "       [ 0.52032174],\n",
       "       [-0.10388258],\n",
       "       [-1.03332967],\n",
       "       [-1.18766591],\n",
       "       [-1.50662746],\n",
       "       [-1.48604929],\n",
       "       [-1.22882224],\n",
       "       [-0.76581354],\n",
       "       [-0.28222667],\n",
       "       [ 0.10189906],\n",
       "       [ 0.51689204],\n",
       "       [ 0.33168856],\n",
       "       [ 0.34540734],\n",
       "       [-0.0352887 ],\n",
       "       [-0.56689128],\n",
       "       [-1.10535325],\n",
       "       [-1.50662746],\n",
       "       [-1.4826196 ],\n",
       "       [-1.08477509],\n",
       "       [-0.39197688],\n",
       "       [ 0.25623529],\n",
       "       [ 0.73982216],\n",
       "       [ 1.00047891],\n",
       "       [ 1.02105707],\n",
       "       [ 0.79126757],\n",
       "       [ 0.33854795],\n",
       "       [-0.28222667],\n",
       "       [-0.97502488],\n",
       "       [-1.50662746],\n",
       "       [-1.4791899 ],\n",
       "       [-1.0779157 ],\n",
       "       [-0.3816878 ],\n",
       "       [ 0.26652438],\n",
       "       [ 0.75697063],\n",
       "       [ 1.03477585],\n",
       "       [ 1.0622134 ],\n",
       "       [ 0.8324239 ],\n",
       "       [ 0.37970428],\n",
       "       [-0.24450004],\n",
       "       [-0.94758732],\n",
       "       [-1.50662746],\n",
       "       [-1.47576021],\n",
       "       [-1.05047815],\n",
       "       [-0.33710178],\n",
       "       [ 0.32139948],\n",
       "       [ 0.81527543],\n",
       "       [ 1.08622126],\n",
       "       [ 1.10679942],\n",
       "       [ 0.87358023],\n",
       "       [ 0.41400122],\n",
       "       [-0.22392187],\n",
       "       [-0.93729824],\n",
       "       [-1.50662746],\n",
       "       [-1.47576021],\n",
       "       [-1.03675937],\n",
       "       [-0.31652361],\n",
       "       [ 0.34197765],\n",
       "       [ 0.8324239 ],\n",
       "       [ 1.07936187],\n",
       "       [ 1.1205182 ],\n",
       "       [ 0.887299  ],\n",
       "       [ 0.42772   ],\n",
       "       [-0.2067734 ],\n",
       "       [-0.92700916],\n",
       "       [-1.50662746],\n",
       "       [-1.47233052],\n",
       "       [-1.10535325],\n",
       "       [-0.42284413],\n",
       "       [-0.16561708],\n",
       "       [ 0.2528056 ],\n",
       "       [ 0.62664225],\n",
       "       [ 0.82556451],\n",
       "       [ 0.39685275],\n",
       "       [ 0.0195864 ],\n",
       "       [-0.4982974 ],\n",
       "       [-1.06762662],\n",
       "       [-1.50662746],\n",
       "       [-1.47233052],\n",
       "       [-1.05047815],\n",
       "       [-0.36453933],\n",
       "       [ 0.26995407],\n",
       "       [ 0.73982216],\n",
       "       [ 1.00047891],\n",
       "       [ 1.02105707],\n",
       "       [ 0.67465797],\n",
       "       [ 0.33168856],\n",
       "       [-0.25821882],\n",
       "       [-0.94415763],\n",
       "       [-1.50662746],\n",
       "       [-1.4826196 ],\n",
       "       [-1.04704845],\n",
       "       [-0.3851175 ],\n",
       "       [ 0.27681346],\n",
       "       [ 0.75697063],\n",
       "       [ 1.0073383 ],\n",
       "       [ 1.04849462],\n",
       "       [ 0.8289942 ],\n",
       "       [ 0.36255581],\n",
       "       [-0.45714107],\n",
       "       [-0.94415763],\n",
       "       [-1.50662746],\n",
       "       [-1.46547113],\n",
       "       [-1.01275151],\n",
       "       [-0.30280484],\n",
       "       [ 0.35226673],\n",
       "       [ 0.84271298],\n",
       "       [ 1.11022912],\n",
       "       [ 1.14109636],\n",
       "       [ 0.91816625],\n",
       "       [ 0.46544663],\n",
       "       [-0.16904677],\n",
       "       [-0.88928252],\n",
       "       [-1.50662746],\n",
       "       [-1.46204143],\n",
       "       [-1.074486  ],\n",
       "       [-0.43313321],\n",
       "       [ 0.23565713],\n",
       "       [ 0.61635317],\n",
       "       [ 1.12394789],\n",
       "       [ 1.14795575],\n",
       "       [ 0.92159594],\n",
       "       [ 0.46544663],\n",
       "       [-0.16561708],\n",
       "       [-0.88242314],\n",
       "       [-1.50662746],\n",
       "       [-1.45861174],\n",
       "       [-0.97159518],\n",
       "       [-0.24107035],\n",
       "       [ 0.42086061],\n",
       "       [ 0.91130686],\n",
       "       [ 1.178823  ],\n",
       "       [ 1.19940116],\n",
       "       [ 0.96618197],\n",
       "       [ 0.50317327],\n",
       "       [-0.13817952],\n",
       "       [-0.86527467],\n",
       "       [-1.50662746],\n",
       "       [-1.45861174],\n",
       "       [-1.02989998],\n",
       "       [-0.27879698],\n",
       "       [ 0.23908682],\n",
       "       [ 0.66436889],\n",
       "       [ 1.00047891],\n",
       "       [ 1.09651034],\n",
       "       [ 0.80498635],\n",
       "       [ 0.11218814],\n",
       "       [-0.25821882],\n",
       "       [-0.9613061 ],\n",
       "       [-1.50662746],\n",
       "       [-1.45518205],\n",
       "       [-1.07105631],\n",
       "       [-0.33024239],\n",
       "       [ 0.33168856],\n",
       "       [ 0.87700992],\n",
       "       [ 0.89758809],\n",
       "       [ 1.13423698],\n",
       "       [ 0.65407981],\n",
       "       [ 0.48945449],\n",
       "       [-0.43313321],\n",
       "       [-0.97845457],\n",
       "       [-1.50662746],\n",
       "       [-1.45175235],\n",
       "       [-1.10878294],\n",
       "       [-0.41598474],\n",
       "       [-0.0387184 ],\n",
       "       [ 0.83585359],\n",
       "       [ 0.95932258],\n",
       "       [ 0.21507897],\n",
       "       [-0.0935935 ],\n",
       "       [-0.51887556],\n",
       "       [-0.45028168],\n",
       "       [-1.29055673],\n",
       "       [-1.50662746],\n",
       "       [-1.48947899],\n",
       "       [-1.4208851 ],\n",
       "       [-1.17051744],\n",
       "       [-0.0935935 ],\n",
       "       [ 0.30768071],\n",
       "       [-0.47428954],\n",
       "       [ 0.49974357],\n",
       "       [ 0.70552522],\n",
       "       [ 0.25966499],\n",
       "       [-0.27193759],\n",
       "       [-0.87213405],\n",
       "       [-1.50662746],\n",
       "       [-1.44489296],\n",
       "       [-0.93043885],\n",
       "       [-0.2067734 ],\n",
       "       [ 0.44486847],\n",
       "       [ 0.92845533],\n",
       "       [ 1.18911208],\n",
       "       [ 1.20969025],\n",
       "       [ 0.97647105],\n",
       "       [ 0.52032174],\n",
       "       [-0.11417166],\n",
       "       [-0.83783711],\n",
       "       [-1.50662746],\n",
       "       [-1.43803357],\n",
       "       [-0.91329038],\n",
       "       [-0.18619524],\n",
       "       [ 0.47230602],\n",
       "       [ 0.95932258],\n",
       "       [ 1.22340902],\n",
       "       [ 1.24055749],\n",
       "       [ 1.0039086 ],\n",
       "       [ 0.5408999 ],\n",
       "       [-0.10045289],\n",
       "       [-0.82754803],\n",
       "       [-1.50662746],\n",
       "       [-1.44146327],\n",
       "       [-1.03332967],\n",
       "       [-0.39197688],\n",
       "       [ 0.1945008 ],\n",
       "       [ 0.54775929],\n",
       "       [ 0.55804837],\n",
       "       [ 0.02644579],\n",
       "       [ 0.17392264],\n",
       "       [ 0.21164927],\n",
       "       [-0.42284413],\n",
       "       [-0.95444671],\n",
       "       [-1.50662746],\n",
       "       [-1.45175235],\n",
       "       [-1.34543183],\n",
       "       [-1.0161812 ],\n",
       "       [-0.92700916],\n",
       "       [-0.57718036],\n",
       "       [ 0.38313398],\n",
       "       [ 0.97990074],\n",
       "       [ 0.67122828],\n",
       "       [ 0.46887633],\n",
       "       [-0.46400046],\n",
       "       [-1.06762662],\n",
       "       [-1.50662746],\n",
       "       [-1.48604929],\n",
       "       [-1.43803357],\n",
       "       [-1.34200214],\n",
       "       [-1.22539254],\n",
       "       [-1.08477509],\n",
       "       [ 0.09160998],\n",
       "       [ 0.61978287],\n",
       "       [ 0.96961166],\n",
       "       [ 0.52375143],\n",
       "       [-0.11417166],\n",
       "       [-0.84126681],\n",
       "       [-1.50662746],\n",
       "       [-1.41745541],\n",
       "       [-0.83783711],\n",
       "       [-0.09016381],\n",
       "       [ 0.57176715],\n",
       "       [ 0.95932258],\n",
       "       [ 1.19254178],\n",
       "       [ 1.2954326 ],\n",
       "       [ 1.16167453],\n",
       "       [ 0.68494705],\n",
       "       [ 0.01272702],\n",
       "       [-0.77953231],\n",
       "       [-1.50662746],\n",
       "       [-1.41059602],\n",
       "       [-0.8481262 ],\n",
       "       [-0.10388258],\n",
       "       [ 0.60949378],\n",
       "       [ 1.13766667],\n",
       "       [ 1.31944046],\n",
       "       [ 1.27142474],\n",
       "       [ 0.95246319],\n",
       "       [ 0.53061082],\n",
       "       [-0.10731228],\n",
       "       [-0.85841528],\n",
       "       [-1.50662746],\n",
       "       [-1.40716633],\n",
       "       [-0.83440742],\n",
       "       [-0.07644503],\n",
       "       [ 0.60606409],\n",
       "       [ 1.1205182 ],\n",
       "       [ 1.24398719],\n",
       "       [ 1.31944046],\n",
       "       [ 0.4242903 ],\n",
       "       [-0.51201618],\n",
       "       [-0.75552446],\n",
       "       [-0.98874365],\n",
       "       [-1.50662746],\n",
       "       [-1.40716633],\n",
       "       [-0.82068864],\n",
       "       [-0.08330442],\n",
       "       [ 0.56833745],\n",
       "       [ 1.04849462],\n",
       "       [ 1.31258107],\n",
       "       [ 1.31944046],\n",
       "       [ 1.07936187],\n",
       "       [ 0.61635317],\n",
       "       [-0.02842931],\n",
       "       [-0.76924323],\n",
       "       [-1.50662746],\n",
       "       [-1.39687725],\n",
       "       [-0.7898214 ],\n",
       "       [-0.0387184 ],\n",
       "       [ 0.62664225],\n",
       "       [ 1.11365881],\n",
       "       [ 1.36745617],\n",
       "       [ 1.37431556],\n",
       "       [ 1.13080728],\n",
       "       [ 0.6575095 ],\n",
       "       [ 0.00586763],\n",
       "       [-0.74180568],\n",
       "       [-1.50662746],\n",
       "       [-1.38658816],\n",
       "       [-0.76238384],\n",
       "       [-0.00442145],\n",
       "       [ 0.6575095 ],\n",
       "       [ 1.08279157],\n",
       "       [ 1.33658893],\n",
       "       [ 1.40175311],\n",
       "       [ 1.14452606],\n",
       "       [ 0.67808767],\n",
       "       [ 0.0195864 ],\n",
       "       [-0.80354017],\n",
       "       [-1.50662746],\n",
       "       [-1.38315847],\n",
       "       [-0.83783711],\n",
       "       [-0.08330442],\n",
       "       [ 0.44143877],\n",
       "       [ 0.99361952],\n",
       "       [ 1.19940116],\n",
       "       [ 1.12394789],\n",
       "       [ 0.80841604],\n",
       "       [-0.56346159],\n",
       "       [-0.70407904],\n",
       "       [-0.93043885],\n",
       "       [-1.50662746],\n",
       "       [-1.38315847],\n",
       "       [-0.76581354],\n",
       "       [-0.02156992],\n",
       "       [ 0.63350164],\n",
       "       [ 1.11022912],\n",
       "       [ 1.36059678],\n",
       "       [ 1.36402648],\n",
       "       [ 1.1205182 ],\n",
       "       [ 0.64722042],\n",
       "       [ 0.00243793],\n",
       "       [-0.73494629],\n",
       "       [-1.50662746],\n",
       "       [-1.37629908],\n",
       "       [-1.03332967],\n",
       "       [-0.2650782 ],\n",
       "       [ 0.64036103],\n",
       "       [ 1.11708851],\n",
       "       [ 1.35716709],\n",
       "       [ 1.36402648],\n",
       "       [ 1.12394789],\n",
       "       [ 0.65407981],\n",
       "       [ 0.00586763],\n",
       "       [-0.7315166 ]])"
      ]
     },
     "execution_count": 33,
     "metadata": {},
     "output_type": "execute_result"
    }
   ],
   "source": [
    "preprocess_output3(y3_train)\n",
    "preprocess_output3(y3_val)\n",
    "preprocess_output3(y3_test)"
   ]
  },
  {
   "cell_type": "code",
   "execution_count": 34,
   "id": "36565e39",
   "metadata": {},
   "outputs": [],
   "source": [
    "def mean_absolute_percentage_error(y_true, y_pred):\n",
    "    y_true = tf.cast(y_true, dtype=tf.float64)\n",
    "    y_pred = tf.cast(y_pred, dtype=tf.float64)\n",
    "    \n",
    "    epsilon = 1e-10\n",
    "    y_true = tf.where(tf.equal(y_true, 0), y_true + epsilon, y_true)\n",
    "    \n",
    "    mape = tf.reduce_mean(tf.abs((y_true - y_pred) / y_true)) * 100\n",
    "    return mape"
   ]
  },
  {
   "cell_type": "code",
   "execution_count": 35,
   "id": "6d754796",
   "metadata": {},
   "outputs": [],
   "source": [
    "\n",
    "def plot_predictions2(model, X, y, start=0, end=100):\n",
    "    predictions = model.predict(X)\n",
    "    target_preds = predictions[:, 0]  \n",
    "    target_actuals = y[:, 0]        \n",
    "    \n",
    "    df = pd.DataFrame(data={'Predictions': target_preds, 'Actuals': target_actuals})\n",
    "    plt.plot(df['Predictions'][start:end], label='Predictions')\n",
    "    plt.plot(df['Actuals'][start:end], label='Actuals')\n",
    "    plt.legend()\n",
    "    plt.show()\n",
    "    \n",
    "    mse = mean_squared_error(target_actuals, target_preds)\n",
    "    mae = tf.keras.metrics.mean_absolute_error(target_actuals, target_preds).numpy()\n",
    "    mape = mean_absolute_percentage_error(target_actuals, target_preds)\n",
    "    print(\"MAPE:\", mape.numpy())\n",
    "    print(\"MSE for Predictions:\", mse)\n",
    "    print(\"MAE: \", mae)\n",
    "    \n"
   ]
  },
  {
   "cell_type": "code",
   "execution_count": 36,
   "id": "8fa31d78",
   "metadata": {},
   "outputs": [],
   "source": [
    "def pltGraph(Model):\n",
    "    RootMeanSquaredError = Model.history['root_mean_squared_error']\n",
    "    val_RootMeanSquaredError = Model.history['val_root_mean_squared_error']\n",
    "    loss = Model.history['loss'] \n",
    "    val_loss = Model.history['val_loss']\n",
    "    plt.figure(figsize=(8, 8))\n",
    "    plt.subplot(1, 2, 1)\n",
    "    plt.plot(range(50), RootMeanSquaredError, label='Training RootMeanSquaredError') \n",
    "    plt.plot(range(50), val_RootMeanSquaredError, label='Validation RootMeanSquaredError') \n",
    "    plt.legend(loc='lower right')\n",
    "    plt.title('Training and Validation RootMeanSquaredError')\n",
    "    plt.show()\n",
    "\n",
    "    plt.subplot(1, 2, 2)\n",
    "    plt.plot(range(50), loss, label='Training Loss') \n",
    "    plt.plot(range(50), val_loss, label='Validation Loss') \n",
    "    plt.legend(loc='upper right')\n",
    "    plt.title('Training and Validation Loss')\n",
    "    \n",
    "    plt.show()"
   ]
  },
  {
   "cell_type": "code",
   "execution_count": 84,
   "id": "45bb3bd6",
   "metadata": {},
   "outputs": [
    {
     "name": "stdout",
     "output_type": "stream",
     "text": [
      "Model: \"sequential_10\"\n",
      "_________________________________________________________________\n",
      " Layer (type)                Output Shape              Param #   \n",
      "=================================================================\n",
      " lstm_19 (LSTM)              (None, 128)               72704     \n",
      "                                                                 \n",
      " dense_20 (Dense)            (None, 8)                 1032      \n",
      "                                                                 \n",
      " dense_21 (Dense)            (None, 1)                 9         \n",
      "                                                                 \n",
      "=================================================================\n",
      "Total params: 73745 (288.07 KB)\n",
      "Trainable params: 73745 (288.07 KB)\n",
      "Non-trainable params: 0 (0.00 Byte)\n",
      "_________________________________________________________________\n"
     ]
    }
   ],
   "source": [
    "model6 = Sequential()\n",
    "model6.add(InputLayer((10, 13)))\n",
    "model6.add(LSTM(128))\n",
    "model6.add(Dense(8, 'relu'))\n",
    "model6.add(Dense(1, 'linear'))\n",
    "\n",
    "model6.summary()"
   ]
  },
  {
   "cell_type": "code",
   "execution_count": 85,
   "id": "65cd2a98",
   "metadata": {},
   "outputs": [],
   "source": [
    "cp6 = ModelCheckpoint('models/model2_15win/', save_best_only=True)\n",
    "model6.compile(loss=MeanSquaredError(), optimizer=tf.keras.optimizers.legacy.Adam(learning_rate=0.0001), metrics=[RootMeanSquaredError()])"
   ]
  },
  {
   "cell_type": "code",
   "execution_count": 86,
   "id": "4167c691",
   "metadata": {
    "scrolled": true
   },
   "outputs": [
    {
     "name": "stdout",
     "output_type": "stream",
     "text": [
      "Epoch 1/50\n",
      "125/125 [==============================] - ETA: 0s - loss: 0.9985 - root_mean_squared_error: 0.9992INFO:tensorflow:Assets written to: models/model2_15win/assets\n"
     ]
    },
    {
     "name": "stderr",
     "output_type": "stream",
     "text": [
      "INFO:tensorflow:Assets written to: models/model2_15win/assets\n"
     ]
    },
    {
     "name": "stdout",
     "output_type": "stream",
     "text": [
      "125/125 [==============================] - 6s 34ms/step - loss: 0.9985 - root_mean_squared_error: 0.9992 - val_loss: 0.7698 - val_root_mean_squared_error: 0.8774\n",
      "Epoch 2/50\n",
      "125/125 [==============================] - 2s 14ms/step - loss: 0.9606 - root_mean_squared_error: 0.9801 - val_loss: 0.7887 - val_root_mean_squared_error: 0.8881\n",
      "Epoch 3/50\n",
      "125/125 [==============================] - ETA: 0s - loss: 0.9382 - root_mean_squared_error: 0.9686INFO:tensorflow:Assets written to: models/model2_15win/assets\n"
     ]
    },
    {
     "name": "stderr",
     "output_type": "stream",
     "text": [
      "INFO:tensorflow:Assets written to: models/model2_15win/assets\n"
     ]
    },
    {
     "name": "stdout",
     "output_type": "stream",
     "text": [
      "125/125 [==============================] - 3s 27ms/step - loss: 0.9382 - root_mean_squared_error: 0.9686 - val_loss: 0.7397 - val_root_mean_squared_error: 0.8601\n",
      "Epoch 4/50\n",
      "125/125 [==============================] - 2s 14ms/step - loss: 0.9255 - root_mean_squared_error: 0.9620 - val_loss: 0.7941 - val_root_mean_squared_error: 0.8911\n",
      "Epoch 5/50\n",
      "125/125 [==============================] - 2s 14ms/step - loss: 0.9140 - root_mean_squared_error: 0.9560 - val_loss: 0.7912 - val_root_mean_squared_error: 0.8895\n",
      "Epoch 6/50\n",
      "125/125 [==============================] - ETA: 0s - loss: 0.9068 - root_mean_squared_error: 0.9523INFO:tensorflow:Assets written to: models/model2_15win/assets\n"
     ]
    },
    {
     "name": "stderr",
     "output_type": "stream",
     "text": [
      "INFO:tensorflow:Assets written to: models/model2_15win/assets\n"
     ]
    },
    {
     "name": "stdout",
     "output_type": "stream",
     "text": [
      "125/125 [==============================] - 3s 27ms/step - loss: 0.9068 - root_mean_squared_error: 0.9523 - val_loss: 0.6666 - val_root_mean_squared_error: 0.8165\n",
      "Epoch 7/50\n",
      "125/125 [==============================] - 2s 14ms/step - loss: 0.8945 - root_mean_squared_error: 0.9458 - val_loss: 0.7378 - val_root_mean_squared_error: 0.8590\n",
      "Epoch 8/50\n",
      "125/125 [==============================] - 2s 15ms/step - loss: 0.8811 - root_mean_squared_error: 0.9387 - val_loss: 0.7044 - val_root_mean_squared_error: 0.8393\n",
      "Epoch 9/50\n",
      "125/125 [==============================] - 2s 14ms/step - loss: 0.8651 - root_mean_squared_error: 0.9301 - val_loss: 0.6753 - val_root_mean_squared_error: 0.8218\n",
      "Epoch 10/50\n",
      "125/125 [==============================] - ETA: 0s - loss: 0.8476 - root_mean_squared_error: 0.9206INFO:tensorflow:Assets written to: models/model2_15win/assets\n"
     ]
    },
    {
     "name": "stderr",
     "output_type": "stream",
     "text": [
      "INFO:tensorflow:Assets written to: models/model2_15win/assets\n"
     ]
    },
    {
     "name": "stdout",
     "output_type": "stream",
     "text": [
      "125/125 [==============================] - 3s 27ms/step - loss: 0.8476 - root_mean_squared_error: 0.9206 - val_loss: 0.6062 - val_root_mean_squared_error: 0.7786\n",
      "Epoch 11/50\n",
      "125/125 [==============================] - 2s 14ms/step - loss: 0.8252 - root_mean_squared_error: 0.9084 - val_loss: 0.6802 - val_root_mean_squared_error: 0.8248\n",
      "Epoch 12/50\n",
      "125/125 [==============================] - 2s 14ms/step - loss: 0.7950 - root_mean_squared_error: 0.8916 - val_loss: 0.6416 - val_root_mean_squared_error: 0.8010\n",
      "Epoch 13/50\n",
      "125/125 [==============================] - ETA: 0s - loss: 0.7568 - root_mean_squared_error: 0.8699INFO:tensorflow:Assets written to: models/model2_15win/assets\n"
     ]
    },
    {
     "name": "stderr",
     "output_type": "stream",
     "text": [
      "INFO:tensorflow:Assets written to: models/model2_15win/assets\n"
     ]
    },
    {
     "name": "stdout",
     "output_type": "stream",
     "text": [
      "125/125 [==============================] - 3s 27ms/step - loss: 0.7568 - root_mean_squared_error: 0.8699 - val_loss: 0.5458 - val_root_mean_squared_error: 0.7388\n",
      "Epoch 14/50\n",
      "125/125 [==============================] - ETA: 0s - loss: 0.7149 - root_mean_squared_error: 0.8455INFO:tensorflow:Assets written to: models/model2_15win/assets\n"
     ]
    },
    {
     "name": "stderr",
     "output_type": "stream",
     "text": [
      "INFO:tensorflow:Assets written to: models/model2_15win/assets\n"
     ]
    },
    {
     "name": "stdout",
     "output_type": "stream",
     "text": [
      "125/125 [==============================] - 3s 27ms/step - loss: 0.7149 - root_mean_squared_error: 0.8455 - val_loss: 0.5118 - val_root_mean_squared_error: 0.7154\n",
      "Epoch 15/50\n",
      "125/125 [==============================] - 2s 15ms/step - loss: 0.6634 - root_mean_squared_error: 0.8145 - val_loss: 0.5600 - val_root_mean_squared_error: 0.7484\n",
      "Epoch 16/50\n",
      "125/125 [==============================] - ETA: 0s - loss: 0.6104 - root_mean_squared_error: 0.7813INFO:tensorflow:Assets written to: models/model2_15win/assets\n"
     ]
    },
    {
     "name": "stderr",
     "output_type": "stream",
     "text": [
      "INFO:tensorflow:Assets written to: models/model2_15win/assets\n"
     ]
    },
    {
     "name": "stdout",
     "output_type": "stream",
     "text": [
      "125/125 [==============================] - 3s 27ms/step - loss: 0.6104 - root_mean_squared_error: 0.7813 - val_loss: 0.4564 - val_root_mean_squared_error: 0.6756\n",
      "Epoch 17/50\n",
      "125/125 [==============================] - ETA: 0s - loss: 0.5594 - root_mean_squared_error: 0.7480INFO:tensorflow:Assets written to: models/model2_15win/assets\n"
     ]
    },
    {
     "name": "stderr",
     "output_type": "stream",
     "text": [
      "INFO:tensorflow:Assets written to: models/model2_15win/assets\n"
     ]
    },
    {
     "name": "stdout",
     "output_type": "stream",
     "text": [
      "125/125 [==============================] - 4s 35ms/step - loss: 0.5594 - root_mean_squared_error: 0.7480 - val_loss: 0.4343 - val_root_mean_squared_error: 0.6590\n",
      "Epoch 18/50\n",
      "123/125 [============================>.] - ETA: 0s - loss: 0.5100 - root_mean_squared_error: 0.7142INFO:tensorflow:Assets written to: models/model2_15win/assets\n"
     ]
    },
    {
     "name": "stderr",
     "output_type": "stream",
     "text": [
      "INFO:tensorflow:Assets written to: models/model2_15win/assets\n"
     ]
    },
    {
     "name": "stdout",
     "output_type": "stream",
     "text": [
      "125/125 [==============================] - 3s 28ms/step - loss: 0.5104 - root_mean_squared_error: 0.7144 - val_loss: 0.3489 - val_root_mean_squared_error: 0.5907\n",
      "Epoch 19/50\n",
      "125/125 [==============================] - ETA: 0s - loss: 0.4660 - root_mean_squared_error: 0.6826INFO:tensorflow:Assets written to: models/model2_15win/assets\n"
     ]
    },
    {
     "name": "stderr",
     "output_type": "stream",
     "text": [
      "INFO:tensorflow:Assets written to: models/model2_15win/assets\n"
     ]
    },
    {
     "name": "stdout",
     "output_type": "stream",
     "text": [
      "125/125 [==============================] - 3s 27ms/step - loss: 0.4660 - root_mean_squared_error: 0.6826 - val_loss: 0.3415 - val_root_mean_squared_error: 0.5844\n",
      "Epoch 20/50\n",
      "125/125 [==============================] - ETA: 0s - loss: 0.4302 - root_mean_squared_error: 0.6559INFO:tensorflow:Assets written to: models/model2_15win/assets\n"
     ]
    },
    {
     "name": "stderr",
     "output_type": "stream",
     "text": [
      "INFO:tensorflow:Assets written to: models/model2_15win/assets\n"
     ]
    },
    {
     "name": "stdout",
     "output_type": "stream",
     "text": [
      "125/125 [==============================] - 3s 27ms/step - loss: 0.4302 - root_mean_squared_error: 0.6559 - val_loss: 0.3039 - val_root_mean_squared_error: 0.5513\n",
      "Epoch 21/50\n",
      "124/125 [============================>.] - ETA: 0s - loss: 0.3956 - root_mean_squared_error: 0.6290INFO:tensorflow:Assets written to: models/model2_15win/assets\n"
     ]
    },
    {
     "name": "stderr",
     "output_type": "stream",
     "text": [
      "INFO:tensorflow:Assets written to: models/model2_15win/assets\n"
     ]
    },
    {
     "name": "stdout",
     "output_type": "stream",
     "text": [
      "125/125 [==============================] - 3s 27ms/step - loss: 0.3957 - root_mean_squared_error: 0.6291 - val_loss: 0.2916 - val_root_mean_squared_error: 0.5400\n",
      "Epoch 22/50\n",
      "125/125 [==============================] - ETA: 0s - loss: 0.3648 - root_mean_squared_error: 0.6040INFO:tensorflow:Assets written to: models/model2_15win/assets\n"
     ]
    },
    {
     "name": "stderr",
     "output_type": "stream",
     "text": [
      "INFO:tensorflow:Assets written to: models/model2_15win/assets\n"
     ]
    },
    {
     "name": "stdout",
     "output_type": "stream",
     "text": [
      "125/125 [==============================] - 3s 27ms/step - loss: 0.3648 - root_mean_squared_error: 0.6040 - val_loss: 0.2534 - val_root_mean_squared_error: 0.5034\n",
      "Epoch 23/50\n",
      "125/125 [==============================] - ETA: 0s - loss: 0.3316 - root_mean_squared_error: 0.5759INFO:tensorflow:Assets written to: models/model2_15win/assets\n"
     ]
    },
    {
     "name": "stderr",
     "output_type": "stream",
     "text": [
      "INFO:tensorflow:Assets written to: models/model2_15win/assets\n"
     ]
    },
    {
     "name": "stdout",
     "output_type": "stream",
     "text": [
      "125/125 [==============================] - 3s 27ms/step - loss: 0.3316 - root_mean_squared_error: 0.5759 - val_loss: 0.2042 - val_root_mean_squared_error: 0.4518\n",
      "Epoch 24/50\n",
      "125/125 [==============================] - ETA: 0s - loss: 0.3055 - root_mean_squared_error: 0.5527INFO:tensorflow:Assets written to: models/model2_15win/assets\n"
     ]
    },
    {
     "name": "stderr",
     "output_type": "stream",
     "text": [
      "INFO:tensorflow:Assets written to: models/model2_15win/assets\n"
     ]
    },
    {
     "name": "stdout",
     "output_type": "stream",
     "text": [
      "125/125 [==============================] - 3s 27ms/step - loss: 0.3055 - root_mean_squared_error: 0.5527 - val_loss: 0.1840 - val_root_mean_squared_error: 0.4290\n",
      "Epoch 25/50\n",
      "125/125 [==============================] - ETA: 0s - loss: 0.2825 - root_mean_squared_error: 0.5315INFO:tensorflow:Assets written to: models/model2_15win/assets\n"
     ]
    },
    {
     "name": "stderr",
     "output_type": "stream",
     "text": [
      "INFO:tensorflow:Assets written to: models/model2_15win/assets\n"
     ]
    },
    {
     "name": "stdout",
     "output_type": "stream",
     "text": [
      "125/125 [==============================] - 3s 27ms/step - loss: 0.2825 - root_mean_squared_error: 0.5315 - val_loss: 0.1758 - val_root_mean_squared_error: 0.4193\n",
      "Epoch 26/50\n",
      "125/125 [==============================] - ETA: 0s - loss: 0.2661 - root_mean_squared_error: 0.5158INFO:tensorflow:Assets written to: models/model2_15win/assets\n"
     ]
    },
    {
     "name": "stderr",
     "output_type": "stream",
     "text": [
      "INFO:tensorflow:Assets written to: models/model2_15win/assets\n"
     ]
    },
    {
     "name": "stdout",
     "output_type": "stream",
     "text": [
      "125/125 [==============================] - 3s 27ms/step - loss: 0.2661 - root_mean_squared_error: 0.5158 - val_loss: 0.1522 - val_root_mean_squared_error: 0.3901\n",
      "Epoch 27/50\n",
      "125/125 [==============================] - ETA: 0s - loss: 0.2431 - root_mean_squared_error: 0.4931INFO:tensorflow:Assets written to: models/model2_15win/assets\n"
     ]
    },
    {
     "name": "stderr",
     "output_type": "stream",
     "text": [
      "INFO:tensorflow:Assets written to: models/model2_15win/assets\n"
     ]
    },
    {
     "name": "stdout",
     "output_type": "stream",
     "text": [
      "125/125 [==============================] - 3s 27ms/step - loss: 0.2431 - root_mean_squared_error: 0.4931 - val_loss: 0.1520 - val_root_mean_squared_error: 0.3899\n",
      "Epoch 28/50\n",
      "125/125 [==============================] - ETA: 0s - loss: 0.2266 - root_mean_squared_error: 0.4761INFO:tensorflow:Assets written to: models/model2_15win/assets\n"
     ]
    },
    {
     "name": "stderr",
     "output_type": "stream",
     "text": [
      "INFO:tensorflow:Assets written to: models/model2_15win/assets\n"
     ]
    },
    {
     "name": "stdout",
     "output_type": "stream",
     "text": [
      "125/125 [==============================] - 3s 27ms/step - loss: 0.2266 - root_mean_squared_error: 0.4761 - val_loss: 0.1280 - val_root_mean_squared_error: 0.3577\n",
      "Epoch 29/50\n",
      "125/125 [==============================] - 2s 14ms/step - loss: 0.2128 - root_mean_squared_error: 0.4614 - val_loss: 0.1454 - val_root_mean_squared_error: 0.3813\n",
      "Epoch 30/50\n",
      "125/125 [==============================] - ETA: 0s - loss: 0.2004 - root_mean_squared_error: 0.4476INFO:tensorflow:Assets written to: models/model2_15win/assets\n"
     ]
    },
    {
     "name": "stderr",
     "output_type": "stream",
     "text": [
      "INFO:tensorflow:Assets written to: models/model2_15win/assets\n"
     ]
    },
    {
     "name": "stdout",
     "output_type": "stream",
     "text": [
      "125/125 [==============================] - 3s 27ms/step - loss: 0.2004 - root_mean_squared_error: 0.4476 - val_loss: 0.1188 - val_root_mean_squared_error: 0.3447\n",
      "Epoch 31/50\n",
      "125/125 [==============================] - 2s 14ms/step - loss: 0.1863 - root_mean_squared_error: 0.4317 - val_loss: 0.1224 - val_root_mean_squared_error: 0.3498\n",
      "Epoch 32/50\n",
      "125/125 [==============================] - ETA: 0s - loss: 0.1808 - root_mean_squared_error: 0.4252INFO:tensorflow:Assets written to: models/model2_15win/assets\n"
     ]
    },
    {
     "name": "stderr",
     "output_type": "stream",
     "text": [
      "INFO:tensorflow:Assets written to: models/model2_15win/assets\n"
     ]
    },
    {
     "name": "stdout",
     "output_type": "stream",
     "text": [
      "125/125 [==============================] - 3s 27ms/step - loss: 0.1808 - root_mean_squared_error: 0.4252 - val_loss: 0.0974 - val_root_mean_squared_error: 0.3120\n",
      "Epoch 33/50\n",
      "125/125 [==============================] - ETA: 0s - loss: 0.1673 - root_mean_squared_error: 0.4091INFO:tensorflow:Assets written to: models/model2_15win/assets\n"
     ]
    },
    {
     "name": "stderr",
     "output_type": "stream",
     "text": [
      "INFO:tensorflow:Assets written to: models/model2_15win/assets\n"
     ]
    },
    {
     "name": "stdout",
     "output_type": "stream",
     "text": [
      "125/125 [==============================] - 5s 37ms/step - loss: 0.1673 - root_mean_squared_error: 0.4091 - val_loss: 0.0962 - val_root_mean_squared_error: 0.3102\n",
      "Epoch 34/50\n",
      "125/125 [==============================] - ETA: 0s - loss: 0.1573 - root_mean_squared_error: 0.3967INFO:tensorflow:Assets written to: models/model2_15win/assets\n"
     ]
    },
    {
     "name": "stderr",
     "output_type": "stream",
     "text": [
      "INFO:tensorflow:Assets written to: models/model2_15win/assets\n"
     ]
    },
    {
     "name": "stdout",
     "output_type": "stream",
     "text": [
      "125/125 [==============================] - 3s 27ms/step - loss: 0.1573 - root_mean_squared_error: 0.3967 - val_loss: 0.0877 - val_root_mean_squared_error: 0.2961\n",
      "Epoch 35/50\n",
      "125/125 [==============================] - ETA: 0s - loss: 0.1502 - root_mean_squared_error: 0.3876INFO:tensorflow:Assets written to: models/model2_15win/assets\n"
     ]
    },
    {
     "name": "stderr",
     "output_type": "stream",
     "text": [
      "INFO:tensorflow:Assets written to: models/model2_15win/assets\n"
     ]
    },
    {
     "name": "stdout",
     "output_type": "stream",
     "text": [
      "125/125 [==============================] - 3s 27ms/step - loss: 0.1502 - root_mean_squared_error: 0.3876 - val_loss: 0.0781 - val_root_mean_squared_error: 0.2795\n",
      "Epoch 36/50\n",
      "125/125 [==============================] - ETA: 0s - loss: 0.1404 - root_mean_squared_error: 0.3747INFO:tensorflow:Assets written to: models/model2_15win/assets\n"
     ]
    },
    {
     "name": "stderr",
     "output_type": "stream",
     "text": [
      "INFO:tensorflow:Assets written to: models/model2_15win/assets\n"
     ]
    },
    {
     "name": "stdout",
     "output_type": "stream",
     "text": [
      "125/125 [==============================] - 3s 27ms/step - loss: 0.1404 - root_mean_squared_error: 0.3747 - val_loss: 0.0739 - val_root_mean_squared_error: 0.2719\n",
      "Epoch 37/50\n",
      "125/125 [==============================] - ETA: 0s - loss: 0.1375 - root_mean_squared_error: 0.3708INFO:tensorflow:Assets written to: models/model2_15win/assets\n"
     ]
    },
    {
     "name": "stderr",
     "output_type": "stream",
     "text": [
      "INFO:tensorflow:Assets written to: models/model2_15win/assets\n"
     ]
    },
    {
     "name": "stdout",
     "output_type": "stream",
     "text": [
      "125/125 [==============================] - 3s 27ms/step - loss: 0.1375 - root_mean_squared_error: 0.3708 - val_loss: 0.0736 - val_root_mean_squared_error: 0.2712\n",
      "Epoch 38/50\n",
      "125/125 [==============================] - ETA: 0s - loss: 0.1327 - root_mean_squared_error: 0.3643INFO:tensorflow:Assets written to: models/model2_15win/assets\n"
     ]
    },
    {
     "name": "stderr",
     "output_type": "stream",
     "text": [
      "INFO:tensorflow:Assets written to: models/model2_15win/assets\n"
     ]
    },
    {
     "name": "stdout",
     "output_type": "stream",
     "text": [
      "125/125 [==============================] - 3s 27ms/step - loss: 0.1327 - root_mean_squared_error: 0.3643 - val_loss: 0.0731 - val_root_mean_squared_error: 0.2703\n",
      "Epoch 39/50\n",
      "125/125 [==============================] - 2s 15ms/step - loss: 0.1234 - root_mean_squared_error: 0.3513 - val_loss: 0.0914 - val_root_mean_squared_error: 0.3023\n",
      "Epoch 40/50\n",
      "125/125 [==============================] - ETA: 0s - loss: 0.1198 - root_mean_squared_error: 0.3461INFO:tensorflow:Assets written to: models/model2_15win/assets\n"
     ]
    },
    {
     "name": "stderr",
     "output_type": "stream",
     "text": [
      "INFO:tensorflow:Assets written to: models/model2_15win/assets\n"
     ]
    },
    {
     "name": "stdout",
     "output_type": "stream",
     "text": [
      "125/125 [==============================] - 3s 27ms/step - loss: 0.1198 - root_mean_squared_error: 0.3461 - val_loss: 0.0685 - val_root_mean_squared_error: 0.2617\n",
      "Epoch 41/50\n",
      "125/125 [==============================] - ETA: 0s - loss: 0.1169 - root_mean_squared_error: 0.3420INFO:tensorflow:Assets written to: models/model2_15win/assets\n"
     ]
    },
    {
     "name": "stderr",
     "output_type": "stream",
     "text": [
      "INFO:tensorflow:Assets written to: models/model2_15win/assets\n"
     ]
    },
    {
     "name": "stdout",
     "output_type": "stream",
     "text": [
      "125/125 [==============================] - 3s 27ms/step - loss: 0.1169 - root_mean_squared_error: 0.3420 - val_loss: 0.0642 - val_root_mean_squared_error: 0.2535\n",
      "Epoch 42/50\n",
      "125/125 [==============================] - ETA: 0s - loss: 0.1118 - root_mean_squared_error: 0.3344INFO:tensorflow:Assets written to: models/model2_15win/assets\n"
     ]
    },
    {
     "name": "stderr",
     "output_type": "stream",
     "text": [
      "INFO:tensorflow:Assets written to: models/model2_15win/assets\n"
     ]
    },
    {
     "name": "stdout",
     "output_type": "stream",
     "text": [
      "125/125 [==============================] - 3s 27ms/step - loss: 0.1118 - root_mean_squared_error: 0.3344 - val_loss: 0.0616 - val_root_mean_squared_error: 0.2481\n",
      "Epoch 43/50\n",
      "125/125 [==============================] - 2s 14ms/step - loss: 0.1104 - root_mean_squared_error: 0.3323 - val_loss: 0.0666 - val_root_mean_squared_error: 0.2580\n",
      "Epoch 44/50\n",
      "125/125 [==============================] - ETA: 0s - loss: 0.1098 - root_mean_squared_error: 0.3313INFO:tensorflow:Assets written to: models/model2_15win/assets\n"
     ]
    },
    {
     "name": "stderr",
     "output_type": "stream",
     "text": [
      "INFO:tensorflow:Assets written to: models/model2_15win/assets\n"
     ]
    },
    {
     "name": "stdout",
     "output_type": "stream",
     "text": [
      "125/125 [==============================] - 3s 27ms/step - loss: 0.1098 - root_mean_squared_error: 0.3313 - val_loss: 0.0532 - val_root_mean_squared_error: 0.2306\n",
      "Epoch 45/50\n",
      "125/125 [==============================] - 2s 14ms/step - loss: 0.1049 - root_mean_squared_error: 0.3239 - val_loss: 0.0601 - val_root_mean_squared_error: 0.2452\n",
      "Epoch 46/50\n",
      "125/125 [==============================] - 2s 14ms/step - loss: 0.1049 - root_mean_squared_error: 0.3239 - val_loss: 0.0566 - val_root_mean_squared_error: 0.2379\n",
      "Epoch 47/50\n",
      "125/125 [==============================] - ETA: 0s - loss: 0.1015 - root_mean_squared_error: 0.3185INFO:tensorflow:Assets written to: models/model2_15win/assets\n"
     ]
    },
    {
     "name": "stderr",
     "output_type": "stream",
     "text": [
      "INFO:tensorflow:Assets written to: models/model2_15win/assets\n"
     ]
    },
    {
     "name": "stdout",
     "output_type": "stream",
     "text": [
      "125/125 [==============================] - 3s 27ms/step - loss: 0.1015 - root_mean_squared_error: 0.3185 - val_loss: 0.0523 - val_root_mean_squared_error: 0.2288\n",
      "Epoch 48/50\n",
      "125/125 [==============================] - ETA: 0s - loss: 0.0996 - root_mean_squared_error: 0.3156INFO:tensorflow:Assets written to: models/model2_15win/assets\n"
     ]
    },
    {
     "name": "stderr",
     "output_type": "stream",
     "text": [
      "INFO:tensorflow:Assets written to: models/model2_15win/assets\n"
     ]
    },
    {
     "name": "stdout",
     "output_type": "stream",
     "text": [
      "125/125 [==============================] - 3s 27ms/step - loss: 0.0996 - root_mean_squared_error: 0.3156 - val_loss: 0.0509 - val_root_mean_squared_error: 0.2256\n",
      "Epoch 49/50\n",
      "124/125 [============================>.] - ETA: 0s - loss: 0.0997 - root_mean_squared_error: 0.3158INFO:tensorflow:Assets written to: models/model2_15win/assets\n"
     ]
    },
    {
     "name": "stderr",
     "output_type": "stream",
     "text": [
      "INFO:tensorflow:Assets written to: models/model2_15win/assets\n"
     ]
    },
    {
     "name": "stdout",
     "output_type": "stream",
     "text": [
      "125/125 [==============================] - 3s 27ms/step - loss: 0.0997 - root_mean_squared_error: 0.3158 - val_loss: 0.0505 - val_root_mean_squared_error: 0.2248\n",
      "Epoch 50/50\n",
      "125/125 [==============================] - ETA: 0s - loss: 0.1009 - root_mean_squared_error: 0.3176INFO:tensorflow:Assets written to: models/model2_15win/assets\n"
     ]
    },
    {
     "name": "stderr",
     "output_type": "stream",
     "text": [
      "INFO:tensorflow:Assets written to: models/model2_15win/assets\n"
     ]
    },
    {
     "name": "stdout",
     "output_type": "stream",
     "text": [
      "\b\b\b\b\b\b\b\b\b\b\b\b\b\b\b\b\b\b\b\b\b\b\b\b\b\b\b\b\b\b\b\b\b\b\b\b\b\b\b\b\b\b\b\b\b\b\b\b\b\b\b\b\b\b\b\b\b\b\b\b\b\b\b\b\b\b\b\b\b\b\b\b\b\b\b\b\b\b\b\b\b\b\b\b\b\b\b\b\b\b\b\b\b\b\b\b\b\b\b\r",
      "125/125 [==============================] - 3s 27ms/step - loss: 0.1009 - root_mean_squared_error: 0.3176 - val_loss: 0.0483 - val_root_mean_squared_error: 0.2197\n"
     ]
    }
   ],
   "source": [
    "Model6 = model6.fit(X3_train, y3_train, validation_data=(X3_val, y3_val), epochs=50, callbacks=[cp6])"
   ]
  },
  {
   "cell_type": "code",
   "execution_count": 87,
   "id": "fd714ea8",
   "metadata": {
    "scrolled": true
   },
   "outputs": [
    {
     "data": {
      "image/png": "[encoded data removed]",
      "text/plain": [
       "<Figure size 800x800 with 1 Axes>"
      ]
     },
     "metadata": {},
     "output_type": "display_data"
    },
    {
     "data": {
      "image/png": "[encoded data removed]",
      "text/plain": [
       "<Figure size 640x480 with 1 Axes>"
      ]
     },
     "metadata": {},
     "output_type": "display_data"
    }
   ],
   "source": [
    "pltGraph(Model6)"
   ]
  },
  {
   "cell_type": "code",
   "execution_count": 88,
   "id": "b4074961",
   "metadata": {
    "scrolled": true
   },
   "outputs": [
    {
     "name": "stdout",
     "output_type": "stream",
     "text": [
      "13/13 [==============================] - 1s 11ms/step\n"
     ]
    },
    {
     "data": {
      "image/png": "[encoded data removed]",
      "text/plain": [
       "<Figure size 640x480 with 1 Axes>"
      ]
     },
     "metadata": {},
     "output_type": "display_data"
    },
    {
     "name": "stdout",
     "output_type": "stream",
     "text": [
      "MAPE: 89.91451098010405\n",
      "MSE for Predictions: 0.06850776199738372\n",
      "MAE:  0.20108627\n"
     ]
    }
   ],
   "source": [
    "plot_predictions2(model6, X3_test, y3_test)"
   ]
  },
  {
   "cell_type": "code",
   "execution_count": 37,
   "id": "5434d0c2",
   "metadata": {
    "scrolled": true
   },
   "outputs": [
    {
     "name": "stderr",
     "output_type": "stream",
     "text": [
      "2024-03-30 00:40:39.831710: I metal_plugin/src/device/metal_device.cc:1154] Metal device set to: Apple M1\n",
      "2024-03-30 00:40:39.831772: I metal_plugin/src/device/metal_device.cc:296] systemMemory: 8.00 GB\n",
      "2024-03-30 00:40:39.831786: I metal_plugin/src/device/metal_device.cc:313] maxCacheSize: 2.67 GB\n",
      "2024-03-30 00:40:39.832073: I tensorflow/core/common_runtime/pluggable_device/pluggable_device_factory.cc:306] Could not identify NUMA node of platform GPU ID 0, defaulting to 0. Your kernel may not have been built with NUMA support.\n",
      "2024-03-30 00:40:39.832481: I tensorflow/core/common_runtime/pluggable_device/pluggable_device_factory.cc:272] Created TensorFlow device (/job:localhost/replica:0/task:0/device:GPU:0 with 0 MB memory) -> physical PluggableDevice (device: 0, name: METAL, pci bus id: <undefined>)\n"
     ]
    },
    {
     "name": "stdout",
     "output_type": "stream",
     "text": [
      "Model: \"sequential\"\n",
      "_________________________________________________________________\n",
      " Layer (type)                Output Shape              Param #   \n",
      "=================================================================\n",
      " conv1d (Conv1D)             (None, 10, 128)           1792      \n",
      "                                                                 \n",
      " lstm (LSTM)                 (None, 10, 256)           394240    \n",
      "                                                                 \n",
      " dropout (Dropout)           (None, 10, 256)           0         \n",
      "                                                                 \n",
      " conv1d_1 (Conv1D)           (None, 10, 64)            16448     \n",
      "                                                                 \n",
      " lstm_1 (LSTM)               (None, 10, 128)           98816     \n",
      "                                                                 \n",
      " dropout_1 (Dropout)         (None, 10, 128)           0         \n",
      "                                                                 \n",
      " conv1d_2 (Conv1D)           (None, 10, 32)            4128      \n",
      "                                                                 \n",
      " lstm_2 (LSTM)               (None, 64)                24832     \n",
      "                                                                 \n",
      " dense (Dense)               (None, 1)                 65        \n",
      "                                                                 \n",
      "=================================================================\n",
      "Total params: 540321 (2.06 MB)\n",
      "Trainable params: 540321 (2.06 MB)\n",
      "Non-trainable params: 0 (0.00 Byte)\n",
      "_________________________________________________________________\n"
     ]
    }
   ],
   "source": [
    "from tensorflow.keras.losses import Huber\n",
    "\n",
    "model = Sequential()\n",
    "\n",
    "model.add(Conv1D(filters=128,  kernel_size= 1, activation='tanh',padding='same',input_shape=(10,13)))\n",
    "# model.add(MaxPooling1D(pool_size=1, padding='same'))\n",
    "model.add(LSTM(units=256, return_sequences=True,activation='tanh'))\n",
    "\n",
    "model.add(Dropout(0.5))\n",
    "\n",
    "model.add(Conv1D(filters=64,  kernel_size= 1, activation='tanh',padding='same',input_shape=(10,13)))\n",
    "# model.add(MaxPooling1D(pool_size=1, padding='same'))\n",
    "model.add(LSTM(units=128, return_sequences=True,activation='tanh'))\n",
    "\n",
    "model.add(Dropout(0.4))\n",
    "\n",
    "model.add(Conv1D(filters=32,  kernel_size= 1, activation='tanh',padding='same',input_shape=(10,13)))\n",
    "# model.add(MaxPooling1D(pool_size=1, padding='same'))\n",
    "model.add(LSTM(units=64, return_sequences=False,activation='tanh'))\n",
    "\n",
    "\n",
    "model.add(Dense(1))\n",
    "\n",
    "model.summary()"
   ]
  },
  {
   "cell_type": "code",
   "execution_count": 38,
   "id": "c06b2334",
   "metadata": {},
   "outputs": [
    {
     "data": {
      "text/plain": [
       "'model_graph.png'"
      ]
     },
     "execution_count": 38,
     "metadata": {},
     "output_type": "execute_result"
    }
   ],
   "source": [
    "from graphviz import Digraph\n",
    "dot = Digraph()\n",
    "\n",
    "for layer in model.layers:\n",
    "    dot.node(str(layer.name), label=layer.name)\n",
    "\n",
    "# Add edges between layers\n",
    "for i in range(len(model.layers) - 1):\n",
    "    dot.edge(str(model.layers[i].name), str(model.layers[i + 1].name))\n",
    "\n",
    "# Save the graph to a file\n",
    "dot.render('model_graph', format='png', cleanup=True)"
   ]
  },
  {
   "cell_type": "code",
   "execution_count": 39,
   "id": "0e886e8d",
   "metadata": {},
   "outputs": [
    {
     "data": {
      "image/png": "[encoded data removed]",
      "text/plain": [
       "<IPython.core.display.Image object>"
      ]
     },
     "execution_count": 39,
     "metadata": {},
     "output_type": "execute_result"
    }
   ],
   "source": [
    "from keras.utils import plot_model\n",
    "plot_model(model, to_file='model.png')"
   ]
  },
  {
   "cell_type": "code",
   "execution_count": 47,
   "id": "fb65723a",
   "metadata": {},
   "outputs": [],
   "source": [
    "cp17 = ModelCheckpoint('models/model17_10win_all/', save_best_only=True)\n",
    "model.compile(loss=Huber(), optimizer=tf.keras.optimizers.legacy.Adam(learning_rate=0.0001), metrics=[RootMeanSquaredError(),'mse', 'mae'])"
   ]
  },
  {
   "cell_type": "code",
   "execution_count": 48,
   "id": "97f051d4",
   "metadata": {
    "scrolled": true
   },
   "outputs": [
    {
     "name": "stdout",
     "output_type": "stream",
     "text": [
      "Epoch 1/50\n"
     ]
    },
    {
     "name": "stderr",
     "output_type": "stream",
     "text": [
      "2024-03-30 00:31:20.714891: I tensorflow/core/grappler/optimizers/custom_graph_optimizer_registry.cc:117] Plugin optimizer for device_type GPU is enabled.\n"
     ]
    },
    {
     "name": "stdout",
     "output_type": "stream",
     "text": [
      "125/125 [==============================] - ETA: 0s - loss: 0.4668 - root_mean_squared_error: 1.0030 - mse: 1.0059 - mae: 0.8760INFO:tensorflow:Assets written to: models/model17_10win_all/assets\n"
     ]
    },
    {
     "name": "stderr",
     "output_type": "stream",
     "text": [
      "INFO:tensorflow:Assets written to: models/model17_10win_all/assets\n"
     ]
    },
    {
     "name": "stdout",
     "output_type": "stream",
     "text": [
      "125/125 [==============================] - 13s 81ms/step - loss: 0.4668 - root_mean_squared_error: 1.0030 - mse: 1.0059 - mae: 0.8760 - val_loss: 0.3935 - val_root_mean_squared_error: 0.9226 - val_mse: 0.8512 - val_mae: 0.7629\n",
      "Epoch 2/50\n",
      "125/125 [==============================] - ETA: 0s - loss: 0.4591 - root_mean_squared_error: 0.9942 - mse: 0.9884 - mae: 0.8662INFO:tensorflow:Assets written to: models/model17_10win_all/assets\n"
     ]
    },
    {
     "name": "stderr",
     "output_type": "stream",
     "text": [
      "INFO:tensorflow:Assets written to: models/model17_10win_all/assets\n"
     ]
    },
    {
     "name": "stdout",
     "output_type": "stream",
     "text": [
      "125/125 [==============================] - 9s 69ms/step - loss: 0.4591 - root_mean_squared_error: 0.9942 - mse: 0.9884 - mae: 0.8662 - val_loss: 0.3669 - val_root_mean_squared_error: 0.8848 - val_mse: 0.7829 - val_mae: 0.7332\n",
      "Epoch 3/50\n",
      "125/125 [==============================] - ETA: 0s - loss: 0.4307 - root_mean_squared_error: 0.9668 - mse: 0.9347 - mae: 0.8291INFO:tensorflow:Assets written to: models/model17_10win_all/assets\n"
     ]
    },
    {
     "name": "stderr",
     "output_type": "stream",
     "text": [
      "INFO:tensorflow:Assets written to: models/model17_10win_all/assets\n"
     ]
    },
    {
     "name": "stdout",
     "output_type": "stream",
     "text": [
      "125/125 [==============================] - 9s 73ms/step - loss: 0.4307 - root_mean_squared_error: 0.9668 - mse: 0.9347 - mae: 0.8291 - val_loss: 0.3241 - val_root_mean_squared_error: 0.8230 - val_mse: 0.6773 - val_mae: 0.7041\n",
      "Epoch 4/50\n",
      "125/125 [==============================] - 4s 33ms/step - loss: 0.3910 - root_mean_squared_error: 0.9229 - mse: 0.8518 - mae: 0.7740 - val_loss: 0.4671 - val_root_mean_squared_error: 1.0262 - val_mse: 1.0531 - val_mae: 0.8627\n",
      "Epoch 5/50\n",
      "124/125 [============================>.] - ETA: 0s - loss: 0.3629 - root_mean_squared_error: 0.8909 - mse: 0.7936 - mae: 0.7362INFO:tensorflow:Assets written to: models/model17_10win_all/assets\n"
     ]
    },
    {
     "name": "stderr",
     "output_type": "stream",
     "text": [
      "INFO:tensorflow:Assets written to: models/model17_10win_all/assets\n"
     ]
    },
    {
     "name": "stdout",
     "output_type": "stream",
     "text": [
      "125/125 [==============================] - 9s 71ms/step - loss: 0.3631 - root_mean_squared_error: 0.8911 - mse: 0.7940 - mae: 0.7364 - val_loss: 0.3004 - val_root_mean_squared_error: 0.7978 - val_mse: 0.6366 - val_mae: 0.6688\n",
      "Epoch 6/50\n",
      "125/125 [==============================] - 4s 33ms/step - loss: 0.3195 - root_mean_squared_error: 0.8337 - mse: 0.6950 - mae: 0.6788 - val_loss: 0.4486 - val_root_mean_squared_error: 1.0069 - val_mse: 1.0139 - val_mae: 0.8508\n",
      "Epoch 7/50\n",
      "125/125 [==============================] - 4s 33ms/step - loss: 0.2913 - root_mean_squared_error: 0.7944 - mse: 0.6311 - mae: 0.6420 - val_loss: 0.3487 - val_root_mean_squared_error: 0.8708 - val_mse: 0.7582 - val_mae: 0.7294\n",
      "Epoch 8/50\n",
      "125/125 [==============================] - 5s 37ms/step - loss: 0.2556 - root_mean_squared_error: 0.7396 - mse: 0.5470 - mae: 0.5952 - val_loss: 0.4179 - val_root_mean_squared_error: 0.9643 - val_mse: 0.9298 - val_mae: 0.8142\n",
      "Epoch 9/50\n",
      "125/125 [==============================] - ETA: 0s - loss: 0.2343 - root_mean_squared_error: 0.7054 - mse: 0.4975 - mae: 0.5634INFO:tensorflow:Assets written to: models/model17_10win_all/assets\n"
     ]
    },
    {
     "name": "stderr",
     "output_type": "stream",
     "text": [
      "INFO:tensorflow:Assets written to: models/model17_10win_all/assets\n"
     ]
    },
    {
     "name": "stdout",
     "output_type": "stream",
     "text": [
      "125/125 [==============================] - 9s 69ms/step - loss: 0.2343 - root_mean_squared_error: 0.7054 - mse: 0.4975 - mae: 0.5634 - val_loss: 0.2108 - val_root_mean_squared_error: 0.6587 - val_mse: 0.4338 - val_mae: 0.5430\n",
      "Epoch 10/50\n",
      "125/125 [==============================] - 4s 33ms/step - loss: 0.2122 - root_mean_squared_error: 0.6693 - mse: 0.4480 - mae: 0.5332 - val_loss: 0.3189 - val_root_mean_squared_error: 0.8255 - val_mse: 0.6815 - val_mae: 0.6957\n",
      "Epoch 11/50\n",
      "125/125 [==============================] - 4s 33ms/step - loss: 0.1972 - root_mean_squared_error: 0.6430 - mse: 0.4134 - mae: 0.5124 - val_loss: 0.2590 - val_root_mean_squared_error: 0.7357 - val_mse: 0.5412 - val_mae: 0.6161\n",
      "Epoch 12/50\n",
      "125/125 [==============================] - ETA: 0s - loss: 0.1854 - root_mean_squared_error: 0.6234 - mse: 0.3886 - mae: 0.4954INFO:tensorflow:Assets written to: models/model17_10win_all/assets\n"
     ]
    },
    {
     "name": "stderr",
     "output_type": "stream",
     "text": [
      "INFO:tensorflow:Assets written to: models/model17_10win_all/assets\n"
     ]
    },
    {
     "name": "stdout",
     "output_type": "stream",
     "text": [
      "125/125 [==============================] - 9s 70ms/step - loss: 0.1854 - root_mean_squared_error: 0.6234 - mse: 0.3886 - mae: 0.4954 - val_loss: 0.2068 - val_root_mean_squared_error: 0.6542 - val_mse: 0.4280 - val_mae: 0.5408\n",
      "Epoch 13/50\n",
      "125/125 [==============================] - 5s 37ms/step - loss: 0.1761 - root_mean_squared_error: 0.6058 - mse: 0.3670 - mae: 0.4809 - val_loss: 0.2409 - val_root_mean_squared_error: 0.7073 - val_mse: 0.5002 - val_mae: 0.5997\n",
      "Epoch 14/50\n",
      "125/125 [==============================] - ETA: 0s - loss: 0.1648 - root_mean_squared_error: 0.5860 - mse: 0.3434 - mae: 0.4653INFO:tensorflow:Assets written to: models/model17_10win_all/assets\n"
     ]
    },
    {
     "name": "stderr",
     "output_type": "stream",
     "text": [
      "INFO:tensorflow:Assets written to: models/model17_10win_all/assets\n"
     ]
    },
    {
     "name": "stdout",
     "output_type": "stream",
     "text": [
      "125/125 [==============================] - 8s 67ms/step - loss: 0.1648 - root_mean_squared_error: 0.5860 - mse: 0.3434 - mae: 0.4653 - val_loss: 0.2037 - val_root_mean_squared_error: 0.6481 - val_mse: 0.4201 - val_mae: 0.5419\n",
      "Epoch 15/50\n",
      "125/125 [==============================] - 5s 36ms/step - loss: 0.1581 - root_mean_squared_error: 0.5733 - mse: 0.3287 - mae: 0.4529 - val_loss: 0.2509 - val_root_mean_squared_error: 0.7234 - val_mse: 0.5233 - val_mae: 0.6105\n",
      "Epoch 16/50\n",
      "125/125 [==============================] - ETA: 0s - loss: 0.1458 - root_mean_squared_error: 0.5500 - mse: 0.3025 - mae: 0.4333INFO:tensorflow:Assets written to: models/model17_10win_all/assets\n"
     ]
    },
    {
     "name": "stderr",
     "output_type": "stream",
     "text": [
      "INFO:tensorflow:Assets written to: models/model17_10win_all/assets\n"
     ]
    },
    {
     "name": "stdout",
     "output_type": "stream",
     "text": [
      "125/125 [==============================] - 9s 72ms/step - loss: 0.1458 - root_mean_squared_error: 0.5500 - mse: 0.3025 - mae: 0.4333 - val_loss: 0.1845 - val_root_mean_squared_error: 0.6163 - val_mse: 0.3799 - val_mae: 0.5069\n",
      "Epoch 17/50\n",
      "125/125 [==============================] - ETA: 0s - loss: 0.1404 - root_mean_squared_error: 0.5399 - mse: 0.2915 - mae: 0.4228INFO:tensorflow:Assets written to: models/model17_10win_all/assets\n"
     ]
    },
    {
     "name": "stderr",
     "output_type": "stream",
     "text": [
      "INFO:tensorflow:Assets written to: models/model17_10win_all/assets\n"
     ]
    },
    {
     "name": "stdout",
     "output_type": "stream",
     "text": [
      "125/125 [==============================] - 9s 71ms/step - loss: 0.1404 - root_mean_squared_error: 0.5399 - mse: 0.2915 - mae: 0.4228 - val_loss: 0.1188 - val_root_mean_squared_error: 0.4909 - val_mse: 0.2410 - val_mae: 0.3936\n",
      "Epoch 18/50\n",
      "125/125 [==============================] - 4s 35ms/step - loss: 0.1362 - root_mean_squared_error: 0.5317 - mse: 0.2827 - mae: 0.4130 - val_loss: 0.1895 - val_root_mean_squared_error: 0.6219 - val_mse: 0.3868 - val_mae: 0.5316\n",
      "Epoch 19/50\n",
      "125/125 [==============================] - 4s 34ms/step - loss: 0.1255 - root_mean_squared_error: 0.5105 - mse: 0.2606 - mae: 0.3970 - val_loss: 0.1539 - val_root_mean_squared_error: 0.5609 - val_mse: 0.3146 - val_mae: 0.4483\n",
      "Epoch 20/50\n",
      "125/125 [==============================] - 5s 38ms/step - loss: 0.1225 - root_mean_squared_error: 0.5039 - mse: 0.2539 - mae: 0.3896 - val_loss: 0.1455 - val_root_mean_squared_error: 0.5454 - val_mse: 0.2975 - val_mae: 0.4339\n",
      "Epoch 21/50\n",
      "125/125 [==============================] - 4s 34ms/step - loss: 0.1171 - root_mean_squared_error: 0.4933 - mse: 0.2433 - mae: 0.3756 - val_loss: 0.1246 - val_root_mean_squared_error: 0.5041 - val_mse: 0.2541 - val_mae: 0.3886\n",
      "Epoch 22/50\n",
      "125/125 [==============================] - 4s 33ms/step - loss: 0.1112 - root_mean_squared_error: 0.4801 - mse: 0.2305 - mae: 0.3662 - val_loss: 0.1394 - val_root_mean_squared_error: 0.5334 - val_mse: 0.2845 - val_mae: 0.4220\n",
      "Epoch 23/50\n",
      "125/125 [==============================] - ETA: 0s - loss: 0.1092 - root_mean_squared_error: 0.4762 - mse: 0.2268 - mae: 0.3608INFO:tensorflow:Assets written to: models/model17_10win_all/assets\n"
     ]
    },
    {
     "name": "stderr",
     "output_type": "stream",
     "text": [
      "INFO:tensorflow:Assets written to: models/model17_10win_all/assets\n"
     ]
    },
    {
     "name": "stdout",
     "output_type": "stream",
     "text": [
      "125/125 [==============================] - 9s 71ms/step - loss: 0.1092 - root_mean_squared_error: 0.4762 - mse: 0.2268 - mae: 0.3608 - val_loss: 0.1164 - val_root_mean_squared_error: 0.4860 - val_mse: 0.2362 - val_mae: 0.3803\n",
      "Epoch 24/50\n",
      "125/125 [==============================] - ETA: 0s - loss: 0.1048 - root_mean_squared_error: 0.4662 - mse: 0.2173 - mae: 0.3520INFO:tensorflow:Assets written to: models/model17_10win_all/assets\n"
     ]
    },
    {
     "name": "stderr",
     "output_type": "stream",
     "text": [
      "INFO:tensorflow:Assets written to: models/model17_10win_all/assets\n"
     ]
    },
    {
     "name": "stdout",
     "output_type": "stream",
     "text": [
      "125/125 [==============================] - 9s 69ms/step - loss: 0.1048 - root_mean_squared_error: 0.4662 - mse: 0.2173 - mae: 0.3520 - val_loss: 0.1080 - val_root_mean_squared_error: 0.4683 - val_mse: 0.2193 - val_mae: 0.3635\n",
      "Epoch 25/50\n",
      "125/125 [==============================] - ETA: 0s - loss: 0.1009 - root_mean_squared_error: 0.4575 - mse: 0.2093 - mae: 0.3431INFO:tensorflow:Assets written to: models/model17_10win_all/assets\n"
     ]
    },
    {
     "name": "stderr",
     "output_type": "stream",
     "text": [
      "INFO:tensorflow:Assets written to: models/model17_10win_all/assets\n"
     ]
    },
    {
     "name": "stdout",
     "output_type": "stream",
     "text": [
      "125/125 [==============================] - 9s 69ms/step - loss: 0.1009 - root_mean_squared_error: 0.4575 - mse: 0.2093 - mae: 0.3431 - val_loss: 0.0980 - val_root_mean_squared_error: 0.4460 - val_mse: 0.1989 - val_mae: 0.3399\n",
      "Epoch 26/50\n",
      "125/125 [==============================] - ETA: 0s - loss: 0.1009 - root_mean_squared_error: 0.4576 - mse: 0.2094 - mae: 0.3425INFO:tensorflow:Assets written to: models/model17_10win_all/assets\n"
     ]
    },
    {
     "name": "stderr",
     "output_type": "stream",
     "text": [
      "INFO:tensorflow:Assets written to: models/model17_10win_all/assets\n"
     ]
    },
    {
     "name": "stdout",
     "output_type": "stream",
     "text": [
      "125/125 [==============================] - 9s 69ms/step - loss: 0.1009 - root_mean_squared_error: 0.4576 - mse: 0.2094 - mae: 0.3425 - val_loss: 0.0894 - val_root_mean_squared_error: 0.4266 - val_mse: 0.1820 - val_mae: 0.3280\n",
      "Epoch 27/50\n",
      "125/125 [==============================] - ETA: 0s - loss: 0.0927 - root_mean_squared_error: 0.4396 - mse: 0.1933 - mae: 0.3229INFO:tensorflow:Assets written to: models/model17_10win_all/assets\n"
     ]
    },
    {
     "name": "stderr",
     "output_type": "stream",
     "text": [
      "INFO:tensorflow:Assets written to: models/model17_10win_all/assets\n"
     ]
    },
    {
     "name": "stdout",
     "output_type": "stream",
     "text": [
      "125/125 [==============================] - 9s 70ms/step - loss: 0.0927 - root_mean_squared_error: 0.4396 - mse: 0.1933 - mae: 0.3229 - val_loss: 0.0828 - val_root_mean_squared_error: 0.4094 - val_mse: 0.1676 - val_mae: 0.3065\n",
      "Epoch 28/50\n",
      "125/125 [==============================] - ETA: 0s - loss: 0.0899 - root_mean_squared_error: 0.4322 - mse: 0.1868 - mae: 0.3200INFO:tensorflow:Assets written to: models/model17_10win_all/assets\n"
     ]
    },
    {
     "name": "stderr",
     "output_type": "stream",
     "text": [
      "INFO:tensorflow:Assets written to: models/model17_10win_all/assets\n"
     ]
    },
    {
     "name": "stdout",
     "output_type": "stream",
     "text": [
      "125/125 [==============================] - 9s 69ms/step - loss: 0.0899 - root_mean_squared_error: 0.4322 - mse: 0.1868 - mae: 0.3200 - val_loss: 0.0601 - val_root_mean_squared_error: 0.3480 - val_mse: 0.1211 - val_mae: 0.2539\n",
      "Epoch 29/50\n",
      "125/125 [==============================] - ETA: 0s - loss: 0.0895 - root_mean_squared_error: 0.4316 - mse: 0.1863 - mae: 0.3181INFO:tensorflow:Assets written to: models/model17_10win_all/assets\n"
     ]
    },
    {
     "name": "stderr",
     "output_type": "stream",
     "text": [
      "INFO:tensorflow:Assets written to: models/model17_10win_all/assets\n"
     ]
    },
    {
     "name": "stdout",
     "output_type": "stream",
     "text": [
      "125/125 [==============================] - 9s 70ms/step - loss: 0.0895 - root_mean_squared_error: 0.4316 - mse: 0.1863 - mae: 0.3181 - val_loss: 0.0583 - val_root_mean_squared_error: 0.3426 - val_mse: 0.1174 - val_mae: 0.2529\n",
      "Epoch 30/50\n",
      "125/125 [==============================] - ETA: 0s - loss: 0.0884 - root_mean_squared_error: 0.4277 - mse: 0.1829 - mae: 0.3157INFO:tensorflow:Assets written to: models/model17_10win_all/assets\n"
     ]
    },
    {
     "name": "stderr",
     "output_type": "stream",
     "text": [
      "INFO:tensorflow:Assets written to: models/model17_10win_all/assets\n"
     ]
    },
    {
     "name": "stdout",
     "output_type": "stream",
     "text": [
      "125/125 [==============================] - 8s 68ms/step - loss: 0.0884 - root_mean_squared_error: 0.4277 - mse: 0.1829 - mae: 0.3157 - val_loss: 0.0468 - val_root_mean_squared_error: 0.3066 - val_mse: 0.0940 - val_mae: 0.2268\n",
      "Epoch 31/50\n",
      "125/125 [==============================] - 4s 33ms/step - loss: 0.0824 - root_mean_squared_error: 0.4134 - mse: 0.1709 - mae: 0.3033 - val_loss: 0.0771 - val_root_mean_squared_error: 0.3944 - val_mse: 0.1556 - val_mae: 0.2919\n",
      "Epoch 32/50\n",
      "125/125 [==============================] - 4s 33ms/step - loss: 0.0832 - root_mean_squared_error: 0.4154 - mse: 0.1726 - mae: 0.3032 - val_loss: 0.0480 - val_root_mean_squared_error: 0.3110 - val_mse: 0.0967 - val_mae: 0.2238\n",
      "Epoch 33/50\n",
      "125/125 [==============================] - 4s 33ms/step - loss: 0.0798 - root_mean_squared_error: 0.4068 - mse: 0.1655 - mae: 0.2962 - val_loss: 0.0564 - val_root_mean_squared_error: 0.3375 - val_mse: 0.1139 - val_mae: 0.2468\n",
      "Epoch 34/50\n",
      "125/125 [==============================] - 4s 33ms/step - loss: 0.0767 - root_mean_squared_error: 0.3996 - mse: 0.1596 - mae: 0.2880 - val_loss: 0.0507 - val_root_mean_squared_error: 0.3188 - val_mse: 0.1016 - val_mae: 0.2402\n",
      "Epoch 35/50\n",
      "125/125 [==============================] - 4s 33ms/step - loss: 0.0808 - root_mean_squared_error: 0.4091 - mse: 0.1674 - mae: 0.2976 - val_loss: 0.0617 - val_root_mean_squared_error: 0.3527 - val_mse: 0.1244 - val_mae: 0.2572\n",
      "Epoch 36/50\n",
      "125/125 [==============================] - 4s 33ms/step - loss: 0.0739 - root_mean_squared_error: 0.3916 - mse: 0.1534 - mae: 0.2798 - val_loss: 0.0620 - val_root_mean_squared_error: 0.3542 - val_mse: 0.1255 - val_mae: 0.2588\n",
      "Epoch 37/50\n",
      "125/125 [==============================] - ETA: 0s - loss: 0.0720 - root_mean_squared_error: 0.3868 - mse: 0.1496 - mae: 0.2754INFO:tensorflow:Assets written to: models/model17_10win_all/assets\n"
     ]
    },
    {
     "name": "stderr",
     "output_type": "stream",
     "text": [
      "INFO:tensorflow:Assets written to: models/model17_10win_all/assets\n"
     ]
    },
    {
     "name": "stdout",
     "output_type": "stream",
     "text": [
      "125/125 [==============================] - 9s 70ms/step - loss: 0.0720 - root_mean_squared_error: 0.3868 - mse: 0.1496 - mae: 0.2754 - val_loss: 0.0403 - val_root_mean_squared_error: 0.2850 - val_mse: 0.0812 - val_mae: 0.2048\n",
      "Epoch 38/50\n",
      "125/125 [==============================] - 4s 34ms/step - loss: 0.0697 - root_mean_squared_error: 0.3812 - mse: 0.1453 - mae: 0.2688 - val_loss: 0.0453 - val_root_mean_squared_error: 0.3024 - val_mse: 0.0914 - val_mae: 0.2180\n",
      "Epoch 39/50\n",
      "125/125 [==============================] - 4s 33ms/step - loss: 0.0717 - root_mean_squared_error: 0.3861 - mse: 0.1490 - mae: 0.2750 - val_loss: 0.0408 - val_root_mean_squared_error: 0.2868 - val_mse: 0.0822 - val_mae: 0.2086\n",
      "Epoch 40/50\n",
      "125/125 [==============================] - 4s 33ms/step - loss: 0.0691 - root_mean_squared_error: 0.3791 - mse: 0.1437 - mae: 0.2692 - val_loss: 0.0450 - val_root_mean_squared_error: 0.3014 - val_mse: 0.0908 - val_mae: 0.2160\n",
      "Epoch 41/50\n",
      "125/125 [==============================] - 4s 33ms/step - loss: 0.0661 - root_mean_squared_error: 0.3709 - mse: 0.1376 - mae: 0.2615 - val_loss: 0.0558 - val_root_mean_squared_error: 0.3354 - val_mse: 0.1125 - val_mae: 0.2434\n",
      "Epoch 42/50\n",
      "125/125 [==============================] - 4s 33ms/step - loss: 0.0663 - root_mean_squared_error: 0.3719 - mse: 0.1383 - mae: 0.2607 - val_loss: 0.0542 - val_root_mean_squared_error: 0.3306 - val_mse: 0.1093 - val_mae: 0.2458\n",
      "Epoch 43/50\n",
      "125/125 [==============================] - ETA: 0s - loss: 0.0643 - root_mean_squared_error: 0.3660 - mse: 0.1340 - mae: 0.2563INFO:tensorflow:Assets written to: models/model17_10win_all/assets\n"
     ]
    },
    {
     "name": "stderr",
     "output_type": "stream",
     "text": [
      "INFO:tensorflow:Assets written to: models/model17_10win_all/assets\n"
     ]
    },
    {
     "name": "stdout",
     "output_type": "stream",
     "text": [
      "125/125 [==============================] - 9s 69ms/step - loss: 0.0643 - root_mean_squared_error: 0.3660 - mse: 0.1340 - mae: 0.2563 - val_loss: 0.0319 - val_root_mean_squared_error: 0.2534 - val_mse: 0.0642 - val_mae: 0.1790\n",
      "Epoch 44/50\n",
      "125/125 [==============================] - 4s 33ms/step - loss: 0.0629 - root_mean_squared_error: 0.3615 - mse: 0.1307 - mae: 0.2517 - val_loss: 0.0372 - val_root_mean_squared_error: 0.2740 - val_mse: 0.0751 - val_mae: 0.1966\n",
      "Epoch 45/50\n",
      "125/125 [==============================] - 4s 33ms/step - loss: 0.0619 - root_mean_squared_error: 0.3591 - mse: 0.1289 - mae: 0.2507 - val_loss: 0.0490 - val_root_mean_squared_error: 0.3150 - val_mse: 0.0992 - val_mae: 0.2376\n",
      "Epoch 46/50\n",
      "125/125 [==============================] - 4s 33ms/step - loss: 0.0604 - root_mean_squared_error: 0.3548 - mse: 0.1259 - mae: 0.2455 - val_loss: 0.0399 - val_root_mean_squared_error: 0.2833 - val_mse: 0.0803 - val_mae: 0.2044\n",
      "Epoch 47/50\n",
      "125/125 [==============================] - 4s 33ms/step - loss: 0.0588 - root_mean_squared_error: 0.3493 - mse: 0.1220 - mae: 0.2420 - val_loss: 0.0377 - val_root_mean_squared_error: 0.2759 - val_mse: 0.0761 - val_mae: 0.2019\n",
      "Epoch 48/50\n",
      "125/125 [==============================] - 4s 33ms/step - loss: 0.0579 - root_mean_squared_error: 0.3475 - mse: 0.1208 - mae: 0.2391 - val_loss: 0.0324 - val_root_mean_squared_error: 0.2565 - val_mse: 0.0658 - val_mae: 0.1827\n",
      "Epoch 49/50\n",
      "125/125 [==============================] - ETA: 0s - loss: 0.0577 - root_mean_squared_error: 0.3461 - mse: 0.1198 - mae: 0.2397INFO:tensorflow:Assets written to: models/model17_10win_all/assets\n"
     ]
    },
    {
     "name": "stderr",
     "output_type": "stream",
     "text": [
      "INFO:tensorflow:Assets written to: models/model17_10win_all/assets\n"
     ]
    },
    {
     "name": "stdout",
     "output_type": "stream",
     "text": [
      "125/125 [==============================] - 9s 70ms/step - loss: 0.0577 - root_mean_squared_error: 0.3461 - mse: 0.1198 - mae: 0.2397 - val_loss: 0.0317 - val_root_mean_squared_error: 0.2531 - val_mse: 0.0641 - val_mae: 0.1802\n",
      "Epoch 50/50\n",
      "125/125 [==============================] - 4s 33ms/step - loss: 0.0562 - root_mean_squared_error: 0.3421 - mse: 0.1171 - mae: 0.2337 - val_loss: 0.0328 - val_root_mean_squared_error: 0.2577 - val_mse: 0.0664 - val_mae: 0.1844\n"
     ]
    }
   ],
   "source": [
    "Model = model.fit(X3_train, y3_train, validation_data=(X3_val, y3_val), epochs=50, callbacks=[cp17])"
   ]
  },
  {
   "cell_type": "code",
   "execution_count": 49,
   "id": "a98777b4",
   "metadata": {},
   "outputs": [
    {
     "data": {
      "image/png": "[encoded data removed]",
      "text/plain": [
       "<Figure size 800x800 with 1 Axes>"
      ]
     },
     "metadata": {},
     "output_type": "display_data"
    },
    {
     "data": {
      "image/png": "[encoded data removed]",
      "text/plain": [
       "<Figure size 640x480 with 1 Axes>"
      ]
     },
     "metadata": {},
     "output_type": "display_data"
    }
   ],
   "source": [
    "pltGraph(Model)"
   ]
  },
  {
   "cell_type": "code",
   "execution_count": 50,
   "id": "302e03c8",
   "metadata": {},
   "outputs": [
    {
     "name": "stdout",
     "output_type": "stream",
     "text": [
      "13/13 [==============================] - 1s 16ms/step\n"
     ]
    },
    {
     "data": {
      "image/png": "[encoded data removed]",
      "text/plain": [
       "<Figure size 640x480 with 1 Axes>"
      ]
     },
     "metadata": {},
     "output_type": "display_data"
    },
    {
     "name": "stdout",
     "output_type": "stream",
     "text": [
      "MAPE: 98.83904842564719\n",
      "MSE for Predictions: 0.06400987371018398\n",
      "MAE:  0.17544387\n"
     ]
    }
   ],
   "source": [
    "plot_predictions2(model, X3_test, y3_test)"
   ]
  },
  {
   "cell_type": "markdown",
   "id": "d3230d76",
   "metadata": {},
   "source": [
    "# Above model is good  model17"
   ]
  },
  {
   "cell_type": "code",
   "execution_count": 101,
   "id": "1aad772f",
   "metadata": {},
   "outputs": [
    {
     "name": "stdout",
     "output_type": "stream",
     "text": [
      "Model: \"sequential_15\"\n",
      "_________________________________________________________________\n",
      " Layer (type)                Output Shape              Param #   \n",
      "=================================================================\n",
      " conv1d_24 (Conv1D)          (None, 10, 32)            1280      \n",
      "                                                                 \n",
      " conv1d_25 (Conv1D)          (None, 10, 64)            6208      \n",
      "                                                                 \n",
      " max_pooling1d_4 (MaxPoolin  (None, 5, 64)             0         \n",
      " g1D)                                                            \n",
      "                                                                 \n",
      " lstm_24 (LSTM)              (None, 64)                33024     \n",
      "                                                                 \n",
      " dense_30 (Dense)            (None, 16)                1040      \n",
      "                                                                 \n",
      " dense_31 (Dense)            (None, 1)                 17        \n",
      "                                                                 \n",
      "=================================================================\n",
      "Total params: 41569 (162.38 KB)\n",
      "Trainable params: 41569 (162.38 KB)\n",
      "Non-trainable params: 0 (0.00 Byte)\n",
      "_________________________________________________________________\n"
     ]
    }
   ],
   "source": [
    "\n",
    "# Define input shape\n",
    "input_shape = (10,13)  # Replace input_dim with your input sequence length\n",
    "\n",
    "# Create the Sequential model\n",
    "model7 = Sequential()\n",
    "model7.add(InputLayer((10, 13)))\n",
    "# Add the convolutional layers\n",
    "model7.add(Conv1D(filters=32, kernel_size=3, padding='same', activation='relu', input_shape=input_shape))\n",
    "model7.add(Conv1D(filters=64, kernel_size=3, padding='same', activation='relu'))\n",
    "\n",
    "# Add the max pooling layer\n",
    "model7.add(MaxPooling1D(pool_size=2))\n",
    "\n",
    "# Add the LSTM layer\n",
    "model7.add(LSTM(units=64, return_sequences=False))\n",
    "\n",
    "model7.add(Dense(units=16, activation='relu'))\n",
    "\n",
    "# Add the output dense layer\n",
    "model7.add(Dense(units=1, activation='linear'))  # Replace output_dim with your desired output dimensionality\n",
    "\n",
    "model7.summary()\n"
   ]
  },
  {
   "cell_type": "code",
   "execution_count": 102,
   "id": "fda5a742",
   "metadata": {},
   "outputs": [],
   "source": [
    "cp7 = ModelCheckpoint('models/model7_winsize10/', save_best_only=True)\n",
    "model7.compile(loss=MeanSquaredError(), optimizer=tf.keras.optimizers.legacy.Adam(learning_rate=0.0001), metrics=[RootMeanSquaredError()])"
   ]
  },
  {
   "cell_type": "code",
   "execution_count": 103,
   "id": "edf2cd9c",
   "metadata": {
    "scrolled": true
   },
   "outputs": [
    {
     "name": "stdout",
     "output_type": "stream",
     "text": [
      "Epoch 1/50\n",
      "125/125 [==============================] - ETA: 0s - loss: 0.9936 - root_mean_squared_error: 0.9968INFO:tensorflow:Assets written to: models/model7_winsize10/assets\n"
     ]
    },
    {
     "name": "stderr",
     "output_type": "stream",
     "text": [
      "INFO:tensorflow:Assets written to: models/model7_winsize10/assets\n"
     ]
    },
    {
     "name": "stdout",
     "output_type": "stream",
     "text": [
      "125/125 [==============================] - 9s 59ms/step - loss: 0.9936 - root_mean_squared_error: 0.9968 - val_loss: 0.8233 - val_root_mean_squared_error: 0.9074\n",
      "Epoch 2/50\n",
      "125/125 [==============================] - 2s 18ms/step - loss: 0.9488 - root_mean_squared_error: 0.9740 - val_loss: 0.8534 - val_root_mean_squared_error: 0.9238\n",
      "Epoch 3/50\n",
      "125/125 [==============================] - ETA: 0s - loss: 0.9527 - root_mean_squared_error: 0.9760INFO:tensorflow:Assets written to: models/model7_winsize10/assets\n"
     ]
    },
    {
     "name": "stderr",
     "output_type": "stream",
     "text": [
      "INFO:tensorflow:Assets written to: models/model7_winsize10/assets\n"
     ]
    },
    {
     "name": "stdout",
     "output_type": "stream",
     "text": [
      "125/125 [==============================] - 4s 33ms/step - loss: 0.9527 - root_mean_squared_error: 0.9760 - val_loss: 0.8047 - val_root_mean_squared_error: 0.8970\n",
      "Epoch 4/50\n",
      "125/125 [==============================] - 2s 16ms/step - loss: 0.9596 - root_mean_squared_error: 0.9796 - val_loss: 0.8617 - val_root_mean_squared_error: 0.9283\n",
      "Epoch 5/50\n",
      "124/125 [============================>.] - ETA: 0s - loss: 0.9462 - root_mean_squared_error: 0.9727INFO:tensorflow:Assets written to: models/model7_winsize10/assets\n"
     ]
    },
    {
     "name": "stderr",
     "output_type": "stream",
     "text": [
      "INFO:tensorflow:Assets written to: models/model7_winsize10/assets\n"
     ]
    },
    {
     "name": "stdout",
     "output_type": "stream",
     "text": [
      "125/125 [==============================] - 4s 30ms/step - loss: 0.9460 - root_mean_squared_error: 0.9726 - val_loss: 0.7931 - val_root_mean_squared_error: 0.8906\n",
      "Epoch 6/50\n",
      "125/125 [==============================] - ETA: 0s - loss: 0.9378 - root_mean_squared_error: 0.9684INFO:tensorflow:Assets written to: models/model7_winsize10/assets\n"
     ]
    },
    {
     "name": "stderr",
     "output_type": "stream",
     "text": [
      "INFO:tensorflow:Assets written to: models/model7_winsize10/assets\n"
     ]
    },
    {
     "name": "stdout",
     "output_type": "stream",
     "text": [
      "125/125 [==============================] - 4s 31ms/step - loss: 0.9378 - root_mean_squared_error: 0.9684 - val_loss: 0.7304 - val_root_mean_squared_error: 0.8546\n",
      "Epoch 7/50\n",
      "125/125 [==============================] - ETA: 0s - loss: 0.9346 - root_mean_squared_error: 0.9667INFO:tensorflow:Assets written to: models/model7_winsize10/assets\n"
     ]
    },
    {
     "name": "stderr",
     "output_type": "stream",
     "text": [
      "INFO:tensorflow:Assets written to: models/model7_winsize10/assets\n"
     ]
    },
    {
     "name": "stdout",
     "output_type": "stream",
     "text": [
      "125/125 [==============================] - 4s 31ms/step - loss: 0.9346 - root_mean_squared_error: 0.9667 - val_loss: 0.6568 - val_root_mean_squared_error: 0.8104\n",
      "Epoch 8/50\n",
      "125/125 [==============================] - 2s 20ms/step - loss: 0.9046 - root_mean_squared_error: 0.9511 - val_loss: 0.6846 - val_root_mean_squared_error: 0.8274\n",
      "Epoch 9/50\n",
      "125/125 [==============================] - 2s 16ms/step - loss: 0.8932 - root_mean_squared_error: 0.9451 - val_loss: 0.7163 - val_root_mean_squared_error: 0.8463\n",
      "Epoch 10/50\n",
      "125/125 [==============================] - 2s 16ms/step - loss: 0.8958 - root_mean_squared_error: 0.9465 - val_loss: 0.7121 - val_root_mean_squared_error: 0.8438\n",
      "Epoch 11/50\n",
      "125/125 [==============================] - 2s 16ms/step - loss: 0.8849 - root_mean_squared_error: 0.9407 - val_loss: 0.8134 - val_root_mean_squared_error: 0.9019\n",
      "Epoch 12/50\n",
      "125/125 [==============================] - ETA: 0s - loss: 0.8737 - root_mean_squared_error: 0.9347INFO:tensorflow:Assets written to: models/model7_winsize10/assets\n"
     ]
    },
    {
     "name": "stderr",
     "output_type": "stream",
     "text": [
      "INFO:tensorflow:Assets written to: models/model7_winsize10/assets\n"
     ]
    },
    {
     "name": "stdout",
     "output_type": "stream",
     "text": [
      "125/125 [==============================] - 6s 49ms/step - loss: 0.8737 - root_mean_squared_error: 0.9347 - val_loss: 0.6372 - val_root_mean_squared_error: 0.7983\n",
      "Epoch 13/50\n",
      "125/125 [==============================] - ETA: 0s - loss: 0.8314 - root_mean_squared_error: 0.9118INFO:tensorflow:Assets written to: models/model7_winsize10/assets\n"
     ]
    },
    {
     "name": "stderr",
     "output_type": "stream",
     "text": [
      "INFO:tensorflow:Assets written to: models/model7_winsize10/assets\n"
     ]
    },
    {
     "name": "stdout",
     "output_type": "stream",
     "text": [
      "125/125 [==============================] - 4s 31ms/step - loss: 0.8314 - root_mean_squared_error: 0.9118 - val_loss: 0.6069 - val_root_mean_squared_error: 0.7790\n",
      "Epoch 14/50\n",
      "125/125 [==============================] - ETA: 0s - loss: 0.8038 - root_mean_squared_error: 0.8966INFO:tensorflow:Assets written to: models/model7_winsize10/assets\n"
     ]
    },
    {
     "name": "stderr",
     "output_type": "stream",
     "text": [
      "INFO:tensorflow:Assets written to: models/model7_winsize10/assets\n"
     ]
    },
    {
     "name": "stdout",
     "output_type": "stream",
     "text": [
      "125/125 [==============================] - 4s 30ms/step - loss: 0.8038 - root_mean_squared_error: 0.8966 - val_loss: 0.5871 - val_root_mean_squared_error: 0.7662\n",
      "Epoch 15/50\n",
      "125/125 [==============================] - 2s 16ms/step - loss: 0.7490 - root_mean_squared_error: 0.8654 - val_loss: 0.6180 - val_root_mean_squared_error: 0.7861\n",
      "Epoch 16/50\n",
      "124/125 [============================>.] - ETA: 0s - loss: 0.6953 - root_mean_squared_error: 0.8339INFO:tensorflow:Assets written to: models/model7_winsize10/assets\n"
     ]
    },
    {
     "name": "stderr",
     "output_type": "stream",
     "text": [
      "INFO:tensorflow:Assets written to: models/model7_winsize10/assets\n"
     ]
    },
    {
     "name": "stdout",
     "output_type": "stream",
     "text": [
      "125/125 [==============================] - 4s 30ms/step - loss: 0.6955 - root_mean_squared_error: 0.8340 - val_loss: 0.5847 - val_root_mean_squared_error: 0.7647\n",
      "Epoch 17/50\n",
      "125/125 [==============================] - 2s 16ms/step - loss: 0.6283 - root_mean_squared_error: 0.7927 - val_loss: 0.6574 - val_root_mean_squared_error: 0.8108\n",
      "Epoch 18/50\n",
      "125/125 [==============================] - ETA: 0s - loss: 0.5547 - root_mean_squared_error: 0.7448INFO:tensorflow:Assets written to: models/model7_winsize10/assets\n"
     ]
    },
    {
     "name": "stderr",
     "output_type": "stream",
     "text": [
      "INFO:tensorflow:Assets written to: models/model7_winsize10/assets\n"
     ]
    },
    {
     "name": "stdout",
     "output_type": "stream",
     "text": [
      "125/125 [==============================] - 4s 30ms/step - loss: 0.5547 - root_mean_squared_error: 0.7448 - val_loss: 0.4038 - val_root_mean_squared_error: 0.6355\n",
      "Epoch 19/50\n",
      "125/125 [==============================] - 2s 16ms/step - loss: 0.5200 - root_mean_squared_error: 0.7211 - val_loss: 0.5809 - val_root_mean_squared_error: 0.7622\n",
      "Epoch 20/50\n",
      "125/125 [==============================] - ETA: 0s - loss: 0.4736 - root_mean_squared_error: 0.6882INFO:tensorflow:Assets written to: models/model7_winsize10/assets\n"
     ]
    },
    {
     "name": "stderr",
     "output_type": "stream",
     "text": [
      "INFO:tensorflow:Assets written to: models/model7_winsize10/assets\n"
     ]
    },
    {
     "name": "stdout",
     "output_type": "stream",
     "text": [
      "125/125 [==============================] - 4s 29ms/step - loss: 0.4736 - root_mean_squared_error: 0.6882 - val_loss: 0.3050 - val_root_mean_squared_error: 0.5523\n",
      "Epoch 21/50\n",
      "125/125 [==============================] - ETA: 0s - loss: 0.4252 - root_mean_squared_error: 0.6520INFO:tensorflow:Assets written to: models/model7_winsize10/assets\n"
     ]
    },
    {
     "name": "stderr",
     "output_type": "stream",
     "text": [
      "INFO:tensorflow:Assets written to: models/model7_winsize10/assets\n"
     ]
    },
    {
     "name": "stdout",
     "output_type": "stream",
     "text": [
      "125/125 [==============================] - 4s 29ms/step - loss: 0.4252 - root_mean_squared_error: 0.6520 - val_loss: 0.2999 - val_root_mean_squared_error: 0.5477\n",
      "Epoch 22/50\n",
      "125/125 [==============================] - 2s 16ms/step - loss: 0.4176 - root_mean_squared_error: 0.6462 - val_loss: 0.3963 - val_root_mean_squared_error: 0.6295\n",
      "Epoch 23/50\n",
      "125/125 [==============================] - 2s 16ms/step - loss: 0.3651 - root_mean_squared_error: 0.6043 - val_loss: 0.3028 - val_root_mean_squared_error: 0.5502\n",
      "Epoch 24/50\n",
      "125/125 [==============================] - ETA: 0s - loss: 0.3314 - root_mean_squared_error: 0.5757INFO:tensorflow:Assets written to: models/model7_winsize10/assets\n"
     ]
    },
    {
     "name": "stderr",
     "output_type": "stream",
     "text": [
      "INFO:tensorflow:Assets written to: models/model7_winsize10/assets\n"
     ]
    },
    {
     "name": "stdout",
     "output_type": "stream",
     "text": [
      "125/125 [==============================] - 4s 29ms/step - loss: 0.3314 - root_mean_squared_error: 0.5757 - val_loss: 0.2288 - val_root_mean_squared_error: 0.4783\n",
      "Epoch 25/50\n",
      "125/125 [==============================] - 2s 17ms/step - loss: 0.3139 - root_mean_squared_error: 0.5603 - val_loss: 0.2372 - val_root_mean_squared_error: 0.4870\n",
      "Epoch 26/50\n",
      "125/125 [==============================] - 2s 16ms/step - loss: 0.2722 - root_mean_squared_error: 0.5217 - val_loss: 0.3927 - val_root_mean_squared_error: 0.6267\n",
      "Epoch 27/50\n",
      "125/125 [==============================] - 2s 19ms/step - loss: 0.2597 - root_mean_squared_error: 0.5096 - val_loss: 0.2424 - val_root_mean_squared_error: 0.4924\n",
      "Epoch 28/50\n",
      "125/125 [==============================] - ETA: 0s - loss: 0.2405 - root_mean_squared_error: 0.4904INFO:tensorflow:Assets written to: models/model7_winsize10/assets\n"
     ]
    },
    {
     "name": "stderr",
     "output_type": "stream",
     "text": [
      "INFO:tensorflow:Assets written to: models/model7_winsize10/assets\n"
     ]
    },
    {
     "name": "stdout",
     "output_type": "stream",
     "text": [
      "125/125 [==============================] - 4s 30ms/step - loss: 0.2405 - root_mean_squared_error: 0.4904 - val_loss: 0.1535 - val_root_mean_squared_error: 0.3919\n",
      "Epoch 29/50\n",
      "125/125 [==============================] - ETA: 0s - loss: 0.2354 - root_mean_squared_error: 0.4852INFO:tensorflow:Assets written to: models/model7_winsize10/assets\n"
     ]
    },
    {
     "name": "stderr",
     "output_type": "stream",
     "text": [
      "INFO:tensorflow:Assets written to: models/model7_winsize10/assets\n"
     ]
    },
    {
     "name": "stdout",
     "output_type": "stream",
     "text": [
      "125/125 [==============================] - 4s 32ms/step - loss: 0.2354 - root_mean_squared_error: 0.4852 - val_loss: 0.1254 - val_root_mean_squared_error: 0.3542\n",
      "Epoch 30/50\n",
      "125/125 [==============================] - 2s 16ms/step - loss: 0.2106 - root_mean_squared_error: 0.4590 - val_loss: 0.1808 - val_root_mean_squared_error: 0.4252\n",
      "Epoch 31/50\n",
      "125/125 [==============================] - 2s 18ms/step - loss: 0.2253 - root_mean_squared_error: 0.4746 - val_loss: 0.2603 - val_root_mean_squared_error: 0.5102\n",
      "Epoch 32/50\n",
      "125/125 [==============================] - 2s 16ms/step - loss: 0.2023 - root_mean_squared_error: 0.4497 - val_loss: 0.1462 - val_root_mean_squared_error: 0.3824\n",
      "Epoch 33/50\n",
      "125/125 [==============================] - 2s 16ms/step - loss: 0.2109 - root_mean_squared_error: 0.4592 - val_loss: 0.1915 - val_root_mean_squared_error: 0.4376\n",
      "Epoch 34/50\n",
      "123/125 [============================>.] - ETA: 0s - loss: 0.1905 - root_mean_squared_error: 0.4365INFO:tensorflow:Assets written to: models/model7_winsize10/assets\n"
     ]
    },
    {
     "name": "stderr",
     "output_type": "stream",
     "text": [
      "INFO:tensorflow:Assets written to: models/model7_winsize10/assets\n"
     ]
    },
    {
     "name": "stdout",
     "output_type": "stream",
     "text": [
      "125/125 [==============================] - 4s 30ms/step - loss: 0.1904 - root_mean_squared_error: 0.4363 - val_loss: 0.1074 - val_root_mean_squared_error: 0.3277\n",
      "Epoch 35/50\n",
      "125/125 [==============================] - 2s 16ms/step - loss: 0.1716 - root_mean_squared_error: 0.4142 - val_loss: 0.2412 - val_root_mean_squared_error: 0.4911\n",
      "Epoch 36/50\n",
      "125/125 [==============================] - 2s 16ms/step - loss: 0.1683 - root_mean_squared_error: 0.4102 - val_loss: 0.1241 - val_root_mean_squared_error: 0.3523\n",
      "Epoch 37/50\n",
      "124/125 [============================>.] - ETA: 0s - loss: 0.1608 - root_mean_squared_error: 0.4010INFO:tensorflow:Assets written to: models/model7_winsize10/assets\n"
     ]
    },
    {
     "name": "stderr",
     "output_type": "stream",
     "text": [
      "INFO:tensorflow:Assets written to: models/model7_winsize10/assets\n"
     ]
    },
    {
     "name": "stdout",
     "output_type": "stream",
     "text": [
      "125/125 [==============================] - 4s 29ms/step - loss: 0.1607 - root_mean_squared_error: 0.4009 - val_loss: 0.0899 - val_root_mean_squared_error: 0.2998\n",
      "Epoch 38/50\n",
      "123/125 [============================>.] - ETA: 0s - loss: 0.1462 - root_mean_squared_error: 0.3824INFO:tensorflow:Assets written to: models/model7_winsize10/assets\n"
     ]
    },
    {
     "name": "stderr",
     "output_type": "stream",
     "text": [
      "INFO:tensorflow:Assets written to: models/model7_winsize10/assets\n"
     ]
    },
    {
     "name": "stdout",
     "output_type": "stream",
     "text": [
      "125/125 [==============================] - 4s 30ms/step - loss: 0.1459 - root_mean_squared_error: 0.3820 - val_loss: 0.0730 - val_root_mean_squared_error: 0.2701\n",
      "Epoch 39/50\n",
      "125/125 [==============================] - 2s 16ms/step - loss: 0.1536 - root_mean_squared_error: 0.3919 - val_loss: 0.1869 - val_root_mean_squared_error: 0.4323\n",
      "Epoch 40/50\n",
      "125/125 [==============================] - 2s 16ms/step - loss: 0.1438 - root_mean_squared_error: 0.3792 - val_loss: 0.1836 - val_root_mean_squared_error: 0.4285\n",
      "Epoch 41/50\n",
      "125/125 [==============================] - 2s 16ms/step - loss: 0.1392 - root_mean_squared_error: 0.3731 - val_loss: 0.0953 - val_root_mean_squared_error: 0.3086\n",
      "Epoch 42/50\n",
      "125/125 [==============================] - ETA: 0s - loss: 0.1506 - root_mean_squared_error: 0.3880INFO:tensorflow:Assets written to: models/model7_winsize10/assets\n"
     ]
    },
    {
     "name": "stderr",
     "output_type": "stream",
     "text": [
      "INFO:tensorflow:Assets written to: models/model7_winsize10/assets\n"
     ]
    },
    {
     "name": "stdout",
     "output_type": "stream",
     "text": [
      "125/125 [==============================] - 4s 29ms/step - loss: 0.1506 - root_mean_squared_error: 0.3880 - val_loss: 0.0629 - val_root_mean_squared_error: 0.2509\n",
      "Epoch 43/50\n",
      "125/125 [==============================] - 2s 16ms/step - loss: 0.1468 - root_mean_squared_error: 0.3832 - val_loss: 0.1217 - val_root_mean_squared_error: 0.3488\n",
      "Epoch 44/50\n",
      "125/125 [==============================] - 2s 16ms/step - loss: 0.1361 - root_mean_squared_error: 0.3690 - val_loss: 0.1429 - val_root_mean_squared_error: 0.3780\n",
      "Epoch 45/50\n",
      "125/125 [==============================] - 2s 16ms/step - loss: 0.1464 - root_mean_squared_error: 0.3826 - val_loss: 0.0978 - val_root_mean_squared_error: 0.3127\n",
      "Epoch 46/50\n",
      "125/125 [==============================] - 2s 16ms/step - loss: 0.1343 - root_mean_squared_error: 0.3665 - val_loss: 0.0729 - val_root_mean_squared_error: 0.2701\n",
      "Epoch 47/50\n",
      "125/125 [==============================] - 2s 16ms/step - loss: 0.1265 - root_mean_squared_error: 0.3557 - val_loss: 0.0968 - val_root_mean_squared_error: 0.3112\n",
      "Epoch 48/50\n",
      "124/125 [============================>.] - ETA: 0s - loss: 0.1208 - root_mean_squared_error: 0.3475INFO:tensorflow:Assets written to: models/model7_winsize10/assets\n"
     ]
    },
    {
     "name": "stderr",
     "output_type": "stream",
     "text": [
      "INFO:tensorflow:Assets written to: models/model7_winsize10/assets\n"
     ]
    },
    {
     "name": "stdout",
     "output_type": "stream",
     "text": [
      "125/125 [==============================] - 4s 29ms/step - loss: 0.1208 - root_mean_squared_error: 0.3475 - val_loss: 0.0592 - val_root_mean_squared_error: 0.2432\n",
      "Epoch 49/50\n",
      "125/125 [==============================] - ETA: 0s - loss: 0.1273 - root_mean_squared_error: 0.3567INFO:tensorflow:Assets written to: models/model7_winsize10/assets\n"
     ]
    },
    {
     "name": "stderr",
     "output_type": "stream",
     "text": [
      "INFO:tensorflow:Assets written to: models/model7_winsize10/assets\n"
     ]
    },
    {
     "name": "stdout",
     "output_type": "stream",
     "text": [
      "125/125 [==============================] - 4s 29ms/step - loss: 0.1273 - root_mean_squared_error: 0.3567 - val_loss: 0.0489 - val_root_mean_squared_error: 0.2212\n",
      "Epoch 50/50\n",
      "125/125 [==============================] - 2s 16ms/step - loss: 0.1252 - root_mean_squared_error: 0.3538 - val_loss: 0.0504 - val_root_mean_squared_error: 0.2245\n"
     ]
    }
   ],
   "source": [
    "# Train the model\n",
    "Model7 = model7.fit(X3_train, y3_train, validation_data=(X3_val, y3_val), epochs=50, callbacks=[cp7])"
   ]
  },
  {
   "cell_type": "code",
   "execution_count": 93,
   "id": "49ed86f1",
   "metadata": {},
   "outputs": [
    {
     "data": {
      "image/png": "[encoded data removed]",
      "text/plain": [
       "<Figure size 800x800 with 1 Axes>"
      ]
     },
     "metadata": {},
     "output_type": "display_data"
    },
    {
     "data": {
      "image/png": "[encoded data removed]",
      "text/plain": [
       "<Figure size 640x480 with 1 Axes>"
      ]
     },
     "metadata": {},
     "output_type": "display_data"
    }
   ],
   "source": [
    "pltGraph(Model7)"
   ]
  },
  {
   "cell_type": "code",
   "execution_count": 94,
   "id": "38d1dbb9",
   "metadata": {},
   "outputs": [
    {
     "name": "stdout",
     "output_type": "stream",
     "text": [
      "13/13 [==============================] - 1s 14ms/step\n"
     ]
    },
    {
     "data": {
      "image/png": "[encoded data removed]",
      "text/plain": [
       "<Figure size 640x480 with 1 Axes>"
      ]
     },
     "metadata": {},
     "output_type": "display_data"
    },
    {
     "name": "stdout",
     "output_type": "stream",
     "text": [
      "MAPE: 135.88878890846036\n",
      "MSE for Predictions: 0.09372602693424811\n",
      "MAE:  0.22238433\n"
     ]
    }
   ],
   "source": [
    "plot_predictions2(model7, X3_test, y3_test)"
   ]
  },
  {
   "cell_type": "code",
   "execution_count": 96,
   "id": "07b7f9b7",
   "metadata": {},
   "outputs": [
    {
     "name": "stdout",
     "output_type": "stream",
     "text": [
      "Model: \"sequential_5\"\n",
      "_________________________________________________________________\n",
      " Layer (type)                Output Shape              Param #   \n",
      "=================================================================\n",
      " gru_1 (GRU)                 (None, 64)                15168     \n",
      "                                                                 \n",
      " dense_10 (Dense)            (None, 8)                 520       \n",
      "                                                                 \n",
      " dense_11 (Dense)            (None, 1)                 9         \n",
      "                                                                 \n",
      "=================================================================\n",
      "Total params: 15697 (61.32 KB)\n",
      "Trainable params: 15697 (61.32 KB)\n",
      "Non-trainable params: 0 (0.00 Byte)\n",
      "_________________________________________________________________\n"
     ]
    }
   ],
   "source": [
    "model3 = Sequential()\n",
    "model3.add(InputLayer((7, 13)))\n",
    "model3.add(GRU(64))\n",
    "model3.add(Dense(8, 'relu'))\n",
    "model3.add(Dense(1, 'linear'))\n",
    "model3.summary()"
   ]
  },
  {
   "cell_type": "code",
   "execution_count": 97,
   "id": "7eb428f2",
   "metadata": {
    "scrolled": false
   },
   "outputs": [
    {
     "name": "stderr",
     "output_type": "stream",
     "text": [
      "WARNING:absl:At this time, the v2.11+ optimizer `tf.keras.optimizers.Adam` runs slowly on M1/M2 Macs, please use the legacy Keras optimizer instead, located at `tf.keras.optimizers.legacy.Adam`.\n"
     ]
    },
    {
     "name": "stdout",
     "output_type": "stream",
     "text": [
      "Epoch 1/50\n"
     ]
    },
    {
     "name": "stderr",
     "output_type": "stream",
     "text": [
      "2024-03-24 01:14:35.754167: E tensorflow/core/grappler/optimizers/meta_optimizer.cc:961] model_pruner failed: INVALID_ARGUMENT: Graph does not contain terminal node Adam/AssignAddVariableOp.\n"
     ]
    },
    {
     "name": "stdout",
     "output_type": "stream",
     "text": [
      "125/125 [==============================] - ETA: 0s - loss: 1.1176 - root_mean_squared_error: 1.0572INFO:tensorflow:Assets written to: model3/assets\n"
     ]
    },
    {
     "name": "stderr",
     "output_type": "stream",
     "text": [
      "INFO:tensorflow:Assets written to: model3/assets\n"
     ]
    },
    {
     "name": "stdout",
     "output_type": "stream",
     "text": [
      "125/125 [==============================] - 4s 21ms/step - loss: 1.1176 - root_mean_squared_error: 1.0572 - val_loss: 0.9031 - val_root_mean_squared_error: 0.9503\n",
      "Epoch 2/50\n",
      "125/125 [==============================] - ETA: 0s - loss: 1.0883 - root_mean_squared_error: 1.0432INFO:tensorflow:Assets written to: model3/assets\n"
     ]
    },
    {
     "name": "stderr",
     "output_type": "stream",
     "text": [
      "INFO:tensorflow:Assets written to: model3/assets\n"
     ]
    },
    {
     "name": "stdout",
     "output_type": "stream",
     "text": [
      "125/125 [==============================] - 2s 16ms/step - loss: 1.0883 - root_mean_squared_error: 1.0432 - val_loss: 0.8566 - val_root_mean_squared_error: 0.9255\n",
      "Epoch 3/50\n",
      "125/125 [==============================] - 1s 9ms/step - loss: 1.0803 - root_mean_squared_error: 1.0394 - val_loss: 0.8587 - val_root_mean_squared_error: 0.9267\n",
      "Epoch 4/50\n",
      "125/125 [==============================] - 1s 9ms/step - loss: 1.0768 - root_mean_squared_error: 1.0377 - val_loss: 0.8638 - val_root_mean_squared_error: 0.9294\n",
      "Epoch 5/50\n",
      "125/125 [==============================] - 1s 10ms/step - loss: 1.0739 - root_mean_squared_error: 1.0363 - val_loss: 0.8610 - val_root_mean_squared_error: 0.9279\n",
      "Epoch 6/50\n",
      "125/125 [==============================] - 1s 9ms/step - loss: 1.0723 - root_mean_squared_error: 1.0355 - val_loss: 0.8582 - val_root_mean_squared_error: 0.9264\n",
      "Epoch 7/50\n",
      "125/125 [==============================] - 1s 10ms/step - loss: 1.0718 - root_mean_squared_error: 1.0353 - val_loss: 0.8668 - val_root_mean_squared_error: 0.9310\n",
      "Epoch 8/50\n",
      "125/125 [==============================] - 1s 10ms/step - loss: 1.0711 - root_mean_squared_error: 1.0349 - val_loss: 0.8609 - val_root_mean_squared_error: 0.9278\n",
      "Epoch 9/50\n",
      "125/125 [==============================] - 1s 9ms/step - loss: 1.0714 - root_mean_squared_error: 1.0351 - val_loss: 0.8660 - val_root_mean_squared_error: 0.9306\n",
      "Epoch 10/50\n",
      "125/125 [==============================] - 1s 9ms/step - loss: 1.0708 - root_mean_squared_error: 1.0348 - val_loss: 0.8650 - val_root_mean_squared_error: 0.9301\n",
      "Epoch 11/50\n",
      "125/125 [==============================] - 1s 9ms/step - loss: 1.0692 - root_mean_squared_error: 1.0340 - val_loss: 0.8671 - val_root_mean_squared_error: 0.9312\n",
      "Epoch 12/50\n",
      "125/125 [==============================] - 1s 9ms/step - loss: 1.0674 - root_mean_squared_error: 1.0332 - val_loss: 0.8583 - val_root_mean_squared_error: 0.9264\n",
      "Epoch 13/50\n",
      "123/125 [============================>.] - ETA: 0s - loss: 1.0651 - root_mean_squared_error: 1.0321INFO:tensorflow:Assets written to: model3/assets\n"
     ]
    },
    {
     "name": "stderr",
     "output_type": "stream",
     "text": [
      "INFO:tensorflow:Assets written to: model3/assets\n"
     ]
    },
    {
     "name": "stdout",
     "output_type": "stream",
     "text": [
      "125/125 [==============================] - 2s 19ms/step - loss: 1.0650 - root_mean_squared_error: 1.0320 - val_loss: 0.8560 - val_root_mean_squared_error: 0.9252\n",
      "Epoch 14/50\n",
      "125/125 [==============================] - 1s 10ms/step - loss: 1.0651 - root_mean_squared_error: 1.0320 - val_loss: 0.8669 - val_root_mean_squared_error: 0.9311\n",
      "Epoch 15/50\n",
      "125/125 [==============================] - 1s 10ms/step - loss: 1.0717 - root_mean_squared_error: 1.0352 - val_loss: 0.8852 - val_root_mean_squared_error: 0.9409\n",
      "Epoch 16/50\n",
      "125/125 [==============================] - 1s 9ms/step - loss: 1.0936 - root_mean_squared_error: 1.0458 - val_loss: 0.9036 - val_root_mean_squared_error: 0.9506\n",
      "Epoch 17/50\n",
      "125/125 [==============================] - ETA: 0s - loss: 1.1514 - root_mean_squared_error: 1.0730INFO:tensorflow:Assets written to: model3/assets\n"
     ]
    },
    {
     "name": "stderr",
     "output_type": "stream",
     "text": [
      "INFO:tensorflow:Assets written to: model3/assets\n"
     ]
    },
    {
     "name": "stdout",
     "output_type": "stream",
     "text": [
      "125/125 [==============================] - 2s 16ms/step - loss: 1.1514 - root_mean_squared_error: 1.0730 - val_loss: 0.7690 - val_root_mean_squared_error: 0.8769\n",
      "Epoch 18/50\n",
      "125/125 [==============================] - 1s 10ms/step - loss: 1.2640 - root_mean_squared_error: 1.1243 - val_loss: 0.9243 - val_root_mean_squared_error: 0.9614\n",
      "Epoch 19/50\n",
      "125/125 [==============================] - 1s 10ms/step - loss: 1.2110 - root_mean_squared_error: 1.1005 - val_loss: 0.9055 - val_root_mean_squared_error: 0.9516\n",
      "Epoch 20/50\n",
      "125/125 [==============================] - 1s 9ms/step - loss: 1.1811 - root_mean_squared_error: 1.0868 - val_loss: 0.9213 - val_root_mean_squared_error: 0.9598\n",
      "Epoch 21/50\n",
      "125/125 [==============================] - 1s 10ms/step - loss: 1.1555 - root_mean_squared_error: 1.0749 - val_loss: 0.9285 - val_root_mean_squared_error: 0.9636\n",
      "Epoch 22/50\n",
      "125/125 [==============================] - 1s 9ms/step - loss: 1.1318 - root_mean_squared_error: 1.0639 - val_loss: 0.9324 - val_root_mean_squared_error: 0.9656\n",
      "Epoch 23/50\n",
      "125/125 [==============================] - 1s 9ms/step - loss: 1.1109 - root_mean_squared_error: 1.0540 - val_loss: 0.9438 - val_root_mean_squared_error: 0.9715\n",
      "Epoch 24/50\n",
      "125/125 [==============================] - 1s 9ms/step - loss: 1.0941 - root_mean_squared_error: 1.0460 - val_loss: 0.9365 - val_root_mean_squared_error: 0.9677\n",
      "Epoch 25/50\n",
      "125/125 [==============================] - 1s 9ms/step - loss: 1.0739 - root_mean_squared_error: 1.0363 - val_loss: 0.8923 - val_root_mean_squared_error: 0.9446\n",
      "Epoch 26/50\n",
      "125/125 [==============================] - 1s 9ms/step - loss: 1.0523 - root_mean_squared_error: 1.0258 - val_loss: 0.8800 - val_root_mean_squared_error: 0.9381\n",
      "Epoch 27/50\n",
      "125/125 [==============================] - 1s 10ms/step - loss: 1.0341 - root_mean_squared_error: 1.0169 - val_loss: 0.8832 - val_root_mean_squared_error: 0.9398\n",
      "Epoch 28/50\n",
      "125/125 [==============================] - 1s 9ms/step - loss: 1.0207 - root_mean_squared_error: 1.0103 - val_loss: 0.8718 - val_root_mean_squared_error: 0.9337\n",
      "Epoch 29/50\n",
      "125/125 [==============================] - 1s 10ms/step - loss: 1.0080 - root_mean_squared_error: 1.0040 - val_loss: 0.8483 - val_root_mean_squared_error: 0.9210\n",
      "Epoch 30/50\n",
      "125/125 [==============================] - 1s 11ms/step - loss: 1.0005 - root_mean_squared_error: 1.0002 - val_loss: 0.8453 - val_root_mean_squared_error: 0.9194\n",
      "Epoch 31/50\n",
      "125/125 [==============================] - 1s 10ms/step - loss: 0.9950 - root_mean_squared_error: 0.9975 - val_loss: 0.8233 - val_root_mean_squared_error: 0.9073\n",
      "Epoch 32/50\n",
      "125/125 [==============================] - 1s 11ms/step - loss: 0.9816 - root_mean_squared_error: 0.9907 - val_loss: 0.8276 - val_root_mean_squared_error: 0.9097\n",
      "Epoch 33/50\n",
      "125/125 [==============================] - 1s 11ms/step - loss: 0.9679 - root_mean_squared_error: 0.9838 - val_loss: 0.8158 - val_root_mean_squared_error: 0.9032\n",
      "Epoch 34/50\n",
      "125/125 [==============================] - 1s 10ms/step - loss: 0.9531 - root_mean_squared_error: 0.9763 - val_loss: 0.8239 - val_root_mean_squared_error: 0.9077\n",
      "Epoch 35/50\n",
      "125/125 [==============================] - 1s 9ms/step - loss: 0.9374 - root_mean_squared_error: 0.9682 - val_loss: 0.8104 - val_root_mean_squared_error: 0.9002\n",
      "Epoch 36/50\n",
      "121/125 [============================>.] - ETA: 0s - loss: 0.9236 - root_mean_squared_error: 0.9610INFO:tensorflow:Assets written to: model3/assets\n"
     ]
    },
    {
     "name": "stderr",
     "output_type": "stream",
     "text": [
      "INFO:tensorflow:Assets written to: model3/assets\n"
     ]
    },
    {
     "name": "stdout",
     "output_type": "stream",
     "text": [
      "125/125 [==============================] - 2s 16ms/step - loss: 0.9231 - root_mean_squared_error: 0.9608 - val_loss: 0.7648 - val_root_mean_squared_error: 0.8745\n",
      "Epoch 37/50\n",
      "125/125 [==============================] - 1s 10ms/step - loss: 0.9067 - root_mean_squared_error: 0.9522 - val_loss: 0.7940 - val_root_mean_squared_error: 0.8910\n",
      "Epoch 38/50\n",
      "121/125 [============================>.] - ETA: 0s - loss: 0.8863 - root_mean_squared_error: 0.9414INFO:tensorflow:Assets written to: model3/assets\n"
     ]
    },
    {
     "name": "stderr",
     "output_type": "stream",
     "text": [
      "INFO:tensorflow:Assets written to: model3/assets\n"
     ]
    },
    {
     "name": "stdout",
     "output_type": "stream",
     "text": [
      "125/125 [==============================] - 2s 16ms/step - loss: 0.8883 - root_mean_squared_error: 0.9425 - val_loss: 0.7403 - val_root_mean_squared_error: 0.8604\n",
      "Epoch 39/50\n",
      "125/125 [==============================] - 1s 10ms/step - loss: 0.8708 - root_mean_squared_error: 0.9332 - val_loss: 0.7538 - val_root_mean_squared_error: 0.8682\n",
      "Epoch 40/50\n",
      "124/125 [============================>.] - ETA: 0s - loss: 0.8479 - root_mean_squared_error: 0.9208INFO:tensorflow:Assets written to: model3/assets\n"
     ]
    },
    {
     "name": "stderr",
     "output_type": "stream",
     "text": [
      "INFO:tensorflow:Assets written to: model3/assets\n"
     ]
    },
    {
     "name": "stdout",
     "output_type": "stream",
     "text": [
      "125/125 [==============================] - 2s 18ms/step - loss: 0.8481 - root_mean_squared_error: 0.9210 - val_loss: 0.7043 - val_root_mean_squared_error: 0.8392\n",
      "Epoch 41/50\n",
      "125/125 [==============================] - ETA: 0s - loss: 0.8097 - root_mean_squared_error: 0.8999INFO:tensorflow:Assets written to: model3/assets\n"
     ]
    },
    {
     "name": "stderr",
     "output_type": "stream",
     "text": [
      "INFO:tensorflow:Assets written to: model3/assets\n"
     ]
    },
    {
     "name": "stdout",
     "output_type": "stream",
     "text": [
      "125/125 [==============================] - 2s 20ms/step - loss: 0.8097 - root_mean_squared_error: 0.8999 - val_loss: 0.6836 - val_root_mean_squared_error: 0.8268\n",
      "Epoch 42/50\n",
      "123/125 [============================>.] - ETA: 0s - loss: 0.7305 - root_mean_squared_error: 0.8547INFO:tensorflow:Assets written to: model3/assets\n"
     ]
    },
    {
     "name": "stderr",
     "output_type": "stream",
     "text": [
      "INFO:tensorflow:Assets written to: model3/assets\n"
     ]
    },
    {
     "name": "stdout",
     "output_type": "stream",
     "text": [
      "125/125 [==============================] - 2s 16ms/step - loss: 0.7287 - root_mean_squared_error: 0.8536 - val_loss: 0.5774 - val_root_mean_squared_error: 0.7599\n",
      "Epoch 43/50\n",
      "122/125 [============================>.] - ETA: 0s - loss: 0.6670 - root_mean_squared_error: 0.8167INFO:tensorflow:Assets written to: model3/assets\n"
     ]
    },
    {
     "name": "stderr",
     "output_type": "stream",
     "text": [
      "INFO:tensorflow:Assets written to: model3/assets\n"
     ]
    },
    {
     "name": "stdout",
     "output_type": "stream",
     "text": [
      "125/125 [==============================] - 2s 19ms/step - loss: 0.6660 - root_mean_squared_error: 0.8161 - val_loss: 0.5436 - val_root_mean_squared_error: 0.7373\n",
      "Epoch 44/50\n",
      "123/125 [============================>.] - ETA: 0s - loss: 0.6204 - root_mean_squared_error: 0.7877INFO:tensorflow:Assets written to: model3/assets\n"
     ]
    },
    {
     "name": "stderr",
     "output_type": "stream",
     "text": [
      "INFO:tensorflow:Assets written to: model3/assets\n"
     ]
    },
    {
     "name": "stdout",
     "output_type": "stream",
     "text": [
      "125/125 [==============================] - 2s 17ms/step - loss: 0.6203 - root_mean_squared_error: 0.7876 - val_loss: 0.5104 - val_root_mean_squared_error: 0.7145\n",
      "Epoch 45/50\n",
      "123/125 [============================>.] - ETA: 0s - loss: 0.5826 - root_mean_squared_error: 0.7633INFO:tensorflow:Assets written to: model3/assets\n"
     ]
    },
    {
     "name": "stderr",
     "output_type": "stream",
     "text": [
      "INFO:tensorflow:Assets written to: model3/assets\n"
     ]
    },
    {
     "name": "stdout",
     "output_type": "stream",
     "text": [
      "125/125 [==============================] - 2s 16ms/step - loss: 0.5831 - root_mean_squared_error: 0.7636 - val_loss: 0.4861 - val_root_mean_squared_error: 0.6972\n",
      "Epoch 46/50\n",
      "120/125 [===========================>..] - ETA: 0s - loss: 0.5441 - root_mean_squared_error: 0.7376INFO:tensorflow:Assets written to: model3/assets\n"
     ]
    },
    {
     "name": "stderr",
     "output_type": "stream",
     "text": [
      "INFO:tensorflow:Assets written to: model3/assets\n"
     ]
    },
    {
     "name": "stdout",
     "output_type": "stream",
     "text": [
      "125/125 [==============================] - 2s 19ms/step - loss: 0.5469 - root_mean_squared_error: 0.7395 - val_loss: 0.4606 - val_root_mean_squared_error: 0.6786\n",
      "Epoch 47/50\n",
      "122/125 [============================>.] - ETA: 0s - loss: 0.5143 - root_mean_squared_error: 0.7171INFO:tensorflow:Assets written to: model3/assets\n"
     ]
    },
    {
     "name": "stderr",
     "output_type": "stream",
     "text": [
      "INFO:tensorflow:Assets written to: model3/assets\n"
     ]
    },
    {
     "name": "stdout",
     "output_type": "stream",
     "text": [
      "125/125 [==============================] - 2s 16ms/step - loss: 0.5146 - root_mean_squared_error: 0.7174 - val_loss: 0.4405 - val_root_mean_squared_error: 0.6637\n",
      "Epoch 48/50\n",
      "124/125 [============================>.] - ETA: 0s - loss: 0.4842 - root_mean_squared_error: 0.6958INFO:tensorflow:Assets written to: model3/assets\n"
     ]
    },
    {
     "name": "stderr",
     "output_type": "stream",
     "text": [
      "INFO:tensorflow:Assets written to: model3/assets\n"
     ]
    },
    {
     "name": "stdout",
     "output_type": "stream",
     "text": [
      "125/125 [==============================] - 2s 17ms/step - loss: 0.4841 - root_mean_squared_error: 0.6958 - val_loss: 0.3937 - val_root_mean_squared_error: 0.6275\n",
      "Epoch 49/50\n",
      "125/125 [==============================] - ETA: 0s - loss: 0.4524 - root_mean_squared_error: 0.6726INFO:tensorflow:Assets written to: model3/assets\n"
     ]
    },
    {
     "name": "stderr",
     "output_type": "stream",
     "text": [
      "INFO:tensorflow:Assets written to: model3/assets\n"
     ]
    },
    {
     "name": "stdout",
     "output_type": "stream",
     "text": [
      "125/125 [==============================] - 2s 17ms/step - loss: 0.4524 - root_mean_squared_error: 0.6726 - val_loss: 0.3764 - val_root_mean_squared_error: 0.6135\n",
      "Epoch 50/50\n",
      "121/125 [============================>.] - ETA: 0s - loss: 0.4251 - root_mean_squared_error: 0.6520INFO:tensorflow:Assets written to: model3/assets\n"
     ]
    },
    {
     "name": "stderr",
     "output_type": "stream",
     "text": [
      "INFO:tensorflow:Assets written to: model3/assets\n"
     ]
    },
    {
     "name": "stdout",
     "output_type": "stream",
     "text": [
      "\b\b\b\b\b\b\b\b\b\b\b\b\b\b\b\b\b\b\b\b\b\b\b\b\b\b\b\b\b\b\b\b\b\b\b\b\b\b\b\b\b\b\b\b\b\b\b\b\b\b\b\b\b\b\b\b\b\b\b\b\b\b\b\b\b\b\b\b\b\b\b\b\b\b\b\b\b\b\b\b\b\b\b\b\b\b\b\b\b\b\b\b\b\b\b\b\b\b\b\r",
      "125/125 [==============================] - 2s 19ms/step - loss: 0.4256 - root_mean_squared_error: 0.6524 - val_loss: 0.3422 - val_root_mean_squared_error: 0.5850\n"
     ]
    },
    {
     "data": {
      "text/plain": [
       "<keras.src.callbacks.History at 0x2c897c390>"
      ]
     },
     "execution_count": 97,
     "metadata": {},
     "output_type": "execute_result"
    }
   ],
   "source": [
    "cp3 = ModelCheckpoint('model3/', save_best_only=True)\n",
    "model3.compile(loss=MeanSquaredError(), optimizer=Adam(learning_rate=0.0001), metrics=[RootMeanSquaredError()])\n",
    "\n",
    "model3.fit(X3_train, y3_train, validation_data=(X3_val, y3_val), epochs=50, callbacks=[cp3])"
   ]
  },
  {
   "cell_type": "code",
   "execution_count": 98,
   "id": "5ebdf081",
   "metadata": {},
   "outputs": [
    {
     "ename": "TypeError",
     "evalue": "'History' object is not subscriptable",
     "output_type": "error",
     "traceback": [
      "\u001b[0;31m---------------------------------------------------------------------------\u001b[0m",
      "\u001b[0;31mTypeError\u001b[0m                                 Traceback (most recent call last)",
      "Cell \u001b[0;32mIn[98], line 1\u001b[0m\n\u001b[0;32m----> 1\u001b[0m pltGraph(model3)\n",
      "Cell \u001b[0;32mIn[87], line 2\u001b[0m, in \u001b[0;36mpltGraph\u001b[0;34m(Model)\u001b[0m\n\u001b[1;32m      1\u001b[0m \u001b[38;5;28;01mdef\u001b[39;00m \u001b[38;5;21mpltGraph\u001b[39m(Model):\n\u001b[0;32m----> 2\u001b[0m     RootMeanSquaredError \u001b[38;5;241m=\u001b[39m Model\u001b[38;5;241m.\u001b[39mhistory[\u001b[38;5;124m'\u001b[39m\u001b[38;5;124mroot_mean_squared_error\u001b[39m\u001b[38;5;124m'\u001b[39m]\n\u001b[1;32m      3\u001b[0m     val_RootMeanSquaredError \u001b[38;5;241m=\u001b[39m Model\u001b[38;5;241m.\u001b[39mhistory[\u001b[38;5;124m'\u001b[39m\u001b[38;5;124mval_root_mean_squared_error\u001b[39m\u001b[38;5;124m'\u001b[39m]\n\u001b[1;32m      4\u001b[0m     loss \u001b[38;5;241m=\u001b[39m Model\u001b[38;5;241m.\u001b[39mhistory[\u001b[38;5;124m'\u001b[39m\u001b[38;5;124mloss\u001b[39m\u001b[38;5;124m'\u001b[39m] \n",
      "\u001b[0;31mTypeError\u001b[0m: 'History' object is not subscriptable"
     ]
    }
   ],
   "source": [
    "pltGraph(model3)"
   ]
  },
  {
   "cell_type": "code",
   "execution_count": 99,
   "id": "98c5d46c",
   "metadata": {},
   "outputs": [
    {
     "name": "stdout",
     "output_type": "stream",
     "text": [
      "13/13 [==============================] - 0s 4ms/step\n"
     ]
    },
    {
     "data": {
      "image/png": "[encoded data removed]",
      "text/plain": [
       "<Figure size 640x480 with 1 Axes>"
      ]
     },
     "metadata": {},
     "output_type": "display_data"
    },
    {
     "name": "stdout",
     "output_type": "stream",
     "text": [
      "MSE for Predictions: 0.3467514614064901\n"
     ]
    }
   ],
   "source": [
    "plot_predictions2(model3, X3_test, y3_test)"
   ]
  },
  {
   "cell_type": "code",
   "execution_count": null,
   "id": "2ab7dfd4",
   "metadata": {},
   "outputs": [],
   "source": [
    "class AttentionLayer(tf.keras.layers.Layer):\n",
    "    def __init__(self, **kwargs):\n",
    "        super(AttentionLayer, self).__init__(**kwargs)\n",
    "\n",
    "    def build(self, input_shape):\n",
    "        self.WQ = self.add_weight(name=\"WQ\", shape=(input_shape[-1], input_shape[-1]), initializer=\"glorot_uniform\", trainable=True)\n",
    "        self.WK = self.add_weight(name=\"WK\", shape=(input_shape[-1], input_shape[-1]), initializer=\"glorot_uniform\", trainable=True)\n",
    "        self.WV = self.add_weight(name=\"WV\", shape=(input_shape[-1], input_shape[-1]), initializer=\"glorot_uniform\", trainable=True)\n",
    "        super(AttentionLayer, self).build(input_shape)\n",
    "\n",
    "    def call(self, inputs, **kwargs):\n",
    "        Q = tf.matmul(inputs, self.WQ)\n",
    "        K = tf.matmul(inputs, self.WK)\n",
    "        V = tf.matmul(inputs, self.WV)\n",
    "        attention_weights = tf.nn.softmax(tf.matmul(Q, K, transpose_b=True) / tf.math.sqrt(tf.cast(tf.shape(K)[-1], tf.float32)), axis=-1)\n",
    "        output = tf.matmul(attention_weights, V)\n",
    "        return output"
   ]
  },
  {
   "cell_type": "code",
   "execution_count": null,
   "id": "d316b5bd",
   "metadata": {},
   "outputs": [],
   "source": [
    "input_shape = (7,17)  # Replace input_dim with your input sequence length\n",
    "\n",
    "# Create the Sequential model\n",
    "model8 = Sequential()\n",
    "model8.add(InputLayer((7, 17)))\n",
    "# Add the convolutional layers\n",
    "model8.add(Conv1D(filters=32, kernel_size=3, padding='same', activation='relu', input_shape=input_shape))\n",
    "model8.add(Conv1D(filters=64, kernel_size=3, padding='same', activation='relu'))\n",
    "\n",
    "# Add the max pooling layer\n",
    "model8.add(MaxPooling1D(pool_size=2))\n",
    "\n",
    "# Add the LSTM layer\n",
    "model8.add(LSTM(units=64, return_sequences=False))\n",
    "model8.add(AttentionLayer())\n",
    "\n",
    "model8.add(BatchNormalization())\n",
    "model8.add(Dropout(0.5))\n",
    "\n",
    "model8.add(Dense(units=8, activation='relu'))\n",
    "\n",
    "model8.add(BatchNormalization())\n",
    "model8.add(Dropout(0.5))\n",
    "model8.add(Dense(units=2, activation='linear'))  # Replace output_dim with your desired output dimensionality\n",
    "\n",
    "model8.summary()"
   ]
  },
  {
   "cell_type": "code",
   "execution_count": null,
   "id": "f68a2916",
   "metadata": {},
   "outputs": [],
   "source": [
    "cp8 = ModelCheckpoint('model8/', save_best_only=True)\n",
    "model8.compile(loss=MeanSquaredError(), optimizer=tf.keras.optimizers.legacy.Adam(learning_rate=0.0001), metrics=[RootMeanSquaredError()])"
   ]
  },
  {
   "cell_type": "code",
   "execution_count": null,
   "id": "1f794a28",
   "metadata": {},
   "outputs": [],
   "source": [
    "Model8 = model8.fit(X3_train, y3_train, validation_data=(X3_val, y3_val), epochs=50, callbacks=[cp8])"
   ]
  },
  {
   "cell_type": "code",
   "execution_count": null,
   "id": "20d4ff7e",
   "metadata": {},
   "outputs": [],
   "source": [
    "pltGraph(Model8)"
   ]
  },
  {
   "cell_type": "code",
   "execution_count": null,
   "id": "49e1ba7e",
   "metadata": {},
   "outputs": [],
   "source": [
    "plot_predictions2(model8, X3_test, y3_test)"
   ]
  },
  {
   "cell_type": "markdown",
   "id": "81c09286",
   "metadata": {},
   "source": [
    "# Model 9"
   ]
  },
  {
   "cell_type": "code",
   "execution_count": null,
   "id": "ba38225e",
   "metadata": {},
   "outputs": [],
   "source": [
    "input_shape = (7,17)  # Replace input_dim with your input sequence length\n",
    "\n",
    "# Create the Sequential model\n",
    "model9 = Sequential()\n",
    "model9.add(InputLayer((7, 17)))\n",
    "# Add the convolutional layers\n",
    "model9.add(Conv1D(filters=32, kernel_size=7, padding='same', activation='relu', input_shape=input_shape))\n",
    "\n",
    "# Add the LSTM layer\n",
    "model9.add(LSTM(units=64, return_sequences=False))\n",
    "model9.add(AttentionLayer())\n",
    "\n",
    "model9.add(BatchNormalization())\n",
    "model9.add(Dropout(0.5))\n",
    "\n",
    "model9.add(Dense(units=8, activation='relu'))\n",
    "\n",
    "model9.add(BatchNormalization())\n",
    "model9.add(Dropout(0.5))\n",
    "model9.add(Dense(units=2, activation='linear'))  # Replace output_dim with your desired output dimensionality\n",
    "\n",
    "model9.summary()"
   ]
  },
  {
   "cell_type": "code",
   "execution_count": null,
   "id": "aee51da0",
   "metadata": {},
   "outputs": [],
   "source": [
    "from tensorflow.keras.losses import MeanSquaredError\n",
    "from tensorflow.keras.metrics import RootMeanSquaredError\n",
    "\n",
    "cp9 = ModelCheckpoint('model9/', save_best_only=True)\n",
    "model9.compile(loss=MeanSquaredError(), optimizer=tf.keras.optimizers.legacy.Adam(learning_rate=0.0001), metrics=[RootMeanSquaredError()])"
   ]
  },
  {
   "cell_type": "code",
   "execution_count": null,
   "id": "b31056fc",
   "metadata": {},
   "outputs": [],
   "source": [
    "Model9 = model9.fit(X3_train, y3_train, validation_data=(X3_val, y3_val), epochs=50, callbacks=[cp9])"
   ]
  },
  {
   "cell_type": "code",
   "execution_count": null,
   "id": "429d1e11",
   "metadata": {},
   "outputs": [],
   "source": [
    "pltGraph(Model9)"
   ]
  },
  {
   "cell_type": "code",
   "execution_count": null,
   "id": "c5d7408b",
   "metadata": {},
   "outputs": [],
   "source": [
    "plot_predictions2(model9, X3_test, y3_test)"
   ]
  },
  {
   "cell_type": "code",
   "execution_count": null,
   "id": "6659fa43",
   "metadata": {},
   "outputs": [],
   "source": [
    "input_shape = (7,17)  # Replace input_dim with your input sequence length\n",
    "\n",
    "# Create the Sequential model\n",
    "model10 = Sequential()\n",
    "model10.add(InputLayer((7, 17)))\n",
    "# Add the convolutional layers\n",
    "model10.add(Conv1D(filters=32, kernel_size=3, padding='same', activation='relu', input_shape=input_shape))\n",
    "model10.add(Conv1D(filters=64, kernel_size=3, padding='same', activation='relu'))\n",
    "\n",
    "# Add the max pooling layer\n",
    "model10.add(MaxPooling1D(pool_size=2))\n",
    "\n",
    "# Add the LSTM layer\n",
    "model10.add(LSTM(units=64, return_sequences=False))\n",
    "model10.add(AttentionLayer())\n",
    "model10.add(Dense(units=8, activation='relu'))\n",
    "\n",
    "# Add the output dense layer\n",
    "model10.add(Dense(units=2, activation='linear'))  # Replace output_dim with your desired output dimensionality\n",
    "\n",
    "model10.summary()\n"
   ]
  },
  {
   "cell_type": "code",
   "execution_count": null,
   "id": "acc09fa5",
   "metadata": {},
   "outputs": [],
   "source": [
    "from tensorflow.keras.losses import MeanSquaredError\n",
    "from tensorflow.keras.metrics import RootMeanSquaredError\n",
    "\n",
    "cp10 = ModelCheckpoint('model10/', save_best_only=True)\n",
    "model10.compile(loss=MeanSquaredError(), optimizer=tf.keras.optimizers.legacy.Adam(learning_rate=0.0001), metrics=[RootMeanSquaredError()])\n",
    "Model10 = model10.fit(X3_train, y3_train, validation_data=(X3_val, y3_val), epochs=50, callbacks=[cp10])"
   ]
  },
  {
   "cell_type": "code",
   "execution_count": null,
   "id": "e167cad0",
   "metadata": {},
   "outputs": [],
   "source": [
    "pltGraph(Model10)"
   ]
  },
  {
   "cell_type": "code",
   "execution_count": null,
   "id": "63368157",
   "metadata": {},
   "outputs": [],
   "source": [
    "plot_predictions2(model10, X3_test, y3_test)"
   ]
  },
  {
   "cell_type": "markdown",
   "id": "e0af9b6a",
   "metadata": {},
   "source": [
    " #   TCN MODEL 11"
   ]
  },
  {
   "cell_type": "code",
   "execution_count": null,
   "id": "f5e4cdff",
   "metadata": {},
   "outputs": [],
   "source": [
    "\n",
    "input_shape = (7, 17)\n",
    "num_filters = 32\n",
    "kernel_size = 3\n",
    "dilation_rates = [2**i for i in range(5)]  # Example dilation rates\n",
    "output_size = 2  # Assuming 2 output units for prediction\n",
    "\n",
    "model11 = Sequential()\n",
    "    \n",
    "    # Add the convolutional layers\n",
    "model11.add(Conv1D(filters=num_filters, kernel_size=kernel_size, padding='same', activation='relu', input_shape=input_shape))\n",
    "model11.add(Conv1D(filters=num_filters, kernel_size=kernel_size, padding='same', activation='relu'))\n",
    "    \n",
    "    # Add the max pooling layer\n",
    "model11.add(MaxPooling1D(pool_size=2))\n",
    "    \n",
    "    # Add the TCN layers\n",
    "for dilation_rate in dilation_rates:\n",
    "    model11.add(Conv1D(filters=num_filters, kernel_size=kernel_size, padding='causal', dilation_rate=dilation_rate, activation='relu'))\n",
    "    \n",
    "    # Add BatchNormalization\n",
    "model11.add(BatchNormalization())\n",
    "    \n",
    "    \n",
    "    # Add the LSTM layer\n",
    "model11.add(LSTM(units=64, return_sequences=False))\n",
    "model11.add(AttentionLayer())\n",
    "    # Add a dense layer\n",
    "model11.add(Dense(units=8, activation='relu'))\n",
    "    \n",
    "    # Add the output dense layer\n",
    "model11.add(Dense(units=output_size, activation='linear'))\n",
    "    \n",
    "\n",
    "# Print model summary\n",
    "model11.summary()\n"
   ]
  },
  {
   "cell_type": "code",
   "execution_count": null,
   "id": "4177fe48",
   "metadata": {},
   "outputs": [],
   "source": [
    "from tensorflow.keras.losses import MeanSquaredError\n",
    "from tensorflow.keras.metrics import RootMeanSquaredError\n",
    "\n",
    "cp11 = ModelCheckpoint('model11/', save_best_only=True)\n",
    "model11.compile(loss=MeanSquaredError(), optimizer=tf.keras.optimizers.legacy.Adam(learning_rate=0.0001), metrics=[RootMeanSquaredError()])\n",
    "Model11 = model11.fit(X3_train, y3_train, validation_data=(X3_val, y3_val), epochs=50, callbacks=[cp11])"
   ]
  },
  {
   "cell_type": "code",
   "execution_count": null,
   "id": "e1dd053b",
   "metadata": {},
   "outputs": [],
   "source": [
    "pltGraph(Model11)\n",
    "plot_predictions2(model11, X3_test, y3_test)"
   ]
  },
  {
   "cell_type": "markdown",
   "id": "a88b1727",
   "metadata": {},
   "source": [
    "# Model 12"
   ]
  },
  {
   "cell_type": "code",
   "execution_count": 82,
   "id": "d26d58cd",
   "metadata": {},
   "outputs": [
    {
     "name": "stdout",
     "output_type": "stream",
     "text": [
      "Model: \"sequential_9\"\n",
      "_________________________________________________________________\n",
      " Layer (type)                Output Shape              Param #   \n",
      "=================================================================\n",
      " conv1d_15 (Conv1D)          (None, 10, 32)            1280      \n",
      "                                                                 \n",
      " conv1d_16 (Conv1D)          (None, 10, 64)            6208      \n",
      "                                                                 \n",
      " lstm_18 (LSTM)              (None, 128)               98816     \n",
      "                                                                 \n",
      " dense_18 (Dense)            (None, 16)                2064      \n",
      "                                                                 \n",
      " dense_19 (Dense)            (None, 1)                 17        \n",
      "                                                                 \n",
      "=================================================================\n",
      "Total params: 108385 (423.38 KB)\n",
      "Trainable params: 108385 (423.38 KB)\n",
      "Non-trainable params: 0 (0.00 Byte)\n",
      "_________________________________________________________________\n"
     ]
    }
   ],
   "source": [
    "from tensorflow.keras.layers import Conv1D, LSTM\n",
    "\n",
    "\n",
    "input_shape = (10, 13) \n",
    "\n",
    "model12 = Sequential()\n",
    "\n",
    "\n",
    "model12.add(Conv1D(filters=32, kernel_size=3, padding='same', activation='relu', input_shape=input_shape))\n",
    "model12.add(Conv1D(filters=64, kernel_size=3, padding='same', activation='relu'))\n",
    "# model12.add(Conv1D(filters=128, kernel_size=3, padding='same', activation='relu'))\n",
    "\n",
    "\n",
    "model12.add(LSTM(units=64, return_sequences=True))\n",
    "model12.add(LSTM(units=64, return_sequences=True))\n",
    "model12.add(LSTM(units=128, return_sequences=False))\n",
    "\n",
    "\n",
    "model12.add(Dense(units=8, activation='relu'))\n",
    "model12.add(Dense(units=1, activation='linear'))\n",
    "\n",
    "model12.summary()\n"
   ]
  },
  {
   "cell_type": "code",
   "execution_count": 83,
   "id": "41a89eb7",
   "metadata": {},
   "outputs": [
    {
     "name": "stdout",
     "output_type": "stream",
     "text": [
      "Epoch 1/50\n",
      "125/125 [==============================] - ETA: 0s - loss: 1.0191 - root_mean_squared_error: 1.0095INFO:tensorflow:Assets written to: models/model12_winsize10/assets\n"
     ]
    },
    {
     "name": "stderr",
     "output_type": "stream",
     "text": [
      "INFO:tensorflow:Assets written to: models/model12_winsize10/assets\n"
     ]
    },
    {
     "name": "stdout",
     "output_type": "stream",
     "text": [
      "125/125 [==============================] - 8s 50ms/step - loss: 1.0191 - root_mean_squared_error: 1.0095 - val_loss: 0.7813 - val_root_mean_squared_error: 0.8839\n",
      "Epoch 2/50\n",
      "125/125 [==============================] - ETA: 0s - loss: 0.9579 - root_mean_squared_error: 0.9787INFO:tensorflow:Assets written to: models/model12_winsize10/assets\n"
     ]
    },
    {
     "name": "stderr",
     "output_type": "stream",
     "text": [
      "INFO:tensorflow:Assets written to: models/model12_winsize10/assets\n"
     ]
    },
    {
     "name": "stdout",
     "output_type": "stream",
     "text": [
      "125/125 [==============================] - 4s 30ms/step - loss: 0.9579 - root_mean_squared_error: 0.9787 - val_loss: 0.7488 - val_root_mean_squared_error: 0.8653\n",
      "Epoch 3/50\n",
      "125/125 [==============================] - 2s 18ms/step - loss: 0.9282 - root_mean_squared_error: 0.9635 - val_loss: 0.8353 - val_root_mean_squared_error: 0.9139\n",
      "Epoch 4/50\n",
      "125/125 [==============================] - 2s 16ms/step - loss: 0.9036 - root_mean_squared_error: 0.9506 - val_loss: 1.0252 - val_root_mean_squared_error: 1.0125\n",
      "Epoch 5/50\n",
      "125/125 [==============================] - ETA: 0s - loss: 0.8820 - root_mean_squared_error: 0.9391INFO:tensorflow:Assets written to: models/model12_winsize10/assets\n"
     ]
    },
    {
     "name": "stderr",
     "output_type": "stream",
     "text": [
      "INFO:tensorflow:Assets written to: models/model12_winsize10/assets\n"
     ]
    },
    {
     "name": "stdout",
     "output_type": "stream",
     "text": [
      "125/125 [==============================] - 4s 31ms/step - loss: 0.8820 - root_mean_squared_error: 0.9391 - val_loss: 0.6542 - val_root_mean_squared_error: 0.8088\n",
      "Epoch 6/50\n",
      " 64/125 [==============>...............] - ETA: 0s - loss: 0.8720 - root_mean_squared_error: 0.9338"
     ]
    },
    {
     "ename": "KeyboardInterrupt",
     "evalue": "",
     "output_type": "error",
     "traceback": [
      "\u001b[0;31m---------------------------------------------------------------------------\u001b[0m",
      "\u001b[0;31mKeyboardInterrupt\u001b[0m                         Traceback (most recent call last)",
      "Cell \u001b[0;32mIn[83], line 6\u001b[0m\n\u001b[1;32m      4\u001b[0m cp12 \u001b[38;5;241m=\u001b[39m ModelCheckpoint(\u001b[38;5;124m'\u001b[39m\u001b[38;5;124mmodels/model12_winsize10/\u001b[39m\u001b[38;5;124m'\u001b[39m, save_best_only\u001b[38;5;241m=\u001b[39m\u001b[38;5;28;01mTrue\u001b[39;00m)\n\u001b[1;32m      5\u001b[0m model12\u001b[38;5;241m.\u001b[39mcompile(loss\u001b[38;5;241m=\u001b[39mMeanSquaredError(), optimizer\u001b[38;5;241m=\u001b[39mtf\u001b[38;5;241m.\u001b[39mkeras\u001b[38;5;241m.\u001b[39moptimizers\u001b[38;5;241m.\u001b[39mlegacy\u001b[38;5;241m.\u001b[39mAdam(learning_rate\u001b[38;5;241m=\u001b[39m\u001b[38;5;241m0.0001\u001b[39m), metrics\u001b[38;5;241m=\u001b[39m[RootMeanSquaredError()])\n\u001b[0;32m----> 6\u001b[0m Model12 \u001b[38;5;241m=\u001b[39m model12\u001b[38;5;241m.\u001b[39mfit(X3_train, y3_train, validation_data\u001b[38;5;241m=\u001b[39m(X3_val, y3_val), epochs\u001b[38;5;241m=\u001b[39m\u001b[38;5;241m50\u001b[39m, callbacks\u001b[38;5;241m=\u001b[39m[cp12])\n",
      "File \u001b[0;32m~/anaconda3/lib/python3.11/site-packages/keras/src/utils/traceback_utils.py:65\u001b[0m, in \u001b[0;36mfilter_traceback.<locals>.error_handler\u001b[0;34m(*args, **kwargs)\u001b[0m\n\u001b[1;32m     63\u001b[0m filtered_tb \u001b[38;5;241m=\u001b[39m \u001b[38;5;28;01mNone\u001b[39;00m\n\u001b[1;32m     64\u001b[0m \u001b[38;5;28;01mtry\u001b[39;00m:\n\u001b[0;32m---> 65\u001b[0m     \u001b[38;5;28;01mreturn\u001b[39;00m fn(\u001b[38;5;241m*\u001b[39margs, \u001b[38;5;241m*\u001b[39m\u001b[38;5;241m*\u001b[39mkwargs)\n\u001b[1;32m     66\u001b[0m \u001b[38;5;28;01mexcept\u001b[39;00m \u001b[38;5;167;01mException\u001b[39;00m \u001b[38;5;28;01mas\u001b[39;00m e:\n\u001b[1;32m     67\u001b[0m     filtered_tb \u001b[38;5;241m=\u001b[39m _process_traceback_frames(e\u001b[38;5;241m.\u001b[39m__traceback__)\n",
      "File \u001b[0;32m~/anaconda3/lib/python3.11/site-packages/keras/src/engine/training.py:1807\u001b[0m, in \u001b[0;36mModel.fit\u001b[0;34m(self, x, y, batch_size, epochs, verbose, callbacks, validation_split, validation_data, shuffle, class_weight, sample_weight, initial_epoch, steps_per_epoch, validation_steps, validation_batch_size, validation_freq, max_queue_size, workers, use_multiprocessing)\u001b[0m\n\u001b[1;32m   1799\u001b[0m \u001b[38;5;28;01mwith\u001b[39;00m tf\u001b[38;5;241m.\u001b[39mprofiler\u001b[38;5;241m.\u001b[39mexperimental\u001b[38;5;241m.\u001b[39mTrace(\n\u001b[1;32m   1800\u001b[0m     \u001b[38;5;124m\"\u001b[39m\u001b[38;5;124mtrain\u001b[39m\u001b[38;5;124m\"\u001b[39m,\n\u001b[1;32m   1801\u001b[0m     epoch_num\u001b[38;5;241m=\u001b[39mepoch,\n\u001b[0;32m   (...)\u001b[0m\n\u001b[1;32m   1804\u001b[0m     _r\u001b[38;5;241m=\u001b[39m\u001b[38;5;241m1\u001b[39m,\n\u001b[1;32m   1805\u001b[0m ):\n\u001b[1;32m   1806\u001b[0m     callbacks\u001b[38;5;241m.\u001b[39mon_train_batch_begin(step)\n\u001b[0;32m-> 1807\u001b[0m     tmp_logs \u001b[38;5;241m=\u001b[39m \u001b[38;5;28mself\u001b[39m\u001b[38;5;241m.\u001b[39mtrain_function(iterator)\n\u001b[1;32m   1808\u001b[0m     \u001b[38;5;28;01mif\u001b[39;00m data_handler\u001b[38;5;241m.\u001b[39mshould_sync:\n\u001b[1;32m   1809\u001b[0m         context\u001b[38;5;241m.\u001b[39masync_wait()\n",
      "File \u001b[0;32m~/anaconda3/lib/python3.11/site-packages/tensorflow/python/util/traceback_utils.py:150\u001b[0m, in \u001b[0;36mfilter_traceback.<locals>.error_handler\u001b[0;34m(*args, **kwargs)\u001b[0m\n\u001b[1;32m    148\u001b[0m filtered_tb \u001b[38;5;241m=\u001b[39m \u001b[38;5;28;01mNone\u001b[39;00m\n\u001b[1;32m    149\u001b[0m \u001b[38;5;28;01mtry\u001b[39;00m:\n\u001b[0;32m--> 150\u001b[0m   \u001b[38;5;28;01mreturn\u001b[39;00m fn(\u001b[38;5;241m*\u001b[39margs, \u001b[38;5;241m*\u001b[39m\u001b[38;5;241m*\u001b[39mkwargs)\n\u001b[1;32m    151\u001b[0m \u001b[38;5;28;01mexcept\u001b[39;00m \u001b[38;5;167;01mException\u001b[39;00m \u001b[38;5;28;01mas\u001b[39;00m e:\n\u001b[1;32m    152\u001b[0m   filtered_tb \u001b[38;5;241m=\u001b[39m _process_traceback_frames(e\u001b[38;5;241m.\u001b[39m__traceback__)\n",
      "File \u001b[0;32m~/anaconda3/lib/python3.11/site-packages/tensorflow/python/eager/polymorphic_function/polymorphic_function.py:832\u001b[0m, in \u001b[0;36mFunction.__call__\u001b[0;34m(self, *args, **kwds)\u001b[0m\n\u001b[1;32m    829\u001b[0m compiler \u001b[38;5;241m=\u001b[39m \u001b[38;5;124m\"\u001b[39m\u001b[38;5;124mxla\u001b[39m\u001b[38;5;124m\"\u001b[39m \u001b[38;5;28;01mif\u001b[39;00m \u001b[38;5;28mself\u001b[39m\u001b[38;5;241m.\u001b[39m_jit_compile \u001b[38;5;28;01melse\u001b[39;00m \u001b[38;5;124m\"\u001b[39m\u001b[38;5;124mnonXla\u001b[39m\u001b[38;5;124m\"\u001b[39m\n\u001b[1;32m    831\u001b[0m \u001b[38;5;28;01mwith\u001b[39;00m OptionalXlaContext(\u001b[38;5;28mself\u001b[39m\u001b[38;5;241m.\u001b[39m_jit_compile):\n\u001b[0;32m--> 832\u001b[0m   result \u001b[38;5;241m=\u001b[39m \u001b[38;5;28mself\u001b[39m\u001b[38;5;241m.\u001b[39m_call(\u001b[38;5;241m*\u001b[39margs, \u001b[38;5;241m*\u001b[39m\u001b[38;5;241m*\u001b[39mkwds)\n\u001b[1;32m    834\u001b[0m new_tracing_count \u001b[38;5;241m=\u001b[39m \u001b[38;5;28mself\u001b[39m\u001b[38;5;241m.\u001b[39mexperimental_get_tracing_count()\n\u001b[1;32m    835\u001b[0m without_tracing \u001b[38;5;241m=\u001b[39m (tracing_count \u001b[38;5;241m==\u001b[39m new_tracing_count)\n",
      "File \u001b[0;32m~/anaconda3/lib/python3.11/site-packages/tensorflow/python/eager/polymorphic_function/polymorphic_function.py:868\u001b[0m, in \u001b[0;36mFunction._call\u001b[0;34m(self, *args, **kwds)\u001b[0m\n\u001b[1;32m    865\u001b[0m   \u001b[38;5;28mself\u001b[39m\u001b[38;5;241m.\u001b[39m_lock\u001b[38;5;241m.\u001b[39mrelease()\n\u001b[1;32m    866\u001b[0m   \u001b[38;5;66;03m# In this case we have created variables on the first call, so we run the\u001b[39;00m\n\u001b[1;32m    867\u001b[0m   \u001b[38;5;66;03m# defunned version which is guaranteed to never create variables.\u001b[39;00m\n\u001b[0;32m--> 868\u001b[0m   \u001b[38;5;28;01mreturn\u001b[39;00m tracing_compilation\u001b[38;5;241m.\u001b[39mcall_function(\n\u001b[1;32m    869\u001b[0m       args, kwds, \u001b[38;5;28mself\u001b[39m\u001b[38;5;241m.\u001b[39m_no_variable_creation_config\n\u001b[1;32m    870\u001b[0m   )\n\u001b[1;32m    871\u001b[0m \u001b[38;5;28;01melif\u001b[39;00m \u001b[38;5;28mself\u001b[39m\u001b[38;5;241m.\u001b[39m_variable_creation_config \u001b[38;5;129;01mis\u001b[39;00m \u001b[38;5;129;01mnot\u001b[39;00m \u001b[38;5;28;01mNone\u001b[39;00m:\n\u001b[1;32m    872\u001b[0m   \u001b[38;5;66;03m# Release the lock early so that multiple threads can perform the call\u001b[39;00m\n\u001b[1;32m    873\u001b[0m   \u001b[38;5;66;03m# in parallel.\u001b[39;00m\n\u001b[1;32m    874\u001b[0m   \u001b[38;5;28mself\u001b[39m\u001b[38;5;241m.\u001b[39m_lock\u001b[38;5;241m.\u001b[39mrelease()\n",
      "File \u001b[0;32m~/anaconda3/lib/python3.11/site-packages/tensorflow/python/eager/polymorphic_function/tracing_compilation.py:139\u001b[0m, in \u001b[0;36mcall_function\u001b[0;34m(args, kwargs, tracing_options)\u001b[0m\n\u001b[1;32m    137\u001b[0m bound_args \u001b[38;5;241m=\u001b[39m function\u001b[38;5;241m.\u001b[39mfunction_type\u001b[38;5;241m.\u001b[39mbind(\u001b[38;5;241m*\u001b[39margs, \u001b[38;5;241m*\u001b[39m\u001b[38;5;241m*\u001b[39mkwargs)\n\u001b[1;32m    138\u001b[0m flat_inputs \u001b[38;5;241m=\u001b[39m function\u001b[38;5;241m.\u001b[39mfunction_type\u001b[38;5;241m.\u001b[39munpack_inputs(bound_args)\n\u001b[0;32m--> 139\u001b[0m \u001b[38;5;28;01mreturn\u001b[39;00m function\u001b[38;5;241m.\u001b[39m_call_flat(  \u001b[38;5;66;03m# pylint: disable=protected-access\u001b[39;00m\n\u001b[1;32m    140\u001b[0m     flat_inputs, captured_inputs\u001b[38;5;241m=\u001b[39mfunction\u001b[38;5;241m.\u001b[39mcaptured_inputs\n\u001b[1;32m    141\u001b[0m )\n",
      "File \u001b[0;32m~/anaconda3/lib/python3.11/site-packages/tensorflow/python/eager/polymorphic_function/concrete_function.py:1323\u001b[0m, in \u001b[0;36mConcreteFunction._call_flat\u001b[0;34m(self, tensor_inputs, captured_inputs)\u001b[0m\n\u001b[1;32m   1319\u001b[0m possible_gradient_type \u001b[38;5;241m=\u001b[39m gradients_util\u001b[38;5;241m.\u001b[39mPossibleTapeGradientTypes(args)\n\u001b[1;32m   1320\u001b[0m \u001b[38;5;28;01mif\u001b[39;00m (possible_gradient_type \u001b[38;5;241m==\u001b[39m gradients_util\u001b[38;5;241m.\u001b[39mPOSSIBLE_GRADIENT_TYPES_NONE\n\u001b[1;32m   1321\u001b[0m     \u001b[38;5;129;01mand\u001b[39;00m executing_eagerly):\n\u001b[1;32m   1322\u001b[0m   \u001b[38;5;66;03m# No tape is watching; skip to running the function.\u001b[39;00m\n\u001b[0;32m-> 1323\u001b[0m   \u001b[38;5;28;01mreturn\u001b[39;00m \u001b[38;5;28mself\u001b[39m\u001b[38;5;241m.\u001b[39m_inference_function\u001b[38;5;241m.\u001b[39mcall_preflattened(args)\n\u001b[1;32m   1324\u001b[0m forward_backward \u001b[38;5;241m=\u001b[39m \u001b[38;5;28mself\u001b[39m\u001b[38;5;241m.\u001b[39m_select_forward_and_backward_functions(\n\u001b[1;32m   1325\u001b[0m     args,\n\u001b[1;32m   1326\u001b[0m     possible_gradient_type,\n\u001b[1;32m   1327\u001b[0m     executing_eagerly)\n\u001b[1;32m   1328\u001b[0m forward_function, args_with_tangents \u001b[38;5;241m=\u001b[39m forward_backward\u001b[38;5;241m.\u001b[39mforward()\n",
      "File \u001b[0;32m~/anaconda3/lib/python3.11/site-packages/tensorflow/python/eager/polymorphic_function/atomic_function.py:216\u001b[0m, in \u001b[0;36mAtomicFunction.call_preflattened\u001b[0;34m(self, args)\u001b[0m\n\u001b[1;32m    214\u001b[0m \u001b[38;5;28;01mdef\u001b[39;00m \u001b[38;5;21mcall_preflattened\u001b[39m(\u001b[38;5;28mself\u001b[39m, args: Sequence[core\u001b[38;5;241m.\u001b[39mTensor]) \u001b[38;5;241m-\u001b[39m\u001b[38;5;241m>\u001b[39m Any:\n\u001b[1;32m    215\u001b[0m \u001b[38;5;250m  \u001b[39m\u001b[38;5;124;03m\"\"\"Calls with flattened tensor inputs and returns the structured output.\"\"\"\u001b[39;00m\n\u001b[0;32m--> 216\u001b[0m   flat_outputs \u001b[38;5;241m=\u001b[39m \u001b[38;5;28mself\u001b[39m\u001b[38;5;241m.\u001b[39mcall_flat(\u001b[38;5;241m*\u001b[39margs)\n\u001b[1;32m    217\u001b[0m   \u001b[38;5;28;01mreturn\u001b[39;00m \u001b[38;5;28mself\u001b[39m\u001b[38;5;241m.\u001b[39mfunction_type\u001b[38;5;241m.\u001b[39mpack_output(flat_outputs)\n",
      "File \u001b[0;32m~/anaconda3/lib/python3.11/site-packages/tensorflow/python/eager/polymorphic_function/atomic_function.py:251\u001b[0m, in \u001b[0;36mAtomicFunction.call_flat\u001b[0;34m(self, *args)\u001b[0m\n\u001b[1;32m    249\u001b[0m \u001b[38;5;28;01mwith\u001b[39;00m record\u001b[38;5;241m.\u001b[39mstop_recording():\n\u001b[1;32m    250\u001b[0m   \u001b[38;5;28;01mif\u001b[39;00m \u001b[38;5;28mself\u001b[39m\u001b[38;5;241m.\u001b[39m_bound_context\u001b[38;5;241m.\u001b[39mexecuting_eagerly():\n\u001b[0;32m--> 251\u001b[0m     outputs \u001b[38;5;241m=\u001b[39m \u001b[38;5;28mself\u001b[39m\u001b[38;5;241m.\u001b[39m_bound_context\u001b[38;5;241m.\u001b[39mcall_function(\n\u001b[1;32m    252\u001b[0m         \u001b[38;5;28mself\u001b[39m\u001b[38;5;241m.\u001b[39mname,\n\u001b[1;32m    253\u001b[0m         \u001b[38;5;28mlist\u001b[39m(args),\n\u001b[1;32m    254\u001b[0m         \u001b[38;5;28mlen\u001b[39m(\u001b[38;5;28mself\u001b[39m\u001b[38;5;241m.\u001b[39mfunction_type\u001b[38;5;241m.\u001b[39mflat_outputs),\n\u001b[1;32m    255\u001b[0m     )\n\u001b[1;32m    256\u001b[0m   \u001b[38;5;28;01melse\u001b[39;00m:\n\u001b[1;32m    257\u001b[0m     outputs \u001b[38;5;241m=\u001b[39m make_call_op_in_graph(\n\u001b[1;32m    258\u001b[0m         \u001b[38;5;28mself\u001b[39m,\n\u001b[1;32m    259\u001b[0m         \u001b[38;5;28mlist\u001b[39m(args),\n\u001b[1;32m    260\u001b[0m         \u001b[38;5;28mself\u001b[39m\u001b[38;5;241m.\u001b[39m_bound_context\u001b[38;5;241m.\u001b[39mfunction_call_options\u001b[38;5;241m.\u001b[39mas_attrs(),\n\u001b[1;32m    261\u001b[0m     )\n",
      "File \u001b[0;32m~/anaconda3/lib/python3.11/site-packages/tensorflow/python/eager/context.py:1486\u001b[0m, in \u001b[0;36mContext.call_function\u001b[0;34m(self, name, tensor_inputs, num_outputs)\u001b[0m\n\u001b[1;32m   1484\u001b[0m cancellation_context \u001b[38;5;241m=\u001b[39m cancellation\u001b[38;5;241m.\u001b[39mcontext()\n\u001b[1;32m   1485\u001b[0m \u001b[38;5;28;01mif\u001b[39;00m cancellation_context \u001b[38;5;129;01mis\u001b[39;00m \u001b[38;5;28;01mNone\u001b[39;00m:\n\u001b[0;32m-> 1486\u001b[0m   outputs \u001b[38;5;241m=\u001b[39m execute\u001b[38;5;241m.\u001b[39mexecute(\n\u001b[1;32m   1487\u001b[0m       name\u001b[38;5;241m.\u001b[39mdecode(\u001b[38;5;124m\"\u001b[39m\u001b[38;5;124mutf-8\u001b[39m\u001b[38;5;124m\"\u001b[39m),\n\u001b[1;32m   1488\u001b[0m       num_outputs\u001b[38;5;241m=\u001b[39mnum_outputs,\n\u001b[1;32m   1489\u001b[0m       inputs\u001b[38;5;241m=\u001b[39mtensor_inputs,\n\u001b[1;32m   1490\u001b[0m       attrs\u001b[38;5;241m=\u001b[39mattrs,\n\u001b[1;32m   1491\u001b[0m       ctx\u001b[38;5;241m=\u001b[39m\u001b[38;5;28mself\u001b[39m,\n\u001b[1;32m   1492\u001b[0m   )\n\u001b[1;32m   1493\u001b[0m \u001b[38;5;28;01melse\u001b[39;00m:\n\u001b[1;32m   1494\u001b[0m   outputs \u001b[38;5;241m=\u001b[39m execute\u001b[38;5;241m.\u001b[39mexecute_with_cancellation(\n\u001b[1;32m   1495\u001b[0m       name\u001b[38;5;241m.\u001b[39mdecode(\u001b[38;5;124m\"\u001b[39m\u001b[38;5;124mutf-8\u001b[39m\u001b[38;5;124m\"\u001b[39m),\n\u001b[1;32m   1496\u001b[0m       num_outputs\u001b[38;5;241m=\u001b[39mnum_outputs,\n\u001b[0;32m   (...)\u001b[0m\n\u001b[1;32m   1500\u001b[0m       cancellation_manager\u001b[38;5;241m=\u001b[39mcancellation_context,\n\u001b[1;32m   1501\u001b[0m   )\n",
      "File \u001b[0;32m~/anaconda3/lib/python3.11/site-packages/tensorflow/python/eager/execute.py:53\u001b[0m, in \u001b[0;36mquick_execute\u001b[0;34m(op_name, num_outputs, inputs, attrs, ctx, name)\u001b[0m\n\u001b[1;32m     51\u001b[0m \u001b[38;5;28;01mtry\u001b[39;00m:\n\u001b[1;32m     52\u001b[0m   ctx\u001b[38;5;241m.\u001b[39mensure_initialized()\n\u001b[0;32m---> 53\u001b[0m   tensors \u001b[38;5;241m=\u001b[39m pywrap_tfe\u001b[38;5;241m.\u001b[39mTFE_Py_Execute(ctx\u001b[38;5;241m.\u001b[39m_handle, device_name, op_name,\n\u001b[1;32m     54\u001b[0m                                       inputs, attrs, num_outputs)\n\u001b[1;32m     55\u001b[0m \u001b[38;5;28;01mexcept\u001b[39;00m core\u001b[38;5;241m.\u001b[39m_NotOkStatusException \u001b[38;5;28;01mas\u001b[39;00m e:\n\u001b[1;32m     56\u001b[0m   \u001b[38;5;28;01mif\u001b[39;00m name \u001b[38;5;129;01mis\u001b[39;00m \u001b[38;5;129;01mnot\u001b[39;00m \u001b[38;5;28;01mNone\u001b[39;00m:\n",
      "\u001b[0;31mKeyboardInterrupt\u001b[0m: "
     ]
    }
   ],
   "source": [
    "from tensorflow.keras.losses import MeanSquaredError\n",
    "from tensorflow.keras.metrics import RootMeanSquaredError\n",
    "\n",
    "cp12 = ModelCheckpoint('models/model12_winsize10/', save_best_only=True)\n",
    "model12.compile(loss=MeanSquaredError(), optimizer=tf.keras.optimizers.legacy.Adam(learning_rate=0.0001), metrics=[RootMeanSquaredError()])\n",
    "Model12 = model12.fit(X3_train, y3_train, validation_data=(X3_val, y3_val), epochs=50, callbacks=[cp12])"
   ]
  },
  {
   "cell_type": "code",
   "execution_count": null,
   "id": "2d300ce4",
   "metadata": {},
   "outputs": [],
   "source": [
    "pltGraph(Model12)"
   ]
  },
  {
   "cell_type": "code",
   "execution_count": null,
   "id": "369addf3",
   "metadata": {},
   "outputs": [],
   "source": [
    "plot_predictions2(model12, X3_test, y3_test)"
   ]
  },
  {
   "cell_type": "code",
   "execution_count": null,
   "id": "3b0faf91",
   "metadata": {},
   "outputs": [],
   "source": []
  },
  {
   "cell_type": "code",
   "execution_count": 104,
   "id": "834d152a",
   "metadata": {},
   "outputs": [],
   "source": []
  },
  {
   "cell_type": "code",
   "execution_count": 108,
   "id": "c05602cb",
   "metadata": {},
   "outputs": [
    {
     "ename": "SyntaxError",
     "evalue": "'(' was never closed (782364876.py, line 2)",
     "output_type": "error",
     "traceback": [
      "\u001b[0;36m  Cell \u001b[0;32mIn[108], line 2\u001b[0;36m\u001b[0m\n\u001b[0;31m    model_cnn_lstm.add(TimeDistributed(Conv1D(filters=64, kernel_size=1, activation='relu'), input_shape=(10,13)\u001b[0m\n\u001b[0m                                      ^\u001b[0m\n\u001b[0;31mSyntaxError\u001b[0m\u001b[0;31m:\u001b[0m '(' was never closed\n"
     ]
    }
   ],
   "source": []
  },
  {
   "cell_type": "code",
   "execution_count": null,
   "id": "86be0f7c",
   "metadata": {},
   "outputs": [],
   "source": []
  }
 ],
 "metadata": {
  "kernelspec": {
   "display_name": "Python 3 (ipykernel)",
   "language": "python",
   "name": "python3"
  },
  "language_info": {
   "codemirror_mode": {
    "name": "ipython",
    "version": 3
   },
   "file_extension": ".py",
   "mimetype": "text/x-python",
   "name": "python",
   "nbconvert_exporter": "python",
   "pygments_lexer": "ipython3",
   "version": "3.11.5"
  }
 },
 "nbformat": 4,
 "nbformat_minor": 5
}
